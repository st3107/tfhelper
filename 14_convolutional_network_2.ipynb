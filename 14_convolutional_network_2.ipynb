{
 "cells": [
  {
   "cell_type": "markdown",
   "id": "f3d9670e-2a2c-4bf1-a315-9796c6789dc9",
   "metadata": {},
   "source": [
    "# CNN + FC\n",
    "\n",
    "How about decrease the number of filters so that the model is less complex to avoid over fitting."
   ]
  },
  {
   "cell_type": "markdown",
   "id": "804cd7c3-db80-4fa9-9d89-4f801ad7d1ed",
   "metadata": {
    "tags": []
   },
   "source": [
    "## Import necessary modules"
   ]
  },
  {
   "cell_type": "code",
   "execution_count": 1,
   "id": "cd85d865-3548-45b8-bf17-c6cdb4234763",
   "metadata": {},
   "outputs": [],
   "source": [
    "# python built-in libraries\n",
    "import datetime"
   ]
  },
  {
   "cell_type": "code",
   "execution_count": 2,
   "id": "56327e98-27db-4fcf-aa87-dde8512b87a2",
   "metadata": {},
   "outputs": [],
   "source": [
    "# choose the tensorflow log level\n",
    "import os\n",
    "os.environ['TF_CPP_MIN_LOG_LEVEL'] = '3'  # or any {'0', '1', '2'}"
   ]
  },
  {
   "cell_type": "code",
   "execution_count": 3,
   "id": "f930e0a7-cbc7-4f7e-8fe6-d50a90e4dcd1",
   "metadata": {},
   "outputs": [],
   "source": [
    "# import tensorflow\n",
    "import tensorflow as tf\n",
    "from tensorflow import keras\n",
    "from tensorflow.keras import layers"
   ]
  },
  {
   "cell_type": "code",
   "execution_count": 4,
   "id": "f020f42a-6eed-4f9c-8e76-26f15f8fff51",
   "metadata": {},
   "outputs": [],
   "source": [
    "# ohter packages\n",
    "import numpy as np\n",
    "\n",
    "import tfhelper.core as tfhelper"
   ]
  },
  {
   "cell_type": "markdown",
   "id": "e3bc5985-ee2c-44f0-9f07-68c483675b77",
   "metadata": {},
   "source": [
    "## Global Variables"
   ]
  },
  {
   "cell_type": "code",
   "execution_count": 5,
   "id": "82f389f0-549e-4dba-94ae-b963afe7b5fe",
   "metadata": {},
   "outputs": [],
   "source": [
    "# sampling\n",
    "FEATURES_FILE = \"./data/tensors/features.npy\"  # path to the file of the feature tensor\n",
    "LABELS_FILE = \"./data/tensors/labels.npy\"  # path to the file of the feature tensor\n",
    "FRACTIONS = (0.8, 0.1, 0.1)  # train, validation, test\n",
    "BATCH_SIZE = 128  # size of the batch\n",
    "BUFFER_SIZE = BATCH_SIZE * 2  # size of the shuffle buffer\n",
    "# training\n",
    "LEARNING_RATE = 0.001  # starting learning rate\n",
    "BETA1 = 0.9  # decay 1\n",
    "BETA2 = 0.999  # decay 2\n",
    "EPOCHS = 100  # number of epochs\n",
    "# saving\n",
    "TIME_STAMP = datetime.datetime.now().strftime(\"%Y%m%d-%H%M%S\")  # time stamp\n",
    "SAVE_LOC = \"./data/models/cnn_2_{}\".format(TIME_STAMP)  # path to the folder to save the model\n",
    "LOG_LOC = \"./data/logs/fit/cnn_2_{}\".format(TIME_STAMP)  # path to the log, if you change this, you also need to change it in the run_tensorboard"
   ]
  },
  {
   "cell_type": "markdown",
   "id": "6e2daffc-3f88-42de-be0e-f614c6e017ba",
   "metadata": {
    "tags": []
   },
   "source": [
    "## Obtain data\n",
    "\n",
    "The data is a 209 data point PDF. The label is a one-hot 2 dim vector. `10` means major phase >= threshold, `01` means major phase <= threshold."
   ]
  },
  {
   "cell_type": "code",
   "execution_count": 6,
   "id": "3d9be3eb-7058-4857-8eea-1cbee6674efa",
   "metadata": {},
   "outputs": [],
   "source": [
    "def load_data():\n",
    "    # load\n",
    "    features, labels = np.load(FEATURES_FILE), np.load(LABELS_FILE)\n",
    "    # shuffle\n",
    "    n = features.shape[0]\n",
    "    shuffled_idx = np.random.permutation(n)\n",
    "    features, labels = features[shuffled_idx], labels[shuffled_idx]\n",
    "    # split\n",
    "    f0, f1, f2 = FRACTIONS\n",
    "    i, j, k = round(f0 * n), round((f0 + f1) * n), round((f0 + f1 + f2) * n)\n",
    "    train_data = tf.data.Dataset.from_tensor_slices((features[:i], labels[:i])).shuffle(BUFFER_SIZE).batch(BATCH_SIZE)\n",
    "    valid_data = tf.data.Dataset.from_tensor_slices((features[i:j], labels[i:j])).batch(BATCH_SIZE)\n",
    "    test_data = tf.data.Dataset.from_tensor_slices((features[j:k], labels[j:k])).batch(BATCH_SIZE)\n",
    "    return train_data, valid_data, test_data"
   ]
  },
  {
   "cell_type": "code",
   "execution_count": 7,
   "id": "76111e4f-5ed3-4318-bee1-9595f8359e5e",
   "metadata": {},
   "outputs": [],
   "source": [
    "train_data, valid_data, test_data = load_data()"
   ]
  },
  {
   "cell_type": "markdown",
   "id": "66341557-8f2e-4edf-876e-015398a118ee",
   "metadata": {},
   "source": [
    "## Create the model\n",
    "\n",
    "We use the logistric regression. It is a single layer with a softmax function."
   ]
  },
  {
   "cell_type": "code",
   "execution_count": 8,
   "id": "2c9ea8fd-4674-47b1-b871-eec08a87b2c4",
   "metadata": {},
   "outputs": [],
   "source": [
    "def create_model():\n",
    "    model = keras.Sequential()\n",
    "    model.add(keras.Input(shape=(209,)))\n",
    "    model.add(keras.layers.Reshape((209, 1)))\n",
    "    model.add(keras.layers.Conv1D(16, 3, strides=1, activation='relu', padding=\"same\"))\n",
    "    model.add(keras.layers.Conv1D(16, 3, strides=1, activation='relu', padding=\"same\"))\n",
    "    model.add(keras.layers.BatchNormalization())\n",
    "    model.add(keras.layers.MaxPooling1D(2))\n",
    "    model.add(keras.layers.Conv1D(32, 3, strides=1, activation='relu', padding=\"same\"))\n",
    "    model.add(keras.layers.Conv1D(32, 3, strides=1, activation='relu', padding=\"same\"))\n",
    "    model.add(keras.layers.BatchNormalization())\n",
    "    model.add(keras.layers.MaxPooling1D(2))\n",
    "    model.add(keras.layers.Dropout(0.2))\n",
    "    model.add(keras.layers.Flatten())\n",
    "    model.add(keras.layers.Dense(256, activation='relu'))\n",
    "    model.add(keras.layers.Dense(128, activation='relu'))\n",
    "    model.add(keras.layers.Dense(64, activation='relu'))\n",
    "    model.add(keras.layers.Dense(2, activation='softmax'))\n",
    "    return model"
   ]
  },
  {
   "cell_type": "code",
   "execution_count": 9,
   "id": "505c4f8e-4b54-4343-877f-8bd6485d7cf3",
   "metadata": {},
   "outputs": [],
   "source": [
    "model = create_model()"
   ]
  },
  {
   "cell_type": "code",
   "execution_count": 10,
   "id": "3ab9ec7a-e391-4912-b9df-659f295ca313",
   "metadata": {},
   "outputs": [
    {
     "name": "stdout",
     "output_type": "stream",
     "text": [
      "Model: \"sequential\"\n",
      "_________________________________________________________________\n",
      "Layer (type)                 Output Shape              Param #   \n",
      "=================================================================\n",
      "reshape (Reshape)            (None, 209, 1)            0         \n",
      "_________________________________________________________________\n",
      "conv1d (Conv1D)              (None, 209, 16)           64        \n",
      "_________________________________________________________________\n",
      "conv1d_1 (Conv1D)            (None, 209, 16)           784       \n",
      "_________________________________________________________________\n",
      "batch_normalization (BatchNo (None, 209, 16)           64        \n",
      "_________________________________________________________________\n",
      "max_pooling1d (MaxPooling1D) (None, 104, 16)           0         \n",
      "_________________________________________________________________\n",
      "conv1d_2 (Conv1D)            (None, 104, 32)           1568      \n",
      "_________________________________________________________________\n",
      "conv1d_3 (Conv1D)            (None, 104, 32)           3104      \n",
      "_________________________________________________________________\n",
      "batch_normalization_1 (Batch (None, 104, 32)           128       \n",
      "_________________________________________________________________\n",
      "max_pooling1d_1 (MaxPooling1 (None, 52, 32)            0         \n",
      "_________________________________________________________________\n",
      "dropout (Dropout)            (None, 52, 32)            0         \n",
      "_________________________________________________________________\n",
      "flatten (Flatten)            (None, 1664)              0         \n",
      "_________________________________________________________________\n",
      "dense (Dense)                (None, 256)               426240    \n",
      "_________________________________________________________________\n",
      "dense_1 (Dense)              (None, 128)               32896     \n",
      "_________________________________________________________________\n",
      "dense_2 (Dense)              (None, 64)                8256      \n",
      "_________________________________________________________________\n",
      "dense_3 (Dense)              (None, 2)                 130       \n",
      "=================================================================\n",
      "Total params: 473,234\n",
      "Trainable params: 473,138\n",
      "Non-trainable params: 96\n",
      "_________________________________________________________________\n"
     ]
    }
   ],
   "source": [
    "model.summary()"
   ]
  },
  {
   "cell_type": "markdown",
   "id": "668bbf47-4604-4388-bda2-f7d384b332ae",
   "metadata": {},
   "source": [
    "## Choose optimization method"
   ]
  },
  {
   "cell_type": "code",
   "execution_count": 11,
   "id": "541c52ba-2aa5-48d4-b40c-75d0948b3b2e",
   "metadata": {},
   "outputs": [],
   "source": [
    "model.compile(\n",
    "    # Optimizer\n",
    "    optimizer=keras.optimizers.Adam(LEARNING_RATE, BETA1, BETA2),\n",
    "    # Loss function to minimize\n",
    "    loss=keras.losses.CategoricalCrossentropy(),\n",
    "    # List of metrics to monitor\n",
    "    metrics=[\n",
    "        keras.metrics.CosineSimilarity()\n",
    "    ],\n",
    ")"
   ]
  },
  {
   "cell_type": "markdown",
   "id": "786d396f-3334-433d-99d9-d6026ab524d8",
   "metadata": {
    "tags": []
   },
   "source": [
    "## Train the model"
   ]
  },
  {
   "cell_type": "code",
   "execution_count": 12,
   "id": "a2ac30aa-afc3-42c7-9f7c-0f057f1496d5",
   "metadata": {},
   "outputs": [],
   "source": [
    "# tensor board\n",
    "tensorboard_callback = keras.callbacks.TensorBoard(\n",
    "    log_dir=LOG_LOC, \n",
    "    histogram_freq=1\n",
    ")"
   ]
  },
  {
   "cell_type": "code",
   "execution_count": 13,
   "id": "9de9aa59-d48e-476c-8a18-f83a07ea1015",
   "metadata": {},
   "outputs": [],
   "source": [
    "# early stopping to avoid over fitting\n",
    "earlystopping_callback = keras.callbacks.EarlyStopping(\n",
    "    monitor='val_loss',\n",
    "    patience=30, \n",
    "    restore_best_weights=True\n",
    ")"
   ]
  },
  {
   "cell_type": "code",
   "execution_count": 14,
   "id": "7ecfa6ce-8dd6-4ca9-aab9-d5008b5120b0",
   "metadata": {},
   "outputs": [
    {
     "name": "stdout",
     "output_type": "stream",
     "text": [
      "Epoch 1/100\n",
      "688/688 [==============================] - 40s 21ms/step - loss: 0.6632 - cosine_similarity: 0.7315 - val_loss: 0.6194 - val_cosine_similarity: 0.7547\n",
      "Epoch 2/100\n",
      "688/688 [==============================] - 9s 13ms/step - loss: 0.6209 - cosine_similarity: 0.7533 - val_loss: 0.6093 - val_cosine_similarity: 0.7605\n",
      "Epoch 3/100\n",
      "688/688 [==============================] - 8s 12ms/step - loss: 0.5918 - cosine_similarity: 0.7680 - val_loss: 0.5737 - val_cosine_similarity: 0.7766\n",
      "Epoch 4/100\n",
      "688/688 [==============================] - 8s 12ms/step - loss: 0.5539 - cosine_similarity: 0.7859 - val_loss: 0.5618 - val_cosine_similarity: 0.7834\n",
      "Epoch 5/100\n",
      "688/688 [==============================] - 8s 12ms/step - loss: 0.5191 - cosine_similarity: 0.8009 - val_loss: 0.5640 - val_cosine_similarity: 0.7875\n",
      "Epoch 6/100\n",
      "688/688 [==============================] - 8s 12ms/step - loss: 0.4888 - cosine_similarity: 0.8137 - val_loss: 0.5250 - val_cosine_similarity: 0.8026\n",
      "Epoch 7/100\n",
      "688/688 [==============================] - 8s 12ms/step - loss: 0.4648 - cosine_similarity: 0.8236 - val_loss: 0.5295 - val_cosine_similarity: 0.8018\n",
      "Epoch 8/100\n",
      "688/688 [==============================] - 8s 12ms/step - loss: 0.4414 - cosine_similarity: 0.8329 - val_loss: 0.5905 - val_cosine_similarity: 0.7902\n",
      "Epoch 9/100\n",
      "688/688 [==============================] - 9s 13ms/step - loss: 0.4213 - cosine_similarity: 0.8409 - val_loss: 0.5155 - val_cosine_similarity: 0.8104\n",
      "Epoch 10/100\n",
      "688/688 [==============================] - 8s 12ms/step - loss: 0.4043 - cosine_similarity: 0.8475 - val_loss: 0.4972 - val_cosine_similarity: 0.8239\n",
      "Epoch 11/100\n",
      "688/688 [==============================] - 8s 12ms/step - loss: 0.3940 - cosine_similarity: 0.8514 - val_loss: 0.4908 - val_cosine_similarity: 0.8327\n",
      "Epoch 12/100\n",
      "688/688 [==============================] - 8s 12ms/step - loss: 0.3787 - cosine_similarity: 0.8575 - val_loss: 0.4892 - val_cosine_similarity: 0.8278\n",
      "Epoch 13/100\n",
      "688/688 [==============================] - 8s 12ms/step - loss: 0.3649 - cosine_similarity: 0.8633 - val_loss: 0.4833 - val_cosine_similarity: 0.8369\n",
      "Epoch 14/100\n",
      "688/688 [==============================] - 8s 12ms/step - loss: 0.3534 - cosine_similarity: 0.8677 - val_loss: 0.5069 - val_cosine_similarity: 0.8238\n",
      "Epoch 15/100\n",
      "688/688 [==============================] - 8s 12ms/step - loss: 0.3443 - cosine_similarity: 0.8713 - val_loss: 0.5262 - val_cosine_similarity: 0.8303\n",
      "Epoch 16/100\n",
      "688/688 [==============================] - 8s 12ms/step - loss: 0.3390 - cosine_similarity: 0.8737 - val_loss: 0.4711 - val_cosine_similarity: 0.8348\n",
      "Epoch 17/100\n",
      "688/688 [==============================] - 8s 12ms/step - loss: 0.3296 - cosine_similarity: 0.8778 - val_loss: 0.5246 - val_cosine_similarity: 0.8282\n",
      "Epoch 18/100\n",
      "688/688 [==============================] - 8s 12ms/step - loss: 0.3235 - cosine_similarity: 0.8797 - val_loss: 0.4821 - val_cosine_similarity: 0.8385\n",
      "Epoch 19/100\n",
      "688/688 [==============================] - 8s 12ms/step - loss: 0.3135 - cosine_similarity: 0.8840 - val_loss: 0.4720 - val_cosine_similarity: 0.8462\n",
      "Epoch 20/100\n",
      "688/688 [==============================] - 8s 12ms/step - loss: 0.3033 - cosine_similarity: 0.8879 - val_loss: 0.4989 - val_cosine_similarity: 0.8478\n",
      "Epoch 21/100\n",
      "688/688 [==============================] - 8s 12ms/step - loss: 0.3029 - cosine_similarity: 0.8879 - val_loss: 0.4782 - val_cosine_similarity: 0.8410\n",
      "Epoch 22/100\n",
      "688/688 [==============================] - 8s 12ms/step - loss: 0.2932 - cosine_similarity: 0.8918 - val_loss: 0.4759 - val_cosine_similarity: 0.8532\n",
      "Epoch 23/100\n",
      "688/688 [==============================] - 8s 12ms/step - loss: 0.2915 - cosine_similarity: 0.8926 - val_loss: 0.5139 - val_cosine_similarity: 0.8419\n",
      "Epoch 24/100\n",
      "688/688 [==============================] - 8s 12ms/step - loss: 0.2922 - cosine_similarity: 0.8923 - val_loss: 0.5304 - val_cosine_similarity: 0.8321\n",
      "Epoch 25/100\n",
      "688/688 [==============================] - 8s 12ms/step - loss: 0.2825 - cosine_similarity: 0.8965 - val_loss: 0.4911 - val_cosine_similarity: 0.8494\n",
      "Epoch 26/100\n",
      "688/688 [==============================] - 8s 12ms/step - loss: 0.2804 - cosine_similarity: 0.8974 - val_loss: 0.5144 - val_cosine_similarity: 0.8425\n",
      "Epoch 27/100\n",
      "688/688 [==============================] - 8s 12ms/step - loss: 0.2766 - cosine_similarity: 0.8990 - val_loss: 0.5187 - val_cosine_similarity: 0.8258\n",
      "Epoch 28/100\n",
      "688/688 [==============================] - 8s 12ms/step - loss: 0.2797 - cosine_similarity: 0.8970 - val_loss: 0.4516 - val_cosine_similarity: 0.8565\n",
      "Epoch 29/100\n",
      "688/688 [==============================] - 8s 12ms/step - loss: 0.2653 - cosine_similarity: 0.9031 - val_loss: 0.4640 - val_cosine_similarity: 0.8575\n",
      "Epoch 30/100\n",
      "688/688 [==============================] - 8s 12ms/step - loss: 0.2664 - cosine_similarity: 0.9026 - val_loss: 0.4953 - val_cosine_similarity: 0.8470\n",
      "Epoch 31/100\n",
      "688/688 [==============================] - 8s 12ms/step - loss: 0.2604 - cosine_similarity: 0.9052 - val_loss: 0.4506 - val_cosine_similarity: 0.8618\n",
      "Epoch 32/100\n",
      "688/688 [==============================] - 8s 12ms/step - loss: 0.2534 - cosine_similarity: 0.9078 - val_loss: 0.4685 - val_cosine_similarity: 0.8615\n",
      "Epoch 33/100\n",
      "688/688 [==============================] - 8s 12ms/step - loss: 0.2599 - cosine_similarity: 0.9057 - val_loss: 0.4571 - val_cosine_similarity: 0.8629\n",
      "Epoch 34/100\n",
      "688/688 [==============================] - 8s 12ms/step - loss: 0.2473 - cosine_similarity: 0.9100 - val_loss: 0.4578 - val_cosine_similarity: 0.8616\n",
      "Epoch 35/100\n",
      "688/688 [==============================] - 8s 12ms/step - loss: 0.2499 - cosine_similarity: 0.9090 - val_loss: 0.4528 - val_cosine_similarity: 0.8643\n",
      "Epoch 36/100\n",
      "688/688 [==============================] - 8s 12ms/step - loss: 0.2472 - cosine_similarity: 0.9105 - val_loss: 0.4494 - val_cosine_similarity: 0.8675\n",
      "Epoch 37/100\n",
      "688/688 [==============================] - 8s 12ms/step - loss: 0.2441 - cosine_similarity: 0.9116 - val_loss: 0.4814 - val_cosine_similarity: 0.8638\n",
      "Epoch 38/100\n",
      "688/688 [==============================] - 8s 12ms/step - loss: 0.2392 - cosine_similarity: 0.9130 - val_loss: 0.4638 - val_cosine_similarity: 0.8656\n",
      "Epoch 39/100\n",
      "688/688 [==============================] - 8s 12ms/step - loss: 0.2362 - cosine_similarity: 0.9151 - val_loss: 0.4488 - val_cosine_similarity: 0.8655\n",
      "Epoch 40/100\n",
      "688/688 [==============================] - 8s 12ms/step - loss: 0.2332 - cosine_similarity: 0.9160 - val_loss: 0.4911 - val_cosine_similarity: 0.8587\n",
      "Epoch 41/100\n",
      "688/688 [==============================] - 8s 12ms/step - loss: 0.2323 - cosine_similarity: 0.9158 - val_loss: 0.4713 - val_cosine_similarity: 0.8592\n",
      "Epoch 42/100\n",
      "688/688 [==============================] - 8s 12ms/step - loss: 0.2284 - cosine_similarity: 0.9177 - val_loss: 0.4985 - val_cosine_similarity: 0.8506\n",
      "Epoch 43/100\n",
      "688/688 [==============================] - 8s 12ms/step - loss: 0.2307 - cosine_similarity: 0.9168 - val_loss: 0.4777 - val_cosine_similarity: 0.8668\n",
      "Epoch 44/100\n",
      "688/688 [==============================] - 8s 12ms/step - loss: 0.2245 - cosine_similarity: 0.9200 - val_loss: 0.4585 - val_cosine_similarity: 0.8685\n",
      "Epoch 45/100\n",
      "688/688 [==============================] - 8s 12ms/step - loss: 0.2221 - cosine_similarity: 0.9201 - val_loss: 0.4534 - val_cosine_similarity: 0.8699\n",
      "Epoch 46/100\n",
      "688/688 [==============================] - 8s 12ms/step - loss: 0.2246 - cosine_similarity: 0.9195 - val_loss: 0.4719 - val_cosine_similarity: 0.8721\n",
      "Epoch 47/100\n",
      "688/688 [==============================] - 8s 12ms/step - loss: 0.2213 - cosine_similarity: 0.9207 - val_loss: 0.4786 - val_cosine_similarity: 0.8561\n",
      "Epoch 48/100\n",
      "688/688 [==============================] - 8s 12ms/step - loss: 0.2201 - cosine_similarity: 0.9212 - val_loss: 0.4564 - val_cosine_similarity: 0.8707\n",
      "Epoch 49/100\n",
      "688/688 [==============================] - 8s 12ms/step - loss: 0.2142 - cosine_similarity: 0.9235 - val_loss: 0.5272 - val_cosine_similarity: 0.8534\n",
      "Epoch 50/100\n",
      "688/688 [==============================] - 8s 12ms/step - loss: 0.2126 - cosine_similarity: 0.9238 - val_loss: 0.4716 - val_cosine_similarity: 0.8612\n",
      "Epoch 51/100\n",
      "688/688 [==============================] - 8s 12ms/step - loss: 0.2161 - cosine_similarity: 0.9227 - val_loss: 0.4654 - val_cosine_similarity: 0.8738\n",
      "Epoch 52/100\n",
      "688/688 [==============================] - 8s 12ms/step - loss: 0.2137 - cosine_similarity: 0.9235 - val_loss: 0.4903 - val_cosine_similarity: 0.8584\n",
      "Epoch 53/100\n",
      "688/688 [==============================] - 8s 11ms/step - loss: 0.2100 - cosine_similarity: 0.9250 - val_loss: 0.4458 - val_cosine_similarity: 0.8716\n",
      "Epoch 54/100\n",
      "688/688 [==============================] - 8s 12ms/step - loss: 0.2025 - cosine_similarity: 0.9274 - val_loss: 0.4587 - val_cosine_similarity: 0.8753\n",
      "Epoch 55/100\n",
      "688/688 [==============================] - 8s 12ms/step - loss: 0.2005 - cosine_similarity: 0.9287 - val_loss: 0.4741 - val_cosine_similarity: 0.8767\n",
      "Epoch 56/100\n",
      "688/688 [==============================] - 8s 12ms/step - loss: 0.2027 - cosine_similarity: 0.9276 - val_loss: 0.4551 - val_cosine_similarity: 0.8703\n",
      "Epoch 57/100\n",
      "688/688 [==============================] - 8s 12ms/step - loss: 0.2057 - cosine_similarity: 0.9268 - val_loss: 0.5140 - val_cosine_similarity: 0.8498\n",
      "Epoch 58/100\n",
      "688/688 [==============================] - 8s 11ms/step - loss: 0.1986 - cosine_similarity: 0.9295 - val_loss: 0.4834 - val_cosine_similarity: 0.8733\n",
      "Epoch 59/100\n",
      "688/688 [==============================] - 8s 12ms/step - loss: 0.2003 - cosine_similarity: 0.9289 - val_loss: 0.4442 - val_cosine_similarity: 0.8711\n",
      "Epoch 60/100\n",
      "688/688 [==============================] - 8s 12ms/step - loss: 0.1977 - cosine_similarity: 0.9298 - val_loss: 0.4612 - val_cosine_similarity: 0.8786\n",
      "Epoch 61/100\n",
      "688/688 [==============================] - 8s 11ms/step - loss: 0.1953 - cosine_similarity: 0.9305 - val_loss: 0.4581 - val_cosine_similarity: 0.8742\n",
      "Epoch 62/100\n",
      "688/688 [==============================] - 8s 11ms/step - loss: 0.2004 - cosine_similarity: 0.9284 - val_loss: 0.4916 - val_cosine_similarity: 0.8603\n",
      "Epoch 63/100\n",
      "688/688 [==============================] - 8s 11ms/step - loss: 0.1920 - cosine_similarity: 0.9318 - val_loss: 0.4621 - val_cosine_similarity: 0.8711\n",
      "Epoch 64/100\n",
      "688/688 [==============================] - 8s 11ms/step - loss: 0.1921 - cosine_similarity: 0.9313 - val_loss: 0.4853 - val_cosine_similarity: 0.8603\n",
      "Epoch 65/100\n",
      "688/688 [==============================] - 8s 11ms/step - loss: 0.1883 - cosine_similarity: 0.9333 - val_loss: 0.5088 - val_cosine_similarity: 0.8548\n",
      "Epoch 66/100\n",
      "688/688 [==============================] - 8s 11ms/step - loss: 0.1980 - cosine_similarity: 0.9295 - val_loss: 0.4621 - val_cosine_similarity: 0.8677\n",
      "Epoch 67/100\n",
      "688/688 [==============================] - 8s 11ms/step - loss: 0.1929 - cosine_similarity: 0.9314 - val_loss: 0.4590 - val_cosine_similarity: 0.8779\n",
      "Epoch 68/100\n",
      "688/688 [==============================] - 8s 12ms/step - loss: 0.1899 - cosine_similarity: 0.9326 - val_loss: 0.4726 - val_cosine_similarity: 0.8767\n",
      "Epoch 69/100\n",
      "688/688 [==============================] - 8s 11ms/step - loss: 0.1873 - cosine_similarity: 0.9337 - val_loss: 0.4689 - val_cosine_similarity: 0.8690\n",
      "Epoch 70/100\n",
      "688/688 [==============================] - 8s 11ms/step - loss: 0.1866 - cosine_similarity: 0.9344 - val_loss: 0.4829 - val_cosine_similarity: 0.8691\n",
      "Epoch 71/100\n",
      "688/688 [==============================] - 8s 11ms/step - loss: 0.1860 - cosine_similarity: 0.9346 - val_loss: 0.4829 - val_cosine_similarity: 0.8680\n",
      "Epoch 72/100\n",
      "688/688 [==============================] - 8s 11ms/step - loss: 0.1840 - cosine_similarity: 0.9346 - val_loss: 0.4816 - val_cosine_similarity: 0.8732\n",
      "Epoch 73/100\n",
      "688/688 [==============================] - 8s 11ms/step - loss: 0.1805 - cosine_similarity: 0.9361 - val_loss: 0.5006 - val_cosine_similarity: 0.8699\n",
      "Epoch 74/100\n",
      "688/688 [==============================] - 8s 11ms/step - loss: 0.1802 - cosine_similarity: 0.9364 - val_loss: 0.5362 - val_cosine_similarity: 0.8467\n",
      "Epoch 75/100\n",
      "688/688 [==============================] - 8s 12ms/step - loss: 0.1802 - cosine_similarity: 0.9362 - val_loss: 0.5065 - val_cosine_similarity: 0.8725\n",
      "Epoch 76/100\n",
      "688/688 [==============================] - 8s 11ms/step - loss: 0.1809 - cosine_similarity: 0.9361 - val_loss: 0.4546 - val_cosine_similarity: 0.8806\n",
      "Epoch 77/100\n",
      "688/688 [==============================] - 8s 11ms/step - loss: 0.1812 - cosine_similarity: 0.9360 - val_loss: 0.4724 - val_cosine_similarity: 0.8792\n",
      "Epoch 78/100\n",
      "688/688 [==============================] - 8s 11ms/step - loss: 0.1782 - cosine_similarity: 0.9370 - val_loss: 0.5345 - val_cosine_similarity: 0.8659\n",
      "Epoch 79/100\n",
      "688/688 [==============================] - 8s 11ms/step - loss: 0.1779 - cosine_similarity: 0.9372 - val_loss: 0.4933 - val_cosine_similarity: 0.8697\n",
      "Epoch 80/100\n",
      "688/688 [==============================] - 8s 11ms/step - loss: 0.1790 - cosine_similarity: 0.9368 - val_loss: 0.4850 - val_cosine_similarity: 0.8786\n",
      "Epoch 81/100\n",
      "688/688 [==============================] - 8s 11ms/step - loss: 0.1740 - cosine_similarity: 0.9386 - val_loss: 0.4634 - val_cosine_similarity: 0.8781\n",
      "Epoch 82/100\n",
      "688/688 [==============================] - 8s 11ms/step - loss: 0.1749 - cosine_similarity: 0.9383 - val_loss: 0.4568 - val_cosine_similarity: 0.8847\n",
      "Epoch 83/100\n",
      "688/688 [==============================] - 8s 11ms/step - loss: 0.1758 - cosine_similarity: 0.9380 - val_loss: 0.5606 - val_cosine_similarity: 0.8590\n",
      "Epoch 84/100\n",
      "688/688 [==============================] - 8s 11ms/step - loss: 0.1702 - cosine_similarity: 0.9405 - val_loss: 0.4810 - val_cosine_similarity: 0.8813\n",
      "Epoch 85/100\n",
      "688/688 [==============================] - 8s 11ms/step - loss: 0.1701 - cosine_similarity: 0.9403 - val_loss: 0.4505 - val_cosine_similarity: 0.8877\n",
      "Epoch 86/100\n",
      "688/688 [==============================] - 8s 11ms/step - loss: 0.1712 - cosine_similarity: 0.9390 - val_loss: 0.4891 - val_cosine_similarity: 0.8838\n",
      "Epoch 87/100\n",
      "688/688 [==============================] - 8s 11ms/step - loss: 0.1685 - cosine_similarity: 0.9405 - val_loss: 0.4407 - val_cosine_similarity: 0.8844\n",
      "Epoch 88/100\n",
      "688/688 [==============================] - 8s 12ms/step - loss: 0.1683 - cosine_similarity: 0.9407 - val_loss: 0.5429 - val_cosine_similarity: 0.8622\n",
      "Epoch 89/100\n",
      "688/688 [==============================] - 8s 11ms/step - loss: 0.1692 - cosine_similarity: 0.9401 - val_loss: 0.4453 - val_cosine_similarity: 0.8881\n",
      "Epoch 90/100\n",
      "688/688 [==============================] - 8s 11ms/step - loss: 0.1665 - cosine_similarity: 0.9411 - val_loss: 0.4761 - val_cosine_similarity: 0.8849\n",
      "Epoch 91/100\n",
      "688/688 [==============================] - 8s 11ms/step - loss: 0.1640 - cosine_similarity: 0.9426 - val_loss: 0.4560 - val_cosine_similarity: 0.8854\n",
      "Epoch 92/100\n",
      "688/688 [==============================] - 8s 11ms/step - loss: 0.1643 - cosine_similarity: 0.9428 - val_loss: 0.5662 - val_cosine_similarity: 0.8657\n",
      "Epoch 93/100\n",
      "688/688 [==============================] - 8s 11ms/step - loss: 0.1662 - cosine_similarity: 0.9415 - val_loss: 0.4470 - val_cosine_similarity: 0.8840\n",
      "Epoch 94/100\n",
      "688/688 [==============================] - 8s 12ms/step - loss: 0.1619 - cosine_similarity: 0.9431 - val_loss: 0.4520 - val_cosine_similarity: 0.8818\n",
      "Epoch 95/100\n",
      "688/688 [==============================] - 8s 12ms/step - loss: 0.1643 - cosine_similarity: 0.9423 - val_loss: 0.4736 - val_cosine_similarity: 0.8791\n",
      "Epoch 96/100\n",
      "688/688 [==============================] - 8s 12ms/step - loss: 0.1653 - cosine_similarity: 0.9414 - val_loss: 0.5929 - val_cosine_similarity: 0.8640\n",
      "Epoch 97/100\n",
      "688/688 [==============================] - 8s 12ms/step - loss: 0.1616 - cosine_similarity: 0.9430 - val_loss: 0.4645 - val_cosine_similarity: 0.8874\n",
      "Epoch 98/100\n",
      "688/688 [==============================] - 8s 11ms/step - loss: 0.1649 - cosine_similarity: 0.9418 - val_loss: 0.4510 - val_cosine_similarity: 0.8857\n",
      "Epoch 99/100\n",
      "688/688 [==============================] - 8s 12ms/step - loss: 0.1595 - cosine_similarity: 0.9441 - val_loss: 0.4488 - val_cosine_similarity: 0.8882\n",
      "Epoch 100/100\n",
      "688/688 [==============================] - 8s 11ms/step - loss: 0.1635 - cosine_similarity: 0.9426 - val_loss: 0.4891 - val_cosine_similarity: 0.8683\n"
     ]
    }
   ],
   "source": [
    "history = model.fit(\n",
    "    x=train_data,\n",
    "    epochs=EPOCHS,\n",
    "    callbacks=[\n",
    "        tensorboard_callback,\n",
    "        earlystopping_callback\n",
    "    ],\n",
    "    validation_data=valid_data\n",
    ")"
   ]
  },
  {
   "cell_type": "markdown",
   "id": "177de451-f03a-495d-a09d-755626fce563",
   "metadata": {},
   "source": [
    "## Evaluate the model"
   ]
  },
  {
   "cell_type": "code",
   "execution_count": 15,
   "id": "9d0f540d-a99b-405b-8d05-f138f55a95e5",
   "metadata": {},
   "outputs": [
    {
     "name": "stdout",
     "output_type": "stream",
     "text": [
      "86/86 [==============================] - 0s 6ms/step - loss: 0.4704 - cosine_similarity: 0.8665\n"
     ]
    }
   ],
   "source": [
    "result = model.evaluate(\n",
    "    x=test_data,\n",
    "    return_dict=True\n",
    ")"
   ]
  },
  {
   "cell_type": "code",
   "execution_count": 16,
   "id": "296385b0-a5b1-43eb-9aa8-59c7e15a036b",
   "metadata": {},
   "outputs": [
    {
     "name": "stdout",
     "output_type": "stream",
     "text": [
      "loss                 0.4704\n",
      "cosine_similarity    0.8665\n"
     ]
    }
   ],
   "source": [
    "for name, val in result.items():\n",
    "    print(\"{:20s} {:.4f}\".format(name, val))"
   ]
  },
  {
   "cell_type": "markdown",
   "id": "570cabab-3653-4151-a2a7-051680c25de8",
   "metadata": {},
   "source": [
    "## Save the model"
   ]
  },
  {
   "cell_type": "code",
   "execution_count": 17,
   "id": "416ba8a8-9e6d-4d5e-9685-e211f2f759f4",
   "metadata": {},
   "outputs": [
    {
     "name": "stdout",
     "output_type": "stream",
     "text": [
      "INFO:tensorflow:Assets written to: ./data/models/cnn_2_20210914-182924/assets\n"
     ]
    }
   ],
   "source": [
    "model.save(SAVE_LOC)"
   ]
  },
  {
   "cell_type": "code",
   "execution_count": null,
   "id": "82f86cd8-cb7a-4913-8b67-e398bcdf2e3a",
   "metadata": {},
   "outputs": [],
   "source": []
  }
 ],
 "metadata": {
  "kernelspec": {
   "display_name": "Python [conda env:st3107-tfgpu] *",
   "language": "python",
   "name": "conda-env-st3107-tfgpu-py"
  },
  "language_info": {
   "codemirror_mode": {
    "name": "ipython",
    "version": 3
   },
   "file_extension": ".py",
   "mimetype": "text/x-python",
   "name": "python",
   "nbconvert_exporter": "python",
   "pygments_lexer": "ipython3",
   "version": "3.9.6"
  }
 },
 "nbformat": 4,
 "nbformat_minor": 5
}
