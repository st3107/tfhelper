{
 "cells": [
  {
   "cell_type": "markdown",
   "id": "f3d9670e-2a2c-4bf1-a315-9796c6789dc9",
   "metadata": {},
   "source": [
    "# Analyze the results from the full connected layer model"
   ]
  },
  {
   "cell_type": "markdown",
   "id": "804cd7c3-db80-4fa9-9d89-4f801ad7d1ed",
   "metadata": {},
   "source": [
    "## Import necessary modules"
   ]
  },
  {
   "cell_type": "code",
   "execution_count": 1,
   "id": "cd85d865-3548-45b8-bf17-c6cdb4234763",
   "metadata": {
    "tags": []
   },
   "outputs": [],
   "source": [
    "# python built-in libraries\n",
    "import datetime"
   ]
  },
  {
   "cell_type": "code",
   "execution_count": 2,
   "id": "56327e98-27db-4fcf-aa87-dde8512b87a2",
   "metadata": {},
   "outputs": [],
   "source": [
    "# choose the tensorflow log level\n",
    "import os\n",
    "os.environ['TF_CPP_MIN_LOG_LEVEL'] = '3'  # or any {'0', '1', '2'}"
   ]
  },
  {
   "cell_type": "code",
   "execution_count": 3,
   "id": "f930e0a7-cbc7-4f7e-8fe6-d50a90e4dcd1",
   "metadata": {},
   "outputs": [],
   "source": [
    "# import tensorflow\n",
    "import tensorflow as tf\n",
    "from tensorflow import keras\n",
    "from tensorflow.keras import layers"
   ]
  },
  {
   "cell_type": "code",
   "execution_count": 86,
   "id": "f020f42a-6eed-4f9c-8e76-26f15f8fff51",
   "metadata": {},
   "outputs": [],
   "source": [
    "# ohter packages\n",
    "import xarray as xr\n",
    "import matplotlib.pyplot as plt\n",
    "import numpy as np\n",
    "from gemmi import cif"
   ]
  },
  {
   "cell_type": "markdown",
   "id": "e3bc5985-ee2c-44f0-9f07-68c483675b77",
   "metadata": {},
   "source": [
    "## Global Variables"
   ]
  },
  {
   "cell_type": "code",
   "execution_count": 297,
   "id": "82f389f0-549e-4dba-94ae-b963afe7b5fe",
   "metadata": {},
   "outputs": [],
   "source": [
    "# sampling\n",
    "DATA_FILE = \"./data/all_data.nc\"  # path to the file of the feature tensor\n",
    "FRACTIONS = (0.8, 0.1, 0.1)  # train, validation, test\n",
    "BATCH_SIZE = 128  # size of the batch\n",
    "BUFFER_SIZE = BATCH_SIZE * 4  # size of the shuffle buffer\n",
    "RANDOM_SEED = 42  # a seed for the random sampling\n",
    "THRESHOLD = 0.95\n",
    "# training\n",
    "LEARNING_RATE = 0.001  # starting learning rate\n",
    "BETA1 = 0.9  # decay 1\n",
    "BETA2 = 0.999  # decay 2\n",
    "EPOCHS = 200  # number of epochs\n",
    "# saving\n",
    "TIME_STAMP = datetime.datetime.now().strftime(\"%Y%m%d-%H%M%S\")  # time stamp\n",
    "MODEL_NAME = \"C4D4\"  # name of the model\n",
    "MODEL_FILE = \"./data/models/C4D4_20210928-190611/\"  # model file\n",
    "EVAL_FILE = \"./data/evaluation/C4D4_20210928-190611.nc\"\n",
    "TEST_DS_FILE = \"./data/evaluation/C4D4_20210928-190611_test_ds.nc\"\n",
    "# matplotlib colors\n",
    "COLORS = plt.rcParams['axes.prop_cycle'].by_key()['color']"
   ]
  },
  {
   "cell_type": "markdown",
   "id": "6e2daffc-3f88-42de-be0e-f614c6e017ba",
   "metadata": {
    "tags": []
   },
   "source": [
    "## Obtain data\n",
    "\n",
    "The data is a 209 data point PDF. The label is a one-hot 2 dim vector. `10` means major phase >= threshold, `01` means major phase <= threshold."
   ]
  },
  {
   "cell_type": "code",
   "execution_count": 6,
   "id": "3d9be3eb-7058-4857-8eea-1cbee6674efa",
   "metadata": {},
   "outputs": [],
   "source": [
    "def load_data():\n",
    "    # load\n",
    "    ds = xr.open_dataset(DATA_FILE)\n",
    "    features = ds[\"G\"].data\n",
    "    # label the data by threshold\n",
    "    single = np.array([1, 0])\n",
    "    mulitple = np.array([0, 1])\n",
    "    labels = np.apply_along_axis(lambda tup: single if np.max(tup) >= THRESHOLD else mulitple, 1,  ds[\"fraction\"].values)\n",
    "    # shuffle\n",
    "    n = features.shape[0]\n",
    "    np.random.seed(RANDOM_SEED)\n",
    "    shuffled_idx = np.random.permutation(n)\n",
    "    features, labels = features[shuffled_idx], labels[shuffled_idx]\n",
    "    # split\n",
    "    f0, f1, f2 = FRACTIONS\n",
    "    i, j, k = round(f0 * n), round((f0 + f1) * n), round((f0 + f1 + f2) * n)\n",
    "    test_data = tf.data.Dataset.from_tensor_slices((features[j:k], labels[j:k])).batch(BATCH_SIZE)\n",
    "    # get the test data set\n",
    "    test_ds = ds.isel({\"mixture\": shuffled_idx[j:k]}).compute()\n",
    "    # close dataset\n",
    "    ds.close()\n",
    "    return test_ds, test_data"
   ]
  },
  {
   "cell_type": "code",
   "execution_count": 7,
   "id": "76111e4f-5ed3-4318-bee1-9595f8359e5e",
   "metadata": {},
   "outputs": [],
   "source": [
    "test_ds, test_data = load_data()"
   ]
  },
  {
   "cell_type": "markdown",
   "id": "13d534bf-b029-4015-82ea-379147d427eb",
   "metadata": {},
   "source": [
    "# Load the model"
   ]
  },
  {
   "cell_type": "code",
   "execution_count": 8,
   "id": "ea0189cd-ddf8-4fc7-8a5b-4b4d213cbe91",
   "metadata": {},
   "outputs": [],
   "source": [
    "model = keras.models.load_model(MODEL_FILE)"
   ]
  },
  {
   "cell_type": "markdown",
   "id": "45035452-cfbe-4acd-8b5d-5a6f96855f16",
   "metadata": {},
   "source": [
    "# Visualize the model and the optimization"
   ]
  },
  {
   "cell_type": "markdown",
   "id": "ff4cce64-bf74-485d-8ea2-81dc0309d883",
   "metadata": {},
   "source": [
    "## The model"
   ]
  },
  {
   "cell_type": "code",
   "execution_count": null,
   "id": "833736eb-97b6-46b7-8a33-33b5507dd710",
   "metadata": {},
   "outputs": [],
   "source": []
  },
  {
   "cell_type": "code",
   "execution_count": null,
   "id": "1f898229-2fab-47f4-a6ca-e1d42ef947ce",
   "metadata": {},
   "outputs": [],
   "source": []
  },
  {
   "cell_type": "markdown",
   "id": "b6ad3330-da87-4685-9a94-303b29d45b89",
   "metadata": {},
   "source": [
    "## The optimization"
   ]
  },
  {
   "cell_type": "code",
   "execution_count": null,
   "id": "8bd3496a-b335-48a4-bf14-57dd3d8dd223",
   "metadata": {},
   "outputs": [],
   "source": []
  },
  {
   "cell_type": "code",
   "execution_count": null,
   "id": "46155164-1277-4a97-8620-aee922211db4",
   "metadata": {},
   "outputs": [],
   "source": []
  },
  {
   "cell_type": "markdown",
   "id": "a32bbebf-dd43-463c-af0b-ca259230fd84",
   "metadata": {},
   "source": [
    "# Evaluate the model"
   ]
  },
  {
   "cell_type": "markdown",
   "id": "621da26f-f111-43db-bd37-3f5cbaaf257d",
   "metadata": {},
   "source": [
    "### Run"
   ]
  },
  {
   "cell_type": "code",
   "execution_count": 10,
   "id": "e6370361-ae52-4e37-9c8a-3c76556ccb66",
   "metadata": {},
   "outputs": [
    {
     "name": "stdout",
     "output_type": "stream",
     "text": [
      "86/86 [==============================] - 13s 11ms/step - loss: 0.3279 - cosine_similarity: 0.9092 - categorical_accuracy: 0.8921\n"
     ]
    }
   ],
   "source": [
    "evaluation = model.evaluate(x=test_data, return_dict=True)"
   ]
  },
  {
   "cell_type": "code",
   "execution_count": 11,
   "id": "88b0436b-b992-44e4-a225-341fdf591f13",
   "metadata": {},
   "outputs": [],
   "source": [
    "evaluation = xr.Dataset(evaluation)"
   ]
  },
  {
   "cell_type": "code",
   "execution_count": 12,
   "id": "a92545de-2ada-4c24-931c-b8143539494b",
   "metadata": {},
   "outputs": [],
   "source": [
    "evaluation.to_netcdf(EVAL_FILE, engine=\"h5netcdf\")"
   ]
  },
  {
   "cell_type": "markdown",
   "id": "ce8445a4-4b25-474b-8452-b1c132b959bb",
   "metadata": {},
   "source": [
    "## Show"
   ]
  },
  {
   "cell_type": "code",
   "execution_count": 13,
   "id": "61ed4e9b-c33a-4599-bbb9-0c6799ee1de3",
   "metadata": {},
   "outputs": [],
   "source": [
    "evaluation = xr.load_dataset(EVAL_FILE,  engine=\"h5netcdf\")"
   ]
  },
  {
   "cell_type": "code",
   "execution_count": 14,
   "id": "8a633ebe-fb0b-46f5-aa95-d7d2469220b6",
   "metadata": {},
   "outputs": [
    {
     "data": {
      "text/plain": [
       "variable\n",
       "categorical_accuracy    0.892091\n",
       "cosine_similarity       0.909195\n",
       "loss                    0.327871\n",
       "dtype: float64"
      ]
     },
     "execution_count": 14,
     "metadata": {},
     "output_type": "execute_result"
    }
   ],
   "source": [
    "evaluation.to_array().to_series()"
   ]
  },
  {
   "cell_type": "markdown",
   "id": "53450da1-0b1b-410a-8bdc-40b0ae7708e2",
   "metadata": {},
   "source": [
    "# Evaludate the statistics of prediction"
   ]
  },
  {
   "cell_type": "markdown",
   "id": "b665b8f8-154f-440f-add3-fa888abac733",
   "metadata": {},
   "source": [
    "## Run"
   ]
  },
  {
   "cell_type": "code",
   "execution_count": 15,
   "id": "7b93604e-43fc-46fe-9c24-8ea4a9395cb3",
   "metadata": {},
   "outputs": [],
   "source": [
    "def one_hot_encoder(labels):\n",
    "    single = np.array([1, 0])\n",
    "    mulitple = np.array([0, 1])\n",
    "    return np.apply_along_axis(lambda tup: single if np.max(tup) >= THRESHOLD else mulitple, 1, labels)\n",
    "\n",
    "\n",
    "def one_hot_decoder(labels):\n",
    "    return np.argmax(labels, axis=1)\n",
    "\n",
    "\n",
    "def one_hot_decorder_xarr(labels):\n",
    "    return xr.DataArray(\n",
    "        one_hot_decoder(labels.values),\n",
    "        dims=[\"mixture\"]\n",
    "    )\n",
    "\n",
    "\n",
    "def to_catalog(prediction):\n",
    "    return np.round(prediction)\n",
    "\n",
    "\n",
    "def get_label(test_ds):\n",
    "    return xr.DataArray(one_hot_encoder(test_ds[\"fraction\"].values), dims=[\"mixture\", \"label\"])\n",
    "\n",
    "\n",
    "def predict(model, test_data):\n",
    "    pred = model.predict(x=test_data)\n",
    "    pred = xr.DataArray(pred, dims=[\"mixture\", \"label\"])\n",
    "    return pred\n",
    "\n",
    "\n",
    "def add_predict(test_ds, model, test_data):\n",
    "    pred = predict(model, test_data)\n",
    "    one_hot_pred = to_catalog(pred)\n",
    "    one_hot_label = get_label(test_ds)\n",
    "    categorical_accuracy = xr.DataArray(\n",
    "        np.sum(one_hot_pred.values * one_hot_label.values, axis=-1, dtype=int),\n",
    "        dims=[\"mixture\"]\n",
    "    )\n",
    "    cosine_similarity = xr.DataArray(\n",
    "        np.sum(pred.values * one_hot_label.values, axis=-1, dtype=float),\n",
    "        dims=[\"mixture\"]\n",
    "    )\n",
    "    return test_ds.assign(\n",
    "        {\n",
    "            \"prediction\": pred, \n",
    "            \"one_hot_prediction\": one_hot_pred, \n",
    "            \"one_hot_label\": one_hot_label,\n",
    "            \"predicted_label\": one_hot_decorder_xarr(one_hot_pred),\n",
    "            \"actual_label\": one_hot_decorder_xarr(one_hot_label),\n",
    "            \"categorical_accuracy\": categorical_accuracy,\n",
    "            \"cosine_similarity\": cosine_similarity\n",
    "        }\n",
    "    )"
   ]
  },
  {
   "cell_type": "code",
   "execution_count": 16,
   "id": "b616004c-afc9-45f6-8ae2-0f2dcad538db",
   "metadata": {},
   "outputs": [],
   "source": [
    "eval_ds = add_predict(test_ds, model, test_data)"
   ]
  },
  {
   "cell_type": "code",
   "execution_count": 17,
   "id": "52a099a2-1577-4f8f-ae5d-8333bedd2009",
   "metadata": {},
   "outputs": [],
   "source": [
    "eval_ds.to_netcdf(TEST_DS_FILE, engine=\"h5netcdf\")"
   ]
  },
  {
   "cell_type": "markdown",
   "id": "9b8643f5-9a69-4ca1-b5c3-cbdb1cd46060",
   "metadata": {},
   "source": [
    "## Visualize"
   ]
  },
  {
   "cell_type": "code",
   "execution_count": 49,
   "id": "d4da6227-d20c-4e26-8f67-6754587f03d7",
   "metadata": {},
   "outputs": [],
   "source": [
    "eval_ds = xr.load_dataset(TEST_DS_FILE, engine=\"h5netcdf\")"
   ]
  },
  {
   "cell_type": "code",
   "execution_count": 315,
   "id": "1fe2f9c1-98c7-470d-ae96-3048bf33a4e4",
   "metadata": {
    "tags": []
   },
   "outputs": [],
   "source": [
    "class Visualizor:\n",
    "    \n",
    "    def __init__(self, dataset: xr.Dataset):\n",
    "        self.dataset = dataset\n",
    "        \n",
    "    def plot_hist(self, metric: str, *args, **kwargs):\n",
    "        return self.dataset[metric].plot.hist(*args, **kwargs)\n",
    "    \n",
    "    def plot_bar(self, key: str, *args, **kwargs):\n",
    "        grouped = self.dataset.groupby(key)\n",
    "        nums = np.asarray([len(val) for val in grouped.groups.values()])\n",
    "        names = np.asarray(list(grouped.groups.keys()))\n",
    "        da = xr.DataArray(nums, {key: names}, dims=[key])\n",
    "        return da.to_series().plot.bar()\n",
    "    \n",
    "    def plot_label_bar(self, key: str, labels: list, *args, **kwargs):\n",
    "        grouped = self.dataset.groupby(key)\n",
    "        nums = np.asarray([len(val) for val in grouped.groups.values()])\n",
    "        idxs = np.asarray(list(grouped.groups.keys()))\n",
    "        names = [labels[idx] for idx in idxs]\n",
    "        da = xr.DataArray(nums, {key: names}, dims=[key])\n",
    "        return da.to_series().plot.bar()\n",
    "    \n",
    "    def set_space_group_number(self, stru: str, sgn: str) -> None:\n",
    "        \n",
    "        def get_space_group_number(cif_str):\n",
    "            doc = cif.Document()\n",
    "            doc.parse_string(cif_str)\n",
    "            return int(doc[0].find_value(\"_symmetry_Int_Tables_number\"))\n",
    "        \n",
    "        sgn_arr = xr.apply_ufunc(\n",
    "            np.vectorize(get_space_group_number),\n",
    "            self.dataset[stru]\n",
    "        )\n",
    "        \n",
    "        self.dataset = self.dataset.assign({sgn: sgn_arr})\n",
    "        return\n",
    "    \n",
    "    def plot_space_group_hist(self, stru: str, sgn: str, *args, **kwargs):\n",
    "        kwargs.setdefault(\"bins\", np.arange(0.5, 230.50001, 1))\n",
    "        if sgn not in self.dataset:\n",
    "            self.set_space_group_number(stru, sgn)\n",
    "        return self.plot_hist(sgn, *args, **kwargs)\n",
    "        \n",
    "    def plot_grouped_space_group_hist(\n",
    "        self, \n",
    "        stru: str, \n",
    "        sgn: str, \n",
    "        correctness: str,\n",
    "        *args,\n",
    "        size: float = 4.,\n",
    "        **kwargs\n",
    "    ):\n",
    "        kwargs.setdefault(\"bins\", np.arange(0.5, 230.50001, 1))\n",
    "        if sgn not in self.dataset:\n",
    "            self.set_space_group_number(stru, sgn)\n",
    "        groups = self.dataset.groupby(correctness).groups\n",
    "        n = len(groups)\n",
    "        fig, axes = plt.subplots(1, n, figsize=(n * size * 4 / 3, 1 * size))\n",
    "        for i, (c, idxs) in enumerate(groups.items()):\n",
    "            sel_ds = self.dataset.isel({self.dataset[correctness].dims[0]: idxs})\n",
    "            sel_ds[sgn].plot.hist(*args, **kwargs, ax=axes[i])\n",
    "            axes[i].set_title(\"Accuracy = {}\".format(c))\n",
    "        return fig, axes\n",
    "        \n",
    "    def set_major_fraction(self, fraction: str, major_fraction: str):\n",
    "        fraction_data = self.dataset[fraction]\n",
    "        major_fraction_data = xr.apply_ufunc(\n",
    "            lambda x: np.max(x, axis=-1),\n",
    "            fraction_data,\n",
    "            input_core_dims=[[fraction_data.dims[-1]]]\n",
    "        )\n",
    "        self.dataset = self.dataset.assign({major_fraction: major_fraction_data})\n",
    "        return\n",
    "        \n",
    "    def plot_hist_major_fraction(self, fraction: str, major_fraction: str, *args, **kwargs):\n",
    "        step = 0.025\n",
    "        kwargs.setdefault(\"bins\", np.arange(0.45 - step / 2, 1.00001 + step / 2, step))\n",
    "        kwargs.setdefault(\"align\", \"mid\")\n",
    "        if major_fraction not in self.dataset:\n",
    "            self.set_major_fraction(fraction, major_fraction)\n",
    "        return self.plot_hist(major_fraction, *args, **kwargs)\n",
    "    \n",
    "    def get_colors(self):\n",
    "        return plt.rcParams['axes.prop_cycle'].by_key()['color']\n",
    "    \n",
    "    def plot_hist_grouped_major_fraction(\n",
    "        self, \n",
    "        fraction: str, \n",
    "        major_fraction: str, \n",
    "        correctness: str,\n",
    "        *args,\n",
    "        size: float = 4.,\n",
    "        threshold: float = THRESHOLD,\n",
    "        **kwargs\n",
    "    ):\n",
    "        step = 0.025\n",
    "        kwargs.setdefault(\"bins\", np.arange(0.45 - step / 2, 1.00001 + step / 2, step))\n",
    "        kwargs.setdefault(\"align\", \"mid\")\n",
    "        if major_fraction not in self.dataset:\n",
    "            self.set_major_fraction(fraction, major_fraction)\n",
    "        groups = self.dataset.groupby(correctness).groups\n",
    "        n = len(groups)\n",
    "        fig, axes = plt.subplots(1, n, figsize=(n * size * 4 / 3, 1 * size))\n",
    "        colors = self.get_colors()\n",
    "        for i, (c, idxs) in enumerate(groups.items()):\n",
    "            sel_ds = self.dataset.isel({self.dataset[correctness].dims[0]: idxs})\n",
    "            mfv = sel_ds[major_fraction].values\n",
    "            sel_ds[major_fraction].plot.hist(*args, **kwargs, ax=axes[i])\n",
    "            \n",
    "            axes[i].set_title(\"Accuracy = {}\".format(c))\n",
    "        return fig, axes"
   ]
  },
  {
   "cell_type": "code",
   "execution_count": 316,
   "id": "63516211-ba80-463a-b292-b62585065c1b",
   "metadata": {},
   "outputs": [],
   "source": [
    "vis = Visualizor(eval_ds)"
   ]
  },
  {
   "cell_type": "markdown",
   "id": "66b6a739-8bb3-47fc-ae43-997e2728e6b5",
   "metadata": {},
   "source": [
    "### Distribution of the single and multiple phase in test dataset"
   ]
  },
  {
   "cell_type": "code",
   "execution_count": 317,
   "id": "a1d48fcf-6f77-450b-90c3-ee07a3a53735",
   "metadata": {},
   "outputs": [
    {
     "data": {
      "image/png": "[encoded data removed]",
      "text/plain": [
       "<Figure size 432x288 with 1 Axes>"
      ]
     },
     "metadata": {
      "needs_background": "light"
     },
     "output_type": "display_data"
    }
   ],
   "source": [
    "vis.plot_label_bar(\"actual_label\", [\"single\", \"multiple\"]);"
   ]
  },
  {
   "cell_type": "markdown",
   "id": "fd1c2ffa-dc48-458f-aca9-85fef23fff4b",
   "metadata": {},
   "source": [
    "### Bar plot of the catalogical accuracy"
   ]
  },
  {
   "cell_type": "code",
   "execution_count": 318,
   "id": "ce51657f-42c7-493b-9018-9d864f07f716",
   "metadata": {},
   "outputs": [
    {
     "data": {
      "image/png": "[encoded data removed]",
      "text/plain": [
       "<Figure size 432x288 with 1 Axes>"
      ]
     },
     "metadata": {
      "needs_background": "light"
     },
     "output_type": "display_data"
    }
   ],
   "source": [
    "vis.plot_label_bar(\"categorical_accuracy\", [\"wrong\", \"correct\"]);"
   ]
  },
  {
   "cell_type": "markdown",
   "id": "4e78cbbc-c0a6-4b04-9572-3b13be8bcca0",
   "metadata": {},
   "source": [
    "### Distributon of the cosine similarity"
   ]
  },
  {
   "cell_type": "code",
   "execution_count": 319,
   "id": "b0e6faa1-4e8b-4870-ae44-7142fd187e77",
   "metadata": {},
   "outputs": [
    {
     "data": {
      "image/png": "[encoded data removed]",
      "text/plain": [
       "<Figure size 432x288 with 1 Axes>"
      ]
     },
     "metadata": {
      "needs_background": "light"
     },
     "output_type": "display_data"
    }
   ],
   "source": [
    "vis.plot_hist(\"cosine_similarity\", bins=np.arange(0., 1.0001, 0.01));"
   ]
  },
  {
   "cell_type": "markdown",
   "id": "034986f2-7099-4f2d-b425-5ca4704e7bec",
   "metadata": {},
   "source": [
    "### Relation bewteen the accuracy and the major phase fraction\n",
    "\n",
    "Interestingly, when the major phase is around 0.8 and 0.95, it is hard to distinguish that it is a sinlge phase or mulitphase. It is probably because it is close to the threshold."
   ]
  },
  {
   "cell_type": "code",
   "execution_count": 320,
   "id": "196ad6a1-98be-4666-8636-42d3f3cf2702",
   "metadata": {},
   "outputs": [
    {
     "data": {
      "image/png": "[encoded data removed]",
      "text/plain": [
       "<Figure size 432x288 with 1 Axes>"
      ]
     },
     "metadata": {
      "needs_background": "light"
     },
     "output_type": "display_data"
    }
   ],
   "source": [
    "vis.plot_hist_major_fraction(\"fraction\", \"major_fraction\");"
   ]
  },
  {
   "cell_type": "code",
   "execution_count": 321,
   "id": "b3cf9ee2-8e22-4051-8875-a94b56e9b387",
   "metadata": {},
   "outputs": [
    {
     "data": {
      "image/png": "[encoded data removed]",
      "text/plain": [
       "<Figure size 768x288 with 2 Axes>"
      ]
     },
     "metadata": {
      "needs_background": "light"
     },
     "output_type": "display_data"
    }
   ],
   "source": [
    "vis.plot_hist_grouped_major_fraction(\"fraction\", \"major_fraction\", \"categorical_accuracy\");"
   ]
  },
  {
   "cell_type": "markdown",
   "id": "f86e12d6-54f3-4ef1-a9b3-24dc55e9bebf",
   "metadata": {},
   "source": [
    "### Relation between the the space group and accuracy"
   ]
  },
  {
   "cell_type": "markdown",
   "id": "d01a4369-995f-4f5e-a5f2-e88e0c17bdcf",
   "metadata": {},
   "source": [
    "#### Space group of all the phases"
   ]
  },
  {
   "cell_type": "code",
   "execution_count": 322,
   "id": "28894067-92c6-40d5-91c9-c447e18ed99c",
   "metadata": {},
   "outputs": [
    {
     "data": {
      "image/png": "[encoded data removed]",
      "text/plain": [
       "<Figure size 432x288 with 1 Axes>"
      ]
     },
     "metadata": {
      "needs_background": "light"
     },
     "output_type": "display_data"
    }
   ],
   "source": [
    "vis.plot_space_group_hist(\"structure\", \"space_group_number\");"
   ]
  },
  {
   "cell_type": "markdown",
   "id": "0ac6085a-ec72-431b-bed5-69744a861425",
   "metadata": {},
   "source": [
    "#### Space group of the correct prediction and the wrong prediction\n",
    "\n",
    "There is no distinct difference in space groups distribution of the correctly catalogized data and mistakenly catalogized data."
   ]
  },
  {
   "cell_type": "code",
   "execution_count": 323,
   "id": "d2d4a557-57a7-4e6f-b8dd-14db8b30b679",
   "metadata": {},
   "outputs": [
    {
     "data": {
      "image/png": "[encoded data removed]",
      "text/plain": [
       "<Figure size 768x288 with 2 Axes>"
      ]
     },
     "metadata": {
      "needs_background": "light"
     },
     "output_type": "display_data"
    }
   ],
   "source": [
    "vis.plot_grouped_space_group_hist(\"structure\", \"space_group_number\", \"categorical_accuracy\");"
   ]
  },
  {
   "cell_type": "code",
   "execution_count": null,
   "id": "0c5740e1-74db-4d87-86f1-113f8382a31c",
   "metadata": {},
   "outputs": [],
   "source": []
  }
 ],
 "metadata": {
  "kernelspec": {
   "display_name": "Python [conda env:st3107-tfgpu] *",
   "language": "python",
   "name": "conda-env-st3107-tfgpu-py"
  },
  "language_info": {
   "codemirror_mode": {
    "name": "ipython",
    "version": 3
   },
   "file_extension": ".py",
   "mimetype": "text/x-python",
   "name": "python",
   "nbconvert_exporter": "python",
   "pygments_lexer": "ipython3",
   "version": "3.9.6"
  }
 },
 "nbformat": 4,
 "nbformat_minor": 5
}
