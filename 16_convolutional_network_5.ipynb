{
 "cells": [
  {
   "cell_type": "markdown",
   "id": "f3d9670e-2a2c-4bf1-a315-9796c6789dc9",
   "metadata": {},
   "source": [
    "# CNN + FC\n",
    "\n",
    "How about making the kernel larger?"
   ]
  },
  {
   "cell_type": "markdown",
   "id": "804cd7c3-db80-4fa9-9d89-4f801ad7d1ed",
   "metadata": {
    "tags": []
   },
   "source": [
    "## Import necessary modules"
   ]
  },
  {
   "cell_type": "code",
   "execution_count": 1,
   "id": "cd85d865-3548-45b8-bf17-c6cdb4234763",
   "metadata": {},
   "outputs": [],
   "source": [
    "# python built-in libraries\n",
    "import datetime"
   ]
  },
  {
   "cell_type": "code",
   "execution_count": 2,
   "id": "56327e98-27db-4fcf-aa87-dde8512b87a2",
   "metadata": {},
   "outputs": [],
   "source": [
    "# choose the tensorflow log level\n",
    "import os\n",
    "os.environ['TF_CPP_MIN_LOG_LEVEL'] = '3'  # or any {'0', '1', '2'}"
   ]
  },
  {
   "cell_type": "code",
   "execution_count": 3,
   "id": "f930e0a7-cbc7-4f7e-8fe6-d50a90e4dcd1",
   "metadata": {},
   "outputs": [],
   "source": [
    "# import tensorflow\n",
    "import tensorflow as tf\n",
    "from tensorflow import keras\n",
    "from tensorflow.keras import layers"
   ]
  },
  {
   "cell_type": "code",
   "execution_count": 4,
   "id": "f020f42a-6eed-4f9c-8e76-26f15f8fff51",
   "metadata": {},
   "outputs": [],
   "source": [
    "# ohter packages\n",
    "import numpy as np\n",
    "\n",
    "import tfhelper.core as tfhelper"
   ]
  },
  {
   "cell_type": "markdown",
   "id": "e3bc5985-ee2c-44f0-9f07-68c483675b77",
   "metadata": {},
   "source": [
    "## Global Variables"
   ]
  },
  {
   "cell_type": "code",
   "execution_count": 5,
   "id": "82f389f0-549e-4dba-94ae-b963afe7b5fe",
   "metadata": {},
   "outputs": [],
   "source": [
    "# sampling\n",
    "FEATURES_FILE = \"./data/tensors/features.npy\"  # path to the file of the feature tensor\n",
    "LABELS_FILE = \"./data/tensors/labels.npy\"  # path to the file of the feature tensor\n",
    "FRACTIONS = (0.8, 0.1, 0.1)  # train, validation, test\n",
    "BATCH_SIZE = 128  # size of the batch\n",
    "BUFFER_SIZE = BATCH_SIZE * 2  # size of the shuffle buffer\n",
    "# training\n",
    "LEARNING_RATE = 0.001  # starting learning rate\n",
    "BETA1 = 0.9  # decay 1\n",
    "BETA2 = 0.999  # decay 2\n",
    "EPOCHS = 200  # number of epochs\n",
    "# saving\n",
    "TIME_STAMP = datetime.datetime.now().strftime(\"%Y%m%d-%H%M%S\")  # time stamp\n",
    "SAVE_LOC = \"./data/models/cnn_5_{}\".format(TIME_STAMP)  # path to the folder to save the model\n",
    "LOG_LOC = \"./data/logs/fit/cnn_5_{}\".format(TIME_STAMP)  # path to the log, if you change this, you also need to change it in the run_tensorboard"
   ]
  },
  {
   "cell_type": "markdown",
   "id": "6e2daffc-3f88-42de-be0e-f614c6e017ba",
   "metadata": {
    "tags": []
   },
   "source": [
    "## Obtain data\n",
    "\n",
    "The data is a 209 data point PDF. The label is a one-hot 2 dim vector. `10` means major phase >= threshold, `01` means major phase <= threshold."
   ]
  },
  {
   "cell_type": "code",
   "execution_count": 6,
   "id": "3d9be3eb-7058-4857-8eea-1cbee6674efa",
   "metadata": {},
   "outputs": [],
   "source": [
    "def load_data():\n",
    "    # load\n",
    "    features, labels = np.load(FEATURES_FILE), np.load(LABELS_FILE)\n",
    "    # shuffle\n",
    "    n = features.shape[0]\n",
    "    shuffled_idx = np.random.permutation(n)\n",
    "    features, labels = features[shuffled_idx], labels[shuffled_idx]\n",
    "    # split\n",
    "    f0, f1, f2 = FRACTIONS\n",
    "    i, j, k = round(f0 * n), round((f0 + f1) * n), round((f0 + f1 + f2) * n)\n",
    "    train_data = tf.data.Dataset.from_tensor_slices((features[:i], labels[:i])).shuffle(BUFFER_SIZE).batch(BATCH_SIZE)\n",
    "    valid_data = tf.data.Dataset.from_tensor_slices((features[i:j], labels[i:j])).batch(BATCH_SIZE)\n",
    "    test_data = tf.data.Dataset.from_tensor_slices((features[j:k], labels[j:k])).batch(BATCH_SIZE)\n",
    "    return train_data, valid_data, test_data"
   ]
  },
  {
   "cell_type": "code",
   "execution_count": 7,
   "id": "76111e4f-5ed3-4318-bee1-9595f8359e5e",
   "metadata": {},
   "outputs": [],
   "source": [
    "train_data, valid_data, test_data = load_data()"
   ]
  },
  {
   "cell_type": "markdown",
   "id": "66341557-8f2e-4edf-876e-015398a118ee",
   "metadata": {},
   "source": [
    "## Create the model\n",
    "\n",
    "We use the logistric regression. It is a single layer with a softmax function."
   ]
  },
  {
   "cell_type": "code",
   "execution_count": 8,
   "id": "2c9ea8fd-4674-47b1-b871-eec08a87b2c4",
   "metadata": {},
   "outputs": [],
   "source": [
    "def create_model():\n",
    "    model = keras.Sequential()\n",
    "    model.add(keras.Input(shape=(209,)))\n",
    "    model.add(keras.layers.Reshape((209, 1)))\n",
    "    model.add(keras.layers.Conv1D(32, 25, strides=1, activation='relu', padding=\"same\"))\n",
    "    model.add(keras.layers.Conv1D(32, 25, strides=1, activation='relu', padding=\"same\"))\n",
    "    model.add(keras.layers.BatchNormalization())\n",
    "    model.add(keras.layers.MaxPooling1D(2))\n",
    "    model.add(keras.layers.Conv1D(64, 25, strides=1, activation='relu', padding=\"same\"))\n",
    "    model.add(keras.layers.Conv1D(64, 25, strides=1, activation='relu', padding=\"same\"))\n",
    "    model.add(keras.layers.BatchNormalization())\n",
    "    model.add(keras.layers.MaxPooling1D(2))\n",
    "    model.add(keras.layers.Dropout(0.2))\n",
    "    model.add(keras.layers.Flatten())\n",
    "    model.add(keras.layers.Dense(256, activation='relu'))\n",
    "    model.add(keras.layers.Dense(128, activation='relu'))\n",
    "    model.add(keras.layers.Dense(64, activation='relu'))\n",
    "    model.add(keras.layers.Dense(2, activation='softmax'))\n",
    "    return model"
   ]
  },
  {
   "cell_type": "code",
   "execution_count": 9,
   "id": "505c4f8e-4b54-4343-877f-8bd6485d7cf3",
   "metadata": {},
   "outputs": [],
   "source": [
    "model = create_model()"
   ]
  },
  {
   "cell_type": "code",
   "execution_count": 10,
   "id": "3ab9ec7a-e391-4912-b9df-659f295ca313",
   "metadata": {},
   "outputs": [
    {
     "name": "stdout",
     "output_type": "stream",
     "text": [
      "Model: \"sequential\"\n",
      "_________________________________________________________________\n",
      "Layer (type)                 Output Shape              Param #   \n",
      "=================================================================\n",
      "reshape (Reshape)            (None, 209, 1)            0         \n",
      "_________________________________________________________________\n",
      "conv1d (Conv1D)              (None, 209, 32)           832       \n",
      "_________________________________________________________________\n",
      "conv1d_1 (Conv1D)            (None, 209, 32)           25632     \n",
      "_________________________________________________________________\n",
      "batch_normalization (BatchNo (None, 209, 32)           128       \n",
      "_________________________________________________________________\n",
      "max_pooling1d (MaxPooling1D) (None, 104, 32)           0         \n",
      "_________________________________________________________________\n",
      "conv1d_2 (Conv1D)            (None, 104, 64)           51264     \n",
      "_________________________________________________________________\n",
      "conv1d_3 (Conv1D)            (None, 104, 64)           102464    \n",
      "_________________________________________________________________\n",
      "batch_normalization_1 (Batch (None, 104, 64)           256       \n",
      "_________________________________________________________________\n",
      "max_pooling1d_1 (MaxPooling1 (None, 52, 64)            0         \n",
      "_________________________________________________________________\n",
      "dropout (Dropout)            (None, 52, 64)            0         \n",
      "_________________________________________________________________\n",
      "flatten (Flatten)            (None, 3328)              0         \n",
      "_________________________________________________________________\n",
      "dense (Dense)                (None, 256)               852224    \n",
      "_________________________________________________________________\n",
      "dense_1 (Dense)              (None, 128)               32896     \n",
      "_________________________________________________________________\n",
      "dense_2 (Dense)              (None, 64)                8256      \n",
      "_________________________________________________________________\n",
      "dense_3 (Dense)              (None, 2)                 130       \n",
      "=================================================================\n",
      "Total params: 1,074,082\n",
      "Trainable params: 1,073,890\n",
      "Non-trainable params: 192\n",
      "_________________________________________________________________\n"
     ]
    }
   ],
   "source": [
    "model.summary()"
   ]
  },
  {
   "cell_type": "markdown",
   "id": "668bbf47-4604-4388-bda2-f7d384b332ae",
   "metadata": {},
   "source": [
    "## Choose optimization method"
   ]
  },
  {
   "cell_type": "code",
   "execution_count": 11,
   "id": "541c52ba-2aa5-48d4-b40c-75d0948b3b2e",
   "metadata": {},
   "outputs": [],
   "source": [
    "model.compile(\n",
    "    # Optimizer\n",
    "    optimizer=keras.optimizers.Adam(LEARNING_RATE, BETA1, BETA2),\n",
    "    # Loss function to minimize\n",
    "    loss=keras.losses.CategoricalCrossentropy(),\n",
    "    # List of metrics to monitor\n",
    "    metrics=[\n",
    "        keras.metrics.CosineSimilarity(),\n",
    "        keras.metrics.TopKCategoricalAccuracy(k=1)\n",
    "    ],\n",
    ")"
   ]
  },
  {
   "cell_type": "markdown",
   "id": "786d396f-3334-433d-99d9-d6026ab524d8",
   "metadata": {
    "tags": []
   },
   "source": [
    "## Train the model"
   ]
  },
  {
   "cell_type": "code",
   "execution_count": 12,
   "id": "a2ac30aa-afc3-42c7-9f7c-0f057f1496d5",
   "metadata": {},
   "outputs": [],
   "source": [
    "# tensor board\n",
    "tensorboard_callback = keras.callbacks.TensorBoard(\n",
    "    log_dir=LOG_LOC, \n",
    "    histogram_freq=1\n",
    ")"
   ]
  },
  {
   "cell_type": "code",
   "execution_count": 13,
   "id": "9de9aa59-d48e-476c-8a18-f83a07ea1015",
   "metadata": {},
   "outputs": [],
   "source": [
    "# early stopping to avoid over fitting\n",
    "earlystopping_callback = keras.callbacks.EarlyStopping(\n",
    "    monitor='val_loss',\n",
    "    patience=30, \n",
    "    restore_best_weights=True\n",
    ")"
   ]
  },
  {
   "cell_type": "code",
   "execution_count": 14,
   "id": "7ecfa6ce-8dd6-4ca9-aab9-d5008b5120b0",
   "metadata": {},
   "outputs": [
    {
     "name": "stdout",
     "output_type": "stream",
     "text": [
      "Epoch 1/200\n",
      "688/688 [==============================] - 34s 30ms/step - loss: 0.6628 - cosine_similarity: 0.7316 - top_k_categorical_accuracy: 0.6317 - val_loss: 0.6366 - val_cosine_similarity: 0.7442 - val_top_k_categorical_accuracy: 0.6458\n",
      "Epoch 2/200\n",
      "688/688 [==============================] - 14s 20ms/step - loss: 0.6328 - cosine_similarity: 0.7467 - top_k_categorical_accuracy: 0.6556 - val_loss: 0.6273 - val_cosine_similarity: 0.7493 - val_top_k_categorical_accuracy: 0.6610\n",
      "Epoch 3/200\n",
      "688/688 [==============================] - 14s 20ms/step - loss: 0.6205 - cosine_similarity: 0.7530 - top_k_categorical_accuracy: 0.6635 - val_loss: 0.6366 - val_cosine_similarity: 0.7436 - val_top_k_categorical_accuracy: 0.6468\n",
      "Epoch 4/200\n",
      "688/688 [==============================] - 14s 20ms/step - loss: 0.6003 - cosine_similarity: 0.7632 - top_k_categorical_accuracy: 0.6803 - val_loss: 0.5959 - val_cosine_similarity: 0.7654 - val_top_k_categorical_accuracy: 0.6843\n",
      "Epoch 5/200\n",
      "688/688 [==============================] - 14s 20ms/step - loss: 0.5728 - cosine_similarity: 0.7763 - top_k_categorical_accuracy: 0.6986 - val_loss: 0.6285 - val_cosine_similarity: 0.7541 - val_top_k_categorical_accuracy: 0.6756\n",
      "Epoch 6/200\n",
      "688/688 [==============================] - 14s 20ms/step - loss: 0.5416 - cosine_similarity: 0.7909 - top_k_categorical_accuracy: 0.7187 - val_loss: 0.5645 - val_cosine_similarity: 0.7816 - val_top_k_categorical_accuracy: 0.7072\n",
      "Epoch 7/200\n",
      "688/688 [==============================] - 14s 20ms/step - loss: 0.5156 - cosine_similarity: 0.8017 - top_k_categorical_accuracy: 0.7338 - val_loss: 0.5448 - val_cosine_similarity: 0.7889 - val_top_k_categorical_accuracy: 0.7104\n",
      "Epoch 8/200\n",
      "688/688 [==============================] - 14s 20ms/step - loss: 0.4904 - cosine_similarity: 0.8120 - top_k_categorical_accuracy: 0.7436 - val_loss: 0.5203 - val_cosine_similarity: 0.8007 - val_top_k_categorical_accuracy: 0.7263\n",
      "Epoch 9/200\n",
      "688/688 [==============================] - 14s 20ms/step - loss: 0.4706 - cosine_similarity: 0.8202 - top_k_categorical_accuracy: 0.7564 - val_loss: 0.5130 - val_cosine_similarity: 0.8054 - val_top_k_categorical_accuracy: 0.7331\n",
      "Epoch 10/200\n",
      "688/688 [==============================] - 14s 20ms/step - loss: 0.4533 - cosine_similarity: 0.8265 - top_k_categorical_accuracy: 0.7624 - val_loss: 0.5389 - val_cosine_similarity: 0.7972 - val_top_k_categorical_accuracy: 0.7230\n",
      "Epoch 11/200\n",
      "688/688 [==============================] - 14s 20ms/step - loss: 0.4368 - cosine_similarity: 0.8335 - top_k_categorical_accuracy: 0.7738 - val_loss: 0.4948 - val_cosine_similarity: 0.8130 - val_top_k_categorical_accuracy: 0.7438\n",
      "Epoch 12/200\n",
      "688/688 [==============================] - 14s 20ms/step - loss: 0.4225 - cosine_similarity: 0.8392 - top_k_categorical_accuracy: 0.7823 - val_loss: 0.4970 - val_cosine_similarity: 0.8140 - val_top_k_categorical_accuracy: 0.7475\n",
      "Epoch 13/200\n",
      "688/688 [==============================] - 14s 20ms/step - loss: 0.4120 - cosine_similarity: 0.8432 - top_k_categorical_accuracy: 0.7858 - val_loss: 0.4956 - val_cosine_similarity: 0.8135 - val_top_k_categorical_accuracy: 0.7470\n",
      "Epoch 14/200\n",
      "688/688 [==============================] - 14s 20ms/step - loss: 0.3986 - cosine_similarity: 0.8483 - top_k_categorical_accuracy: 0.7945 - val_loss: 0.4937 - val_cosine_similarity: 0.8162 - val_top_k_categorical_accuracy: 0.7472\n",
      "Epoch 15/200\n",
      "688/688 [==============================] - 14s 20ms/step - loss: 0.3881 - cosine_similarity: 0.8526 - top_k_categorical_accuracy: 0.7990 - val_loss: 0.4803 - val_cosine_similarity: 0.8225 - val_top_k_categorical_accuracy: 0.7573\n",
      "Epoch 16/200\n",
      "688/688 [==============================] - 14s 20ms/step - loss: 0.3795 - cosine_similarity: 0.8560 - top_k_categorical_accuracy: 0.8038 - val_loss: 0.5066 - val_cosine_similarity: 0.8218 - val_top_k_categorical_accuracy: 0.7620\n",
      "Epoch 17/200\n",
      "688/688 [==============================] - 14s 20ms/step - loss: 0.3692 - cosine_similarity: 0.8598 - top_k_categorical_accuracy: 0.8095 - val_loss: 0.5279 - val_cosine_similarity: 0.8131 - val_top_k_categorical_accuracy: 0.7543\n",
      "Epoch 18/200\n",
      "688/688 [==============================] - 14s 20ms/step - loss: 0.3618 - cosine_similarity: 0.8626 - top_k_categorical_accuracy: 0.8128 - val_loss: 0.5271 - val_cosine_similarity: 0.8104 - val_top_k_categorical_accuracy: 0.7455\n",
      "Epoch 19/200\n",
      "688/688 [==============================] - 14s 20ms/step - loss: 0.3517 - cosine_similarity: 0.8672 - top_k_categorical_accuracy: 0.8195 - val_loss: 0.4927 - val_cosine_similarity: 0.8261 - val_top_k_categorical_accuracy: 0.7665\n",
      "Epoch 20/200\n",
      "688/688 [==============================] - 14s 20ms/step - loss: 0.3453 - cosine_similarity: 0.8698 - top_k_categorical_accuracy: 0.8250 - val_loss: 0.5444 - val_cosine_similarity: 0.8138 - val_top_k_categorical_accuracy: 0.7594\n",
      "Epoch 21/200\n",
      "688/688 [==============================] - 14s 20ms/step - loss: 0.3389 - cosine_similarity: 0.8722 - top_k_categorical_accuracy: 0.8279 - val_loss: 0.4705 - val_cosine_similarity: 0.8346 - val_top_k_categorical_accuracy: 0.7781\n",
      "Epoch 22/200\n",
      "688/688 [==============================] - 14s 20ms/step - loss: 0.3355 - cosine_similarity: 0.8742 - top_k_categorical_accuracy: 0.8315 - val_loss: 0.5525 - val_cosine_similarity: 0.8108 - val_top_k_categorical_accuracy: 0.7569\n",
      "Epoch 23/200\n",
      "688/688 [==============================] - 14s 20ms/step - loss: 0.3304 - cosine_similarity: 0.8757 - top_k_categorical_accuracy: 0.8333 - val_loss: 0.4881 - val_cosine_similarity: 0.8338 - val_top_k_categorical_accuracy: 0.7798\n",
      "Epoch 24/200\n",
      "688/688 [==============================] - 14s 20ms/step - loss: 0.3236 - cosine_similarity: 0.8788 - top_k_categorical_accuracy: 0.8376 - val_loss: 0.5841 - val_cosine_similarity: 0.8117 - val_top_k_categorical_accuracy: 0.7624\n",
      "Epoch 25/200\n",
      "688/688 [==============================] - 14s 20ms/step - loss: 0.3170 - cosine_similarity: 0.8810 - top_k_categorical_accuracy: 0.8394 - val_loss: 0.4671 - val_cosine_similarity: 0.8400 - val_top_k_categorical_accuracy: 0.7858\n",
      "Epoch 26/200\n",
      "688/688 [==============================] - 14s 20ms/step - loss: 0.3134 - cosine_similarity: 0.8821 - top_k_categorical_accuracy: 0.8419 - val_loss: 0.4998 - val_cosine_similarity: 0.8265 - val_top_k_categorical_accuracy: 0.7703\n",
      "Epoch 27/200\n",
      "688/688 [==============================] - 14s 20ms/step - loss: 0.3136 - cosine_similarity: 0.8827 - top_k_categorical_accuracy: 0.8422 - val_loss: 0.4846 - val_cosine_similarity: 0.8362 - val_top_k_categorical_accuracy: 0.7825\n",
      "Epoch 28/200\n",
      "688/688 [==============================] - 14s 20ms/step - loss: 0.3024 - cosine_similarity: 0.8866 - top_k_categorical_accuracy: 0.8462 - val_loss: 0.4452 - val_cosine_similarity: 0.8503 - val_top_k_categorical_accuracy: 0.8016\n",
      "Epoch 29/200\n",
      "688/688 [==============================] - 14s 20ms/step - loss: 0.2967 - cosine_similarity: 0.8891 - top_k_categorical_accuracy: 0.8523 - val_loss: 0.4713 - val_cosine_similarity: 0.8372 - val_top_k_categorical_accuracy: 0.7829\n",
      "Epoch 30/200\n",
      "688/688 [==============================] - 14s 20ms/step - loss: 0.2928 - cosine_similarity: 0.8909 - top_k_categorical_accuracy: 0.8545 - val_loss: 0.4316 - val_cosine_similarity: 0.8578 - val_top_k_categorical_accuracy: 0.8132\n",
      "Epoch 31/200\n",
      "688/688 [==============================] - 14s 20ms/step - loss: 0.2888 - cosine_similarity: 0.8927 - top_k_categorical_accuracy: 0.8572 - val_loss: 0.4675 - val_cosine_similarity: 0.8448 - val_top_k_categorical_accuracy: 0.7959\n",
      "Epoch 32/200\n",
      "688/688 [==============================] - 14s 20ms/step - loss: 0.2819 - cosine_similarity: 0.8952 - top_k_categorical_accuracy: 0.8593 - val_loss: 0.4667 - val_cosine_similarity: 0.8474 - val_top_k_categorical_accuracy: 0.7994\n",
      "Epoch 33/200\n",
      "688/688 [==============================] - 14s 20ms/step - loss: 0.2831 - cosine_similarity: 0.8950 - top_k_categorical_accuracy: 0.8596 - val_loss: 0.4523 - val_cosine_similarity: 0.8542 - val_top_k_categorical_accuracy: 0.8065\n",
      "Epoch 34/200\n",
      "688/688 [==============================] - 14s 20ms/step - loss: 0.2768 - cosine_similarity: 0.8974 - top_k_categorical_accuracy: 0.8634 - val_loss: 0.4727 - val_cosine_similarity: 0.8437 - val_top_k_categorical_accuracy: 0.7933\n",
      "Epoch 35/200\n",
      "688/688 [==============================] - 14s 20ms/step - loss: 0.2747 - cosine_similarity: 0.8980 - top_k_categorical_accuracy: 0.8643 - val_loss: 0.4492 - val_cosine_similarity: 0.8522 - val_top_k_categorical_accuracy: 0.8082\n",
      "Epoch 36/200\n",
      "688/688 [==============================] - 14s 20ms/step - loss: 0.2710 - cosine_similarity: 0.8989 - top_k_categorical_accuracy: 0.8639 - val_loss: 0.4662 - val_cosine_similarity: 0.8466 - val_top_k_categorical_accuracy: 0.7950\n",
      "Epoch 37/200\n",
      "688/688 [==============================] - 14s 20ms/step - loss: 0.2719 - cosine_similarity: 0.8993 - top_k_categorical_accuracy: 0.8651 - val_loss: 0.4768 - val_cosine_similarity: 0.8374 - val_top_k_categorical_accuracy: 0.7845\n",
      "Epoch 38/200\n",
      "688/688 [==============================] - 14s 20ms/step - loss: 0.2663 - cosine_similarity: 0.9013 - top_k_categorical_accuracy: 0.8694 - val_loss: 0.4786 - val_cosine_similarity: 0.8472 - val_top_k_categorical_accuracy: 0.7958\n",
      "Epoch 39/200\n",
      "688/688 [==============================] - 14s 20ms/step - loss: 0.2682 - cosine_similarity: 0.9008 - top_k_categorical_accuracy: 0.8683 - val_loss: 0.4847 - val_cosine_similarity: 0.8337 - val_top_k_categorical_accuracy: 0.7801\n",
      "Epoch 40/200\n",
      "688/688 [==============================] - 14s 20ms/step - loss: 0.2635 - cosine_similarity: 0.9022 - top_k_categorical_accuracy: 0.8698 - val_loss: 0.5518 - val_cosine_similarity: 0.8199 - val_top_k_categorical_accuracy: 0.7703\n",
      "Epoch 41/200\n",
      "688/688 [==============================] - 14s 20ms/step - loss: 0.2577 - cosine_similarity: 0.9046 - top_k_categorical_accuracy: 0.8725 - val_loss: 0.5092 - val_cosine_similarity: 0.8328 - val_top_k_categorical_accuracy: 0.7804\n",
      "Epoch 42/200\n",
      "688/688 [==============================] - 14s 20ms/step - loss: 0.2522 - cosine_similarity: 0.9068 - top_k_categorical_accuracy: 0.8755 - val_loss: 0.4452 - val_cosine_similarity: 0.8597 - val_top_k_categorical_accuracy: 0.8179\n",
      "Epoch 43/200\n",
      "688/688 [==============================] - 14s 20ms/step - loss: 0.2507 - cosine_similarity: 0.9076 - top_k_categorical_accuracy: 0.8775 - val_loss: 0.4841 - val_cosine_similarity: 0.8458 - val_top_k_categorical_accuracy: 0.7983\n",
      "Epoch 44/200\n",
      "688/688 [==============================] - 14s 20ms/step - loss: 0.2480 - cosine_similarity: 0.9086 - top_k_categorical_accuracy: 0.8789 - val_loss: 0.4613 - val_cosine_similarity: 0.8547 - val_top_k_categorical_accuracy: 0.8082\n",
      "Epoch 45/200\n",
      "688/688 [==============================] - 14s 20ms/step - loss: 0.2479 - cosine_similarity: 0.9085 - top_k_categorical_accuracy: 0.8767 - val_loss: 0.4763 - val_cosine_similarity: 0.8593 - val_top_k_categorical_accuracy: 0.8211\n",
      "Epoch 46/200\n",
      "688/688 [==============================] - 14s 20ms/step - loss: 0.2465 - cosine_similarity: 0.9096 - top_k_categorical_accuracy: 0.8798 - val_loss: 0.4690 - val_cosine_similarity: 0.8570 - val_top_k_categorical_accuracy: 0.8141\n",
      "Epoch 47/200\n",
      "688/688 [==============================] - 14s 20ms/step - loss: 0.2449 - cosine_similarity: 0.9097 - top_k_categorical_accuracy: 0.8797 - val_loss: 0.4433 - val_cosine_similarity: 0.8647 - val_top_k_categorical_accuracy: 0.8272\n",
      "Epoch 48/200\n",
      "688/688 [==============================] - 14s 20ms/step - loss: 0.2395 - cosine_similarity: 0.9116 - top_k_categorical_accuracy: 0.8816 - val_loss: 0.4674 - val_cosine_similarity: 0.8480 - val_top_k_categorical_accuracy: 0.7968\n",
      "Epoch 49/200\n",
      "688/688 [==============================] - 14s 20ms/step - loss: 0.2367 - cosine_similarity: 0.9131 - top_k_categorical_accuracy: 0.8848 - val_loss: 0.4527 - val_cosine_similarity: 0.8529 - val_top_k_categorical_accuracy: 0.8052\n",
      "Epoch 50/200\n",
      "688/688 [==============================] - 14s 20ms/step - loss: 0.2415 - cosine_similarity: 0.9117 - top_k_categorical_accuracy: 0.8840 - val_loss: 0.4608 - val_cosine_similarity: 0.8649 - val_top_k_categorical_accuracy: 0.8263\n",
      "Epoch 51/200\n",
      "688/688 [==============================] - 14s 20ms/step - loss: 0.2360 - cosine_similarity: 0.9129 - top_k_categorical_accuracy: 0.8843 - val_loss: 0.4674 - val_cosine_similarity: 0.8603 - val_top_k_categorical_accuracy: 0.8185\n",
      "Epoch 52/200\n",
      "688/688 [==============================] - 14s 20ms/step - loss: 0.2353 - cosine_similarity: 0.9134 - top_k_categorical_accuracy: 0.8859 - val_loss: 0.4482 - val_cosine_similarity: 0.8648 - val_top_k_categorical_accuracy: 0.8278\n",
      "Epoch 53/200\n",
      "688/688 [==============================] - 14s 20ms/step - loss: 0.2332 - cosine_similarity: 0.9146 - top_k_categorical_accuracy: 0.8861 - val_loss: 0.4300 - val_cosine_similarity: 0.8723 - val_top_k_categorical_accuracy: 0.8399\n",
      "Epoch 54/200\n",
      "688/688 [==============================] - 14s 20ms/step - loss: 0.2288 - cosine_similarity: 0.9159 - top_k_categorical_accuracy: 0.8891 - val_loss: 0.4660 - val_cosine_similarity: 0.8565 - val_top_k_categorical_accuracy: 0.8145\n",
      "Epoch 55/200\n",
      "688/688 [==============================] - 14s 20ms/step - loss: 0.2268 - cosine_similarity: 0.9168 - top_k_categorical_accuracy: 0.8901 - val_loss: 0.4579 - val_cosine_similarity: 0.8625 - val_top_k_categorical_accuracy: 0.8242\n",
      "Epoch 56/200\n",
      "688/688 [==============================] - 14s 20ms/step - loss: 0.2238 - cosine_similarity: 0.9178 - top_k_categorical_accuracy: 0.8906 - val_loss: 0.4567 - val_cosine_similarity: 0.8671 - val_top_k_categorical_accuracy: 0.8308\n",
      "Epoch 57/200\n",
      "688/688 [==============================] - 14s 20ms/step - loss: 0.2215 - cosine_similarity: 0.9190 - top_k_categorical_accuracy: 0.8926 - val_loss: 0.4740 - val_cosine_similarity: 0.8519 - val_top_k_categorical_accuracy: 0.8051\n",
      "Epoch 58/200\n",
      "688/688 [==============================] - 14s 20ms/step - loss: 0.2260 - cosine_similarity: 0.9171 - top_k_categorical_accuracy: 0.8902 - val_loss: 0.4808 - val_cosine_similarity: 0.8628 - val_top_k_categorical_accuracy: 0.8251\n",
      "Epoch 59/200\n",
      "688/688 [==============================] - 14s 20ms/step - loss: 0.2242 - cosine_similarity: 0.9176 - top_k_categorical_accuracy: 0.8915 - val_loss: 0.4404 - val_cosine_similarity: 0.8693 - val_top_k_categorical_accuracy: 0.8336\n",
      "Epoch 60/200\n",
      "688/688 [==============================] - 14s 20ms/step - loss: 0.2183 - cosine_similarity: 0.9200 - top_k_categorical_accuracy: 0.8933 - val_loss: 0.4497 - val_cosine_similarity: 0.8712 - val_top_k_categorical_accuracy: 0.8357\n",
      "Epoch 61/200\n",
      "688/688 [==============================] - 14s 20ms/step - loss: 0.2230 - cosine_similarity: 0.9187 - top_k_categorical_accuracy: 0.8926 - val_loss: 0.4556 - val_cosine_similarity: 0.8687 - val_top_k_categorical_accuracy: 0.8300\n",
      "Epoch 62/200\n",
      "688/688 [==============================] - 14s 20ms/step - loss: 0.2109 - cosine_similarity: 0.9232 - top_k_categorical_accuracy: 0.8998 - val_loss: 0.4649 - val_cosine_similarity: 0.8705 - val_top_k_categorical_accuracy: 0.8395\n",
      "Epoch 63/200\n",
      "688/688 [==============================] - 14s 20ms/step - loss: 0.2158 - cosine_similarity: 0.9207 - top_k_categorical_accuracy: 0.8952 - val_loss: 0.4546 - val_cosine_similarity: 0.8657 - val_top_k_categorical_accuracy: 0.8259\n",
      "Epoch 64/200\n",
      "688/688 [==============================] - 14s 20ms/step - loss: 0.2124 - cosine_similarity: 0.9228 - top_k_categorical_accuracy: 0.8984 - val_loss: 0.4439 - val_cosine_similarity: 0.8736 - val_top_k_categorical_accuracy: 0.8385\n",
      "Epoch 65/200\n",
      "688/688 [==============================] - 14s 20ms/step - loss: 0.2109 - cosine_similarity: 0.9229 - top_k_categorical_accuracy: 0.8979 - val_loss: 0.4299 - val_cosine_similarity: 0.8754 - val_top_k_categorical_accuracy: 0.8432\n",
      "Epoch 66/200\n",
      "688/688 [==============================] - 14s 20ms/step - loss: 0.2169 - cosine_similarity: 0.9210 - top_k_categorical_accuracy: 0.8958 - val_loss: 0.4526 - val_cosine_similarity: 0.8649 - val_top_k_categorical_accuracy: 0.8314\n",
      "Epoch 67/200\n",
      "688/688 [==============================] - 14s 20ms/step - loss: 0.2071 - cosine_similarity: 0.9243 - top_k_categorical_accuracy: 0.8997 - val_loss: 0.4436 - val_cosine_similarity: 0.8749 - val_top_k_categorical_accuracy: 0.8436\n",
      "Epoch 68/200\n",
      "688/688 [==============================] - 14s 20ms/step - loss: 0.2126 - cosine_similarity: 0.9222 - top_k_categorical_accuracy: 0.8966 - val_loss: 0.4376 - val_cosine_similarity: 0.8705 - val_top_k_categorical_accuracy: 0.8360\n",
      "Epoch 69/200\n",
      "688/688 [==============================] - 14s 20ms/step - loss: 0.2072 - cosine_similarity: 0.9243 - top_k_categorical_accuracy: 0.8992 - val_loss: 0.4206 - val_cosine_similarity: 0.8775 - val_top_k_categorical_accuracy: 0.8434\n",
      "Epoch 70/200\n",
      "688/688 [==============================] - 14s 20ms/step - loss: 0.2020 - cosine_similarity: 0.9261 - top_k_categorical_accuracy: 0.9020 - val_loss: 0.4950 - val_cosine_similarity: 0.8598 - val_top_k_categorical_accuracy: 0.8299\n",
      "Epoch 71/200\n",
      "688/688 [==============================] - 14s 20ms/step - loss: 0.2044 - cosine_similarity: 0.9260 - top_k_categorical_accuracy: 0.9027 - val_loss: 0.4745 - val_cosine_similarity: 0.8700 - val_top_k_categorical_accuracy: 0.8362\n",
      "Epoch 72/200\n",
      "688/688 [==============================] - 14s 20ms/step - loss: 0.2024 - cosine_similarity: 0.9265 - top_k_categorical_accuracy: 0.9036 - val_loss: 0.4354 - val_cosine_similarity: 0.8757 - val_top_k_categorical_accuracy: 0.8425\n",
      "Epoch 73/200\n",
      "688/688 [==============================] - 14s 20ms/step - loss: 0.2007 - cosine_similarity: 0.9268 - top_k_categorical_accuracy: 0.9032 - val_loss: 0.4675 - val_cosine_similarity: 0.8731 - val_top_k_categorical_accuracy: 0.8399\n",
      "Epoch 74/200\n",
      "688/688 [==============================] - 14s 20ms/step - loss: 0.2043 - cosine_similarity: 0.9257 - top_k_categorical_accuracy: 0.9014 - val_loss: 0.4633 - val_cosine_similarity: 0.8728 - val_top_k_categorical_accuracy: 0.8401\n",
      "Epoch 75/200\n",
      "688/688 [==============================] - 14s 20ms/step - loss: 0.1982 - cosine_similarity: 0.9282 - top_k_categorical_accuracy: 0.9065 - val_loss: 0.4451 - val_cosine_similarity: 0.8756 - val_top_k_categorical_accuracy: 0.8448\n",
      "Epoch 76/200\n",
      "688/688 [==============================] - 14s 20ms/step - loss: 0.2028 - cosine_similarity: 0.9261 - top_k_categorical_accuracy: 0.9024 - val_loss: 0.4879 - val_cosine_similarity: 0.8684 - val_top_k_categorical_accuracy: 0.8339\n",
      "Epoch 77/200\n",
      "688/688 [==============================] - 14s 20ms/step - loss: 0.1989 - cosine_similarity: 0.9276 - top_k_categorical_accuracy: 0.9053 - val_loss: 0.4928 - val_cosine_similarity: 0.8651 - val_top_k_categorical_accuracy: 0.8325\n",
      "Epoch 78/200\n",
      "688/688 [==============================] - 14s 20ms/step - loss: 0.1974 - cosine_similarity: 0.9282 - top_k_categorical_accuracy: 0.9057 - val_loss: 0.4460 - val_cosine_similarity: 0.8743 - val_top_k_categorical_accuracy: 0.8430\n",
      "Epoch 79/200\n",
      "688/688 [==============================] - 14s 20ms/step - loss: 0.1946 - cosine_similarity: 0.9296 - top_k_categorical_accuracy: 0.9060 - val_loss: 0.6421 - val_cosine_similarity: 0.8396 - val_top_k_categorical_accuracy: 0.8094\n",
      "Epoch 80/200\n",
      "688/688 [==============================] - 14s 20ms/step - loss: 0.1949 - cosine_similarity: 0.9294 - top_k_categorical_accuracy: 0.9078 - val_loss: 0.4882 - val_cosine_similarity: 0.8726 - val_top_k_categorical_accuracy: 0.8417\n",
      "Epoch 81/200\n",
      "688/688 [==============================] - 14s 20ms/step - loss: 0.1975 - cosine_similarity: 0.9282 - top_k_categorical_accuracy: 0.9055 - val_loss: 0.9070 - val_cosine_similarity: 0.8043 - val_top_k_categorical_accuracy: 0.7798\n",
      "Epoch 82/200\n",
      "688/688 [==============================] - 14s 20ms/step - loss: 0.1915 - cosine_similarity: 0.9306 - top_k_categorical_accuracy: 0.9092 - val_loss: 0.5503 - val_cosine_similarity: 0.8621 - val_top_k_categorical_accuracy: 0.8312\n",
      "Epoch 83/200\n",
      "688/688 [==============================] - 14s 20ms/step - loss: 0.1937 - cosine_similarity: 0.9298 - top_k_categorical_accuracy: 0.9074 - val_loss: 0.5453 - val_cosine_similarity: 0.8600 - val_top_k_categorical_accuracy: 0.8280\n",
      "Epoch 84/200\n",
      "688/688 [==============================] - 14s 20ms/step - loss: 0.1937 - cosine_similarity: 0.9297 - top_k_categorical_accuracy: 0.9075 - val_loss: 0.8647 - val_cosine_similarity: 0.8111 - val_top_k_categorical_accuracy: 0.7868\n",
      "Epoch 85/200\n",
      "688/688 [==============================] - 14s 20ms/step - loss: 0.1892 - cosine_similarity: 0.9319 - top_k_categorical_accuracy: 0.9101 - val_loss: 0.6243 - val_cosine_similarity: 0.8483 - val_top_k_categorical_accuracy: 0.8186\n",
      "Epoch 86/200\n",
      "688/688 [==============================] - 14s 20ms/step - loss: 0.1909 - cosine_similarity: 0.9309 - top_k_categorical_accuracy: 0.9100 - val_loss: 1.0206 - val_cosine_similarity: 0.7936 - val_top_k_categorical_accuracy: 0.7685\n",
      "Epoch 87/200\n",
      "688/688 [==============================] - 14s 20ms/step - loss: 0.1926 - cosine_similarity: 0.9302 - top_k_categorical_accuracy: 0.9077 - val_loss: 0.7935 - val_cosine_similarity: 0.8208 - val_top_k_categorical_accuracy: 0.7937\n",
      "Epoch 88/200\n",
      "688/688 [==============================] - 14s 20ms/step - loss: 0.1852 - cosine_similarity: 0.9331 - top_k_categorical_accuracy: 0.9131 - val_loss: 1.1393 - val_cosine_similarity: 0.7999 - val_top_k_categorical_accuracy: 0.7775\n",
      "Epoch 89/200\n",
      "688/688 [==============================] - 14s 20ms/step - loss: 0.1849 - cosine_similarity: 0.9327 - top_k_categorical_accuracy: 0.9116 - val_loss: 0.8018 - val_cosine_similarity: 0.8206 - val_top_k_categorical_accuracy: 0.7931\n",
      "Epoch 90/200\n",
      "688/688 [==============================] - 14s 20ms/step - loss: 0.1837 - cosine_similarity: 0.9334 - top_k_categorical_accuracy: 0.9129 - val_loss: 0.9359 - val_cosine_similarity: 0.8112 - val_top_k_categorical_accuracy: 0.7868\n",
      "Epoch 91/200\n",
      "688/688 [==============================] - 14s 20ms/step - loss: 0.1885 - cosine_similarity: 0.9320 - top_k_categorical_accuracy: 0.9106 - val_loss: 1.0657 - val_cosine_similarity: 0.7970 - val_top_k_categorical_accuracy: 0.7710\n",
      "Epoch 92/200\n",
      "688/688 [==============================] - 14s 20ms/step - loss: 0.1835 - cosine_similarity: 0.9336 - top_k_categorical_accuracy: 0.9131 - val_loss: 1.3611 - val_cosine_similarity: 0.7866 - val_top_k_categorical_accuracy: 0.7661\n",
      "Epoch 93/200\n",
      "688/688 [==============================] - 14s 20ms/step - loss: 0.1848 - cosine_similarity: 0.9339 - top_k_categorical_accuracy: 0.9155 - val_loss: 1.0388 - val_cosine_similarity: 0.8035 - val_top_k_categorical_accuracy: 0.7805\n",
      "Epoch 94/200\n",
      "688/688 [==============================] - 14s 20ms/step - loss: 0.1871 - cosine_similarity: 0.9321 - top_k_categorical_accuracy: 0.9102 - val_loss: 1.2864 - val_cosine_similarity: 0.7881 - val_top_k_categorical_accuracy: 0.7690\n",
      "Epoch 95/200\n",
      "688/688 [==============================] - 14s 20ms/step - loss: 0.1831 - cosine_similarity: 0.9338 - top_k_categorical_accuracy: 0.9125 - val_loss: 1.2716 - val_cosine_similarity: 0.7887 - val_top_k_categorical_accuracy: 0.7688\n",
      "Epoch 96/200\n",
      "688/688 [==============================] - 14s 20ms/step - loss: 0.1784 - cosine_similarity: 0.9359 - top_k_categorical_accuracy: 0.9163 - val_loss: 1.5687 - val_cosine_similarity: 0.7725 - val_top_k_categorical_accuracy: 0.7561\n",
      "Epoch 97/200\n",
      "688/688 [==============================] - 14s 20ms/step - loss: 0.1846 - cosine_similarity: 0.9341 - top_k_categorical_accuracy: 0.9138 - val_loss: 1.6520 - val_cosine_similarity: 0.7787 - val_top_k_categorical_accuracy: 0.7651\n",
      "Epoch 98/200\n",
      "688/688 [==============================] - 14s 20ms/step - loss: 0.1815 - cosine_similarity: 0.9350 - top_k_categorical_accuracy: 0.9146 - val_loss: 1.0883 - val_cosine_similarity: 0.8054 - val_top_k_categorical_accuracy: 0.7840\n",
      "Epoch 99/200\n",
      "688/688 [==============================] - 14s 20ms/step - loss: 0.1803 - cosine_similarity: 0.9349 - top_k_categorical_accuracy: 0.9148 - val_loss: 1.2807 - val_cosine_similarity: 0.8000 - val_top_k_categorical_accuracy: 0.7783\n"
     ]
    }
   ],
   "source": [
    "history = model.fit(\n",
    "    x=train_data,\n",
    "    epochs=EPOCHS,\n",
    "    callbacks=[\n",
    "        tensorboard_callback,\n",
    "        earlystopping_callback\n",
    "    ],\n",
    "    validation_data=valid_data\n",
    ")"
   ]
  },
  {
   "cell_type": "markdown",
   "id": "177de451-f03a-495d-a09d-755626fce563",
   "metadata": {},
   "source": [
    "## Evaluate the model"
   ]
  },
  {
   "cell_type": "code",
   "execution_count": 15,
   "id": "9d0f540d-a99b-405b-8d05-f138f55a95e5",
   "metadata": {},
   "outputs": [
    {
     "name": "stdout",
     "output_type": "stream",
     "text": [
      "86/86 [==============================] - 1s 7ms/step - loss: 0.4411 - cosine_similarity: 0.8782 - top_k_categorical_accuracy: 0.8471\n"
     ]
    }
   ],
   "source": [
    "result = model.evaluate(\n",
    "    x=test_data,\n",
    "    return_dict=True\n",
    ")"
   ]
  },
  {
   "cell_type": "code",
   "execution_count": 16,
   "id": "296385b0-a5b1-43eb-9aa8-59c7e15a036b",
   "metadata": {},
   "outputs": [
    {
     "name": "stdout",
     "output_type": "stream",
     "text": [
      "loss                 0.4411\n",
      "cosine_similarity    0.8782\n",
      "top_k_categorical_accuracy 0.8471\n"
     ]
    }
   ],
   "source": [
    "for name, val in result.items():\n",
    "    print(\"{:20s} {:.4f}\".format(name, val))"
   ]
  },
  {
   "cell_type": "markdown",
   "id": "570cabab-3653-4151-a2a7-051680c25de8",
   "metadata": {},
   "source": [
    "## Save the model"
   ]
  },
  {
   "cell_type": "code",
   "execution_count": 17,
   "id": "416ba8a8-9e6d-4d5e-9685-e211f2f759f4",
   "metadata": {},
   "outputs": [
    {
     "name": "stdout",
     "output_type": "stream",
     "text": [
      "INFO:tensorflow:Assets written to: ./data/models/cnn_5_20210914-210742/assets\n"
     ]
    }
   ],
   "source": [
    "model.save(SAVE_LOC)"
   ]
  },
  {
   "cell_type": "code",
   "execution_count": null,
   "id": "82f86cd8-cb7a-4913-8b67-e398bcdf2e3a",
   "metadata": {},
   "outputs": [],
   "source": []
  }
 ],
 "metadata": {
  "kernelspec": {
   "display_name": "Python [conda env:st3107-tfgpu] *",
   "language": "python",
   "name": "conda-env-st3107-tfgpu-py"
  },
  "language_info": {
   "codemirror_mode": {
    "name": "ipython",
    "version": 3
   },
   "file_extension": ".py",
   "mimetype": "text/x-python",
   "name": "python",
   "nbconvert_exporter": "python",
   "pygments_lexer": "ipython3",
   "version": "3.9.6"
  }
 },
 "nbformat": 4,
 "nbformat_minor": 5
}
