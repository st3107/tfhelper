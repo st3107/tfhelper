{
 "cells": [
  {
   "cell_type": "markdown",
   "id": "f3d9670e-2a2c-4bf1-a315-9796c6789dc9",
   "metadata": {},
   "source": [
    "# Run logistic regression on fraction labels\n",
    "\n",
    "Run the logistic regression as the first model for the project. It will be used to compare with the deep learning model."
   ]
  },
  {
   "cell_type": "markdown",
   "id": "804cd7c3-db80-4fa9-9d89-4f801ad7d1ed",
   "metadata": {},
   "source": [
    "## Import necessary modules"
   ]
  },
  {
   "cell_type": "code",
   "execution_count": 1,
   "id": "cd85d865-3548-45b8-bf17-c6cdb4234763",
   "metadata": {},
   "outputs": [],
   "source": [
    "# python built-in libraries\n",
    "import datetime"
   ]
  },
  {
   "cell_type": "code",
   "execution_count": 2,
   "id": "56327e98-27db-4fcf-aa87-dde8512b87a2",
   "metadata": {},
   "outputs": [],
   "source": [
    "# choose the tensorflow log level\n",
    "import os\n",
    "os.environ['TF_CPP_MIN_LOG_LEVEL'] = '3'  # or any {'0', '1', '2'}"
   ]
  },
  {
   "cell_type": "code",
   "execution_count": 3,
   "id": "f930e0a7-cbc7-4f7e-8fe6-d50a90e4dcd1",
   "metadata": {},
   "outputs": [],
   "source": [
    "# import tensorflow\n",
    "import tensorflow as tf\n",
    "from tensorflow import keras\n",
    "from tensorflow.keras import layers"
   ]
  },
  {
   "cell_type": "code",
   "execution_count": 4,
   "id": "f020f42a-6eed-4f9c-8e76-26f15f8fff51",
   "metadata": {},
   "outputs": [],
   "source": [
    "# ohter packages\n",
    "import numpy as np\n",
    "\n",
    "import tfhelper.core as tfhelper"
   ]
  },
  {
   "cell_type": "markdown",
   "id": "e3bc5985-ee2c-44f0-9f07-68c483675b77",
   "metadata": {},
   "source": [
    "## Global Variables"
   ]
  },
  {
   "cell_type": "code",
   "execution_count": 5,
   "id": "82f389f0-549e-4dba-94ae-b963afe7b5fe",
   "metadata": {},
   "outputs": [],
   "source": [
    "# sampling\n",
    "FEATURES_FILE = \"./data/tensors/features.npy\"  # path to the file of the feature tensor\n",
    "LABELS_FILE = \"./data/tensors/labels.npy\"  # path to the file of the feature tensor\n",
    "FRACTIONS = (0.8, 0.1, 0.1)  # train, validation, test\n",
    "BATCH_SIZE = 128  # size of the batch\n",
    "BUFFER_SIZE = BATCH_SIZE * 2  # size of the shuffle buffer\n",
    "# training\n",
    "LEARNING_RATE = 0.001  # starting learning rate\n",
    "BETA1 = 0.9  # decay 1\n",
    "BETA2 = 0.999  # decay 2\n",
    "EPOCHS = 200  # number of epochs\n",
    "# saving\n",
    "TIME_STAMP = datetime.datetime.now().strftime(\"%Y%m%d-%H%M%S\")  # time stamp\n",
    "SAVE_LOC = \"./data/models/lr_{}\".format(TIME_STAMP)  # path to the folder to save the model\n",
    "LOG_LOC = \"./data/logs/fit/lr_{}\".format(TIME_STAMP)  # path to the log, if you change this, you also need to change it in the run_tensorboard"
   ]
  },
  {
   "cell_type": "markdown",
   "id": "6e2daffc-3f88-42de-be0e-f614c6e017ba",
   "metadata": {
    "tags": []
   },
   "source": [
    "## Obtain data\n",
    "\n",
    "The data is a 209 data point PDF. The label is a one-hot 2 dim vector. `10` means major phase >= threshold, `01` means major phase <= threshold."
   ]
  },
  {
   "cell_type": "code",
   "execution_count": 6,
   "id": "3d9be3eb-7058-4857-8eea-1cbee6674efa",
   "metadata": {},
   "outputs": [],
   "source": [
    "def load_data():\n",
    "    # load\n",
    "    features, labels = np.load(FEATURES_FILE), np.load(LABELS_FILE)\n",
    "    # shuffle\n",
    "    n = features.shape[0]\n",
    "    shuffled_idx = np.random.permutation(n)\n",
    "    features, labels = features[shuffled_idx], labels[shuffled_idx]\n",
    "    # split\n",
    "    f0, f1, f2 = FRACTIONS\n",
    "    i, j, k = round(f0 * n), round((f0 + f1) * n), round((f0 + f1 + f2) * n)\n",
    "    train_data = tf.data.Dataset.from_tensor_slices((features[:i], labels[:i])).shuffle(BUFFER_SIZE).batch(BATCH_SIZE)\n",
    "    valid_data = tf.data.Dataset.from_tensor_slices((features[i:j], labels[i:j])).batch(BATCH_SIZE)\n",
    "    test_data = tf.data.Dataset.from_tensor_slices((features[j:k], labels[j:k])).batch(BATCH_SIZE)\n",
    "    return train_data, valid_data, test_data"
   ]
  },
  {
   "cell_type": "code",
   "execution_count": 7,
   "id": "76111e4f-5ed3-4318-bee1-9595f8359e5e",
   "metadata": {},
   "outputs": [],
   "source": [
    "train_data, valid_data, test_data = load_data()"
   ]
  },
  {
   "cell_type": "markdown",
   "id": "66341557-8f2e-4edf-876e-015398a118ee",
   "metadata": {},
   "source": [
    "## Create the model\n",
    "\n",
    "We use the logistric regression. It is a single layer with a softmax function."
   ]
  },
  {
   "cell_type": "code",
   "execution_count": 8,
   "id": "2c9ea8fd-4674-47b1-b871-eec08a87b2c4",
   "metadata": {},
   "outputs": [],
   "source": [
    "def create_model():\n",
    "    model = keras.Sequential()\n",
    "    model.add(keras.Input(shape=(209,)))\n",
    "    model.add(layers.Dense(2, activation=\"softmax\"))\n",
    "    return model"
   ]
  },
  {
   "cell_type": "code",
   "execution_count": 9,
   "id": "505c4f8e-4b54-4343-877f-8bd6485d7cf3",
   "metadata": {},
   "outputs": [],
   "source": [
    "model = create_model()"
   ]
  },
  {
   "cell_type": "code",
   "execution_count": 10,
   "id": "33d75cc4-a197-4b09-a2f7-ef735937c775",
   "metadata": {},
   "outputs": [
    {
     "name": "stdout",
     "output_type": "stream",
     "text": [
      "Model: \"sequential\"\n",
      "_________________________________________________________________\n",
      "Layer (type)                 Output Shape              Param #   \n",
      "=================================================================\n",
      "dense (Dense)                (None, 2)                 420       \n",
      "=================================================================\n",
      "Total params: 420\n",
      "Trainable params: 420\n",
      "Non-trainable params: 0\n",
      "_________________________________________________________________\n"
     ]
    }
   ],
   "source": [
    "model.summary()"
   ]
  },
  {
   "cell_type": "markdown",
   "id": "668bbf47-4604-4388-bda2-f7d384b332ae",
   "metadata": {},
   "source": [
    "## Choose optimization method"
   ]
  },
  {
   "cell_type": "code",
   "execution_count": 11,
   "id": "541c52ba-2aa5-48d4-b40c-75d0948b3b2e",
   "metadata": {},
   "outputs": [],
   "source": [
    "model.compile(\n",
    "    # Optimizer\n",
    "    optimizer=keras.optimizers.Adam(LEARNING_RATE, BETA1, BETA2),\n",
    "    # Loss function to minimize\n",
    "    loss=keras.losses.CategoricalCrossentropy(),\n",
    "    # List of metrics to monitor\n",
    "    metrics=[\n",
    "        keras.metrics.CosineSimilarity()\n",
    "    ],\n",
    ")"
   ]
  },
  {
   "cell_type": "markdown",
   "id": "786d396f-3334-433d-99d9-d6026ab524d8",
   "metadata": {
    "tags": []
   },
   "source": [
    "## Train the model"
   ]
  },
  {
   "cell_type": "code",
   "execution_count": 12,
   "id": "a2ac30aa-afc3-42c7-9f7c-0f057f1496d5",
   "metadata": {},
   "outputs": [],
   "source": [
    "# tensor board\n",
    "tensorboard_callback = tf.keras.callbacks.TensorBoard(log_dir=LOG_LOC, histogram_freq=1)"
   ]
  },
  {
   "cell_type": "code",
   "execution_count": 13,
   "id": "4d9f039e-f42a-422a-ab33-b42934d07b66",
   "metadata": {},
   "outputs": [],
   "source": [
    "# early stopping to avoid over fitting\n",
    "earlystopping_callback = keras.callbacks.EarlyStopping(\n",
    "    monitor='val_loss',\n",
    "    patience=20,\n",
    "    restore_best_weights=True\n",
    ")"
   ]
  },
  {
   "cell_type": "code",
   "execution_count": 14,
   "id": "7ecfa6ce-8dd6-4ca9-aab9-d5008b5120b0",
   "metadata": {},
   "outputs": [
    {
     "name": "stdout",
     "output_type": "stream",
     "text": [
      "Epoch 1/200\n",
      "688/688 [==============================] - 13s 13ms/step - loss: 0.6606 - cosine_similarity: 0.7303 - val_loss: 0.6506 - val_cosine_similarity: 0.7359\n",
      "Epoch 2/200\n",
      "688/688 [==============================] - 3s 4ms/step - loss: 0.6481 - cosine_similarity: 0.7375 - val_loss: 0.6476 - val_cosine_similarity: 0.7378\n",
      "Epoch 3/200\n",
      "688/688 [==============================] - 3s 4ms/step - loss: 0.6458 - cosine_similarity: 0.7389 - val_loss: 0.6470 - val_cosine_similarity: 0.7382\n",
      "Epoch 4/200\n",
      "688/688 [==============================] - 3s 4ms/step - loss: 0.6446 - cosine_similarity: 0.7396 - val_loss: 0.6473 - val_cosine_similarity: 0.7380\n",
      "Epoch 5/200\n",
      "688/688 [==============================] - 3s 4ms/step - loss: 0.6437 - cosine_similarity: 0.7402 - val_loss: 0.6467 - val_cosine_similarity: 0.7384\n",
      "Epoch 6/200\n",
      "688/688 [==============================] - 3s 4ms/step - loss: 0.6432 - cosine_similarity: 0.7404 - val_loss: 0.6465 - val_cosine_similarity: 0.7385\n",
      "Epoch 7/200\n",
      "688/688 [==============================] - 3s 4ms/step - loss: 0.6428 - cosine_similarity: 0.7407 - val_loss: 0.6478 - val_cosine_similarity: 0.7377\n",
      "Epoch 8/200\n",
      "688/688 [==============================] - 3s 4ms/step - loss: 0.6426 - cosine_similarity: 0.7409 - val_loss: 0.6455 - val_cosine_similarity: 0.7391\n",
      "Epoch 9/200\n",
      "688/688 [==============================] - 3s 4ms/step - loss: 0.6426 - cosine_similarity: 0.7409 - val_loss: 0.6461 - val_cosine_similarity: 0.7387\n",
      "Epoch 10/200\n",
      "688/688 [==============================] - 3s 4ms/step - loss: 0.6422 - cosine_similarity: 0.7411 - val_loss: 0.6459 - val_cosine_similarity: 0.7389\n",
      "Epoch 11/200\n",
      "688/688 [==============================] - 3s 4ms/step - loss: 0.6425 - cosine_similarity: 0.7410 - val_loss: 0.6447 - val_cosine_similarity: 0.7396\n",
      "Epoch 12/200\n",
      "688/688 [==============================] - 3s 4ms/step - loss: 0.6420 - cosine_similarity: 0.7412 - val_loss: 0.6445 - val_cosine_similarity: 0.7397\n",
      "Epoch 13/200\n",
      "688/688 [==============================] - 3s 4ms/step - loss: 0.6421 - cosine_similarity: 0.7412 - val_loss: 0.6463 - val_cosine_similarity: 0.7386\n",
      "Epoch 14/200\n",
      "688/688 [==============================] - 3s 4ms/step - loss: 0.6418 - cosine_similarity: 0.7413 - val_loss: 0.6461 - val_cosine_similarity: 0.7388\n",
      "Epoch 15/200\n",
      "688/688 [==============================] - 3s 4ms/step - loss: 0.6415 - cosine_similarity: 0.7415 - val_loss: 0.6447 - val_cosine_similarity: 0.7396\n",
      "Epoch 16/200\n",
      "688/688 [==============================] - 3s 4ms/step - loss: 0.6420 - cosine_similarity: 0.7412 - val_loss: 0.6475 - val_cosine_similarity: 0.7379\n",
      "Epoch 17/200\n",
      "688/688 [==============================] - 3s 4ms/step - loss: 0.6419 - cosine_similarity: 0.7413 - val_loss: 0.6469 - val_cosine_similarity: 0.7383\n",
      "Epoch 18/200\n",
      "688/688 [==============================] - 3s 4ms/step - loss: 0.6420 - cosine_similarity: 0.7413 - val_loss: 0.6464 - val_cosine_similarity: 0.7386\n",
      "Epoch 19/200\n",
      "688/688 [==============================] - 3s 4ms/step - loss: 0.6413 - cosine_similarity: 0.7416 - val_loss: 0.6446 - val_cosine_similarity: 0.7397\n",
      "Epoch 20/200\n",
      "688/688 [==============================] - 3s 4ms/step - loss: 0.6414 - cosine_similarity: 0.7415 - val_loss: 0.6460 - val_cosine_similarity: 0.7389\n",
      "Epoch 21/200\n",
      "688/688 [==============================] - 3s 4ms/step - loss: 0.6413 - cosine_similarity: 0.7416 - val_loss: 0.6453 - val_cosine_similarity: 0.7393\n",
      "Epoch 22/200\n",
      "688/688 [==============================] - 3s 4ms/step - loss: 0.6417 - cosine_similarity: 0.7414 - val_loss: 0.6447 - val_cosine_similarity: 0.7396\n",
      "Epoch 23/200\n",
      "688/688 [==============================] - 3s 4ms/step - loss: 0.6415 - cosine_similarity: 0.7415 - val_loss: 0.6446 - val_cosine_similarity: 0.7397\n",
      "Epoch 24/200\n",
      "688/688 [==============================] - 3s 4ms/step - loss: 0.6415 - cosine_similarity: 0.7416 - val_loss: 0.6451 - val_cosine_similarity: 0.7394\n",
      "Epoch 25/200\n",
      "688/688 [==============================] - 3s 4ms/step - loss: 0.6412 - cosine_similarity: 0.7417 - val_loss: 0.6465 - val_cosine_similarity: 0.7386\n",
      "Epoch 26/200\n",
      "688/688 [==============================] - 3s 4ms/step - loss: 0.6413 - cosine_similarity: 0.7416 - val_loss: 0.6451 - val_cosine_similarity: 0.7394\n",
      "Epoch 27/200\n",
      "688/688 [==============================] - 3s 4ms/step - loss: 0.6416 - cosine_similarity: 0.7415 - val_loss: 0.6446 - val_cosine_similarity: 0.7397\n",
      "Epoch 28/200\n",
      "688/688 [==============================] - 3s 4ms/step - loss: 0.6413 - cosine_similarity: 0.7417 - val_loss: 0.6467 - val_cosine_similarity: 0.7384\n",
      "Epoch 29/200\n",
      "688/688 [==============================] - 3s 4ms/step - loss: 0.6411 - cosine_similarity: 0.7418 - val_loss: 0.6466 - val_cosine_similarity: 0.7384\n",
      "Epoch 30/200\n",
      "688/688 [==============================] - 3s 4ms/step - loss: 0.6416 - cosine_similarity: 0.7415 - val_loss: 0.6449 - val_cosine_similarity: 0.7395\n",
      "Epoch 31/200\n",
      "688/688 [==============================] - 3s 4ms/step - loss: 0.6413 - cosine_similarity: 0.7417 - val_loss: 0.6453 - val_cosine_similarity: 0.7393\n",
      "Epoch 32/200\n",
      "688/688 [==============================] - 3s 4ms/step - loss: 0.6415 - cosine_similarity: 0.7415 - val_loss: 0.6457 - val_cosine_similarity: 0.7390\n"
     ]
    }
   ],
   "source": [
    "history = model.fit(\n",
    "    x=train_data,\n",
    "    epochs=EPOCHS,\n",
    "    callbacks=[\n",
    "        tensorboard_callback,\n",
    "        earlystopping_callback\n",
    "    ],\n",
    "    validation_data=valid_data\n",
    ")"
   ]
  },
  {
   "cell_type": "markdown",
   "id": "177de451-f03a-495d-a09d-755626fce563",
   "metadata": {},
   "source": [
    "## Evaluate the model"
   ]
  },
  {
   "cell_type": "code",
   "execution_count": 15,
   "id": "9d0f540d-a99b-405b-8d05-f138f55a95e5",
   "metadata": {},
   "outputs": [
    {
     "name": "stdout",
     "output_type": "stream",
     "text": [
      "86/86 [==============================] - 0s 3ms/step - loss: 0.6432 - cosine_similarity: 0.7406\n"
     ]
    }
   ],
   "source": [
    "result = model.evaluate(\n",
    "    x=test_data,\n",
    "    return_dict=True\n",
    ")"
   ]
  },
  {
   "cell_type": "code",
   "execution_count": 16,
   "id": "296385b0-a5b1-43eb-9aa8-59c7e15a036b",
   "metadata": {},
   "outputs": [
    {
     "name": "stdout",
     "output_type": "stream",
     "text": [
      "loss                 0.6432\n",
      "cosine_similarity    0.7406\n"
     ]
    }
   ],
   "source": [
    "for name, val in result.items():\n",
    "    print(\"{:20s} {:.4f}\".format(name, val))"
   ]
  },
  {
   "cell_type": "markdown",
   "id": "570cabab-3653-4151-a2a7-051680c25de8",
   "metadata": {},
   "source": [
    "## Save the model"
   ]
  },
  {
   "cell_type": "code",
   "execution_count": 17,
   "id": "416ba8a8-9e6d-4d5e-9685-e211f2f759f4",
   "metadata": {},
   "outputs": [
    {
     "name": "stdout",
     "output_type": "stream",
     "text": [
      "INFO:tensorflow:Assets written to: ./data/models/lr_20210914-171635/assets\n"
     ]
    }
   ],
   "source": [
    "model.save(SAVE_LOC)"
   ]
  },
  {
   "cell_type": "code",
   "execution_count": null,
   "id": "82f86cd8-cb7a-4913-8b67-e398bcdf2e3a",
   "metadata": {},
   "outputs": [],
   "source": []
  }
 ],
 "metadata": {
  "kernelspec": {
   "display_name": "Python [conda env:st3107-tfgpu] *",
   "language": "python",
   "name": "conda-env-st3107-tfgpu-py"
  },
  "language_info": {
   "codemirror_mode": {
    "name": "ipython",
    "version": 3
   },
   "file_extension": ".py",
   "mimetype": "text/x-python",
   "name": "python",
   "nbconvert_exporter": "python",
   "pygments_lexer": "ipython3",
   "version": "3.9.6"
  }
 },
 "nbformat": 4,
 "nbformat_minor": 5
}
