{
 "cells": [
  {
   "cell_type": "markdown",
   "id": "700156dc-7c48-4394-b18d-172e604bcc5e",
   "metadata": {},
   "source": [
    "# What data did we use?\n",
    "\n",
    "Samples: the PDF on a grid (rmin = 1.5, rmax = 30.0, rstep = $pi$ / 23.0). It is a 1D vector of shape `(209,)`.\n",
    "\n",
    "The PDFs are simulated from 10,000 combination of the structures randomly choosen from about 2000 structures. For each combination, the simulation is done usng 11 different mole fractions `[[1.0, 0.0], [0.0, 1.0], [0.95, 0.05], [0.05, 0.95], [0.2, 0.8], [0.8, 0.2], [0.3, 0.7], [0.7, 0.3], [0.4, 0.6], [0.6, 0.4], [0.5, 0.5]]`. In total, there are 110,000 PDFs.\n",
    "\n",
    "Labels: the mole fraction of the major phase and the minor phase. For example, `[0.8, 0.2]` means the the major phase is 80 % and the minor phase is 20 % in mole fraction.\n",
    "\n",
    "Datasets: 80% train, 10% validation, 10% test. The data set is shuffled when splitting and the train data set is shuffled in every training epoch."
   ]
  },
  {
   "cell_type": "markdown",
   "id": "da0ad949-f2df-4434-b36a-413d7d05ddd2",
   "metadata": {},
   "source": [
    "# What models did we use?\n",
    "\n",
    "We tested three models:\n",
    "\n",
    "1. Logistric regression (LR)\n",
    "\n",
    "1. Convolutional neural network (CNN)\n",
    "\n",
    "2. Convolutional neural network + Full connected layers (CNN-FC)\n",
    "\n",
    "Please look at section 06, 07, 08 for the details."
   ]
  },
  {
   "cell_type": "markdown",
   "id": "4c3e4727-4a34-4b77-8731-f9339acd5d4f",
   "metadata": {},
   "source": [
    "# How do we optimize the model\n",
    "\n",
    "Loss: mean squared error\n",
    "\n",
    "Metric: cosine similarity"
   ]
  },
  {
   "cell_type": "markdown",
   "id": "6a67ee60-386d-46f6-9d91-f35ca4a5f3b8",
   "metadata": {},
   "source": [
    "# How good is our model?"
   ]
  },
  {
   "cell_type": "code",
   "execution_count": 19,
   "id": "7a8f8eb7-0e90-4b46-8ecd-b8a2098acc01",
   "metadata": {
    "tags": []
   },
   "outputs": [],
   "source": [
    "# choose the tensorflow log level\n",
    "import os\n",
    "os.environ['TF_CPP_MIN_LOG_LEVEL'] = '3'  # or any {'0', '1', '2'}"
   ]
  },
  {
   "cell_type": "code",
   "execution_count": 22,
   "id": "ad575745-88b6-4dd4-80bd-59ed7a3bb568",
   "metadata": {},
   "outputs": [],
   "source": [
    "import matplotlib.pyplot as plt\n",
    "import pandas as pd\n",
    "import numpy as np\n",
    "import xarray as xr\n",
    "import tensorflow as tf"
   ]
  },
  {
   "cell_type": "markdown",
   "id": "5b1fe5e6-b084-4c5f-81e3-b258916aa6af",
   "metadata": {},
   "source": [
    "## Scalar metrics"
   ]
  },
  {
   "cell_type": "code",
   "execution_count": 12,
   "id": "2aed4085-7e36-4f55-b24b-f7e4f0068215",
   "metadata": {},
   "outputs": [
    {
     "data": {
      "image/png": "[encoded data removed]",
      "text/plain": [
       "<Figure size 432x288 with 1 Axes>"
      ]
     },
     "metadata": {
      "needs_background": "light"
     },
     "output_type": "display_data"
    }
   ],
   "source": [
    "df = pd.DataFrame(\n",
    "    {\"cosine similarity\": [0.9668, 0.9830, 0.9887]},\n",
    "    index=pd.Index([\"LR\", \"CNN\", \"CNN-FC\"], name=\"model\")\n",
    ")\n",
    "df.plot.bar();"
   ]
  },
  {
   "cell_type": "markdown",
   "id": "c1922a5e-cf21-4244-940d-ef5824e128d9",
   "metadata": {},
   "source": [
    "## Predict some random batch"
   ]
  },
  {
   "cell_type": "code",
   "execution_count": 82,
   "id": "5be66223-a037-4d20-8dea-89c7172b0d5c",
   "metadata": {},
   "outputs": [],
   "source": [
    "FEATURES_FILE = \"./data/tensors/features_continous.npy\"  # path to the file of the feature tensor\n",
    "LABELS_FILE = \"./data/tensors/labels_continous.npy\"  # path to the file of the feature tensor\n",
    "BATCH_SIZE = 4096  # number of points to test\n",
    "LR_MODEL_FILE = \"./data/models/lr_20210914-153328/\"\n",
    "CNN_MODEL_FILE = \"./data/models/cnn_1_20210914-125805/\"\n",
    "CNNFC_MODEL_FILE = \"./data/models/cnn_2_20210914-150241/\""
   ]
  },
  {
   "cell_type": "code",
   "execution_count": 83,
   "id": "37f345d0-edd8-4ad0-ad71-45f6efb038c7",
   "metadata": {},
   "outputs": [],
   "source": [
    "def load_data():\n",
    "    # load\n",
    "    features, labels = np.load(FEATURES_FILE), np.load(LABELS_FILE)\n",
    "    # sort the labels\n",
    "    labels = np.sort(labels, axis=1)[:, ::-1]\n",
    "    # shuffle\n",
    "    n = features.shape[0]\n",
    "    shuffled_idx = np.random.permutation(n)\n",
    "    features, labels = features[shuffled_idx], labels[shuffled_idx]\n",
    "    return tf.data.Dataset.from_tensor_slices((features, labels)).batch(BATCH_SIZE)"
   ]
  },
  {
   "cell_type": "code",
   "execution_count": 84,
   "id": "2c9dba92-f95e-4b67-8339-f1e83f975a80",
   "metadata": {},
   "outputs": [],
   "source": [
    "data = load_data()"
   ]
  },
  {
   "cell_type": "code",
   "execution_count": 85,
   "id": "519abcba-d9b5-4944-976a-4b093d88d8be",
   "metadata": {},
   "outputs": [],
   "source": [
    "def evulate_model(model, samples, labels):\n",
    "    pred = model.predict_on_batch(samples)\n",
    "    ds = xr.Dataset(\n",
    "        {\n",
    "            \"prediction\": ([\"sample\", \"phase\"], pred),\n",
    "            \"expection\": ([\"sample\", \"phase\"], labels)\n",
    "        }, \n",
    "        coords={\"phase\": [\"major\", \"minor\"]}\n",
    "    )\n",
    "    return ds\n",
    "\n",
    "def evaludate_models(models, model_names, samples, labels):\n",
    "    dss = []\n",
    "    n = len(models)\n",
    "    for i in range(n):\n",
    "        ds = evulate_model(models[i], samples, labels)\n",
    "        ds = ds.assign_coords({\"model\": model_names[i]}).expand_dims(\"model\")\n",
    "        dss.append(ds)\n",
    "    return xr.merge(dss)"
   ]
  },
  {
   "cell_type": "code",
   "execution_count": 93,
   "id": "5301cd97-aace-4c68-b3d4-d449eb67bc01",
   "metadata": {},
   "outputs": [],
   "source": [
    "gen = data.as_numpy_iterator()"
   ]
  },
  {
   "cell_type": "code",
   "execution_count": 94,
   "id": "4aef95a6-a8ce-4949-8955-4e2931aaf5f3",
   "metadata": {},
   "outputs": [],
   "source": [
    "test_samples, test_labels = next(gen)"
   ]
  },
  {
   "cell_type": "code",
   "execution_count": 87,
   "id": "a07baeb2-457a-4d8a-b2e2-814e65b9d97c",
   "metadata": {},
   "outputs": [],
   "source": [
    "lr_model = tf.keras.models.load_model(LR_MODEL_FILE)\n",
    "ncc_model = tf.keras.models.load_model(CNN_MODEL_FILE)\n",
    "nccfc_model = tf.keras.models.load_model(CNNFC_MODEL_FILE)"
   ]
  },
  {
   "cell_type": "code",
   "execution_count": 110,
   "id": "5256d274-fd8e-4777-9be4-71a32ebcd4c4",
   "metadata": {},
   "outputs": [],
   "source": [
    "eval_res = evaludate_models(\n",
    "    [lr_model, ncc_model, nccfc_model],\n",
    "    [\"1_LR\", \"2_CNN\", \"3_CNNFC\"],\n",
    "    test_samples,\n",
    "    test_labels\n",
    ")"
   ]
  },
  {
   "cell_type": "code",
   "execution_count": 117,
   "id": "72fc658f-74ca-4d4f-abef-1512a1d267ac",
   "metadata": {},
   "outputs": [],
   "source": [
    "def visualize(eval_res):\n",
    "    facet = eval_res.plot.scatter(x=\"prediction\", y=\"expection\", col=\"model\", hue=\"phase\", sharex=False, sharey=False, size=4)\n",
    "    for ax in facet.axes.flatten():\n",
    "        ax.set_xlim(-0.05, 1.05)\n",
    "        ax.set_ylim(-0.05, 1.05)\n",
    "        ax.set_aspect(\"equal\")\n",
    "        ax.plot([0, 1], [0, 1], transform=ax.transAxes, ls='--', alpha=0.5, color=\"black\")\n",
    "    return facet"
   ]
  },
  {
   "cell_type": "code",
   "execution_count": 118,
   "id": "e16ed856-6cca-4dd3-97a1-0c5f0cc86694",
   "metadata": {},
   "outputs": [
    {
     "data": {
      "image/png": "[encoded data removed]",
      "text/plain": [
       "<Figure size 1001x288 with 3 Axes>"
      ]
     },
     "metadata": {
      "needs_background": "light"
     },
     "output_type": "display_data"
    }
   ],
   "source": [
    "visualize(eval_res);"
   ]
  },
  {
   "cell_type": "markdown",
   "id": "11324922-b8b8-4a5f-b8a4-bca488b0806c",
   "metadata": {},
   "source": [
    "# Conlcusion\n",
    "\n",
    "It looks that the models cannot get the idea of the mole fraction very well. Maybe it is better to change back to the single/multiphase label."
   ]
  },
  {
   "cell_type": "code",
   "execution_count": null,
   "id": "af55aac1-e032-4fc2-9c2e-92de2c5342d9",
   "metadata": {},
   "outputs": [],
   "source": []
  }
 ],
 "metadata": {
  "kernelspec": {
   "display_name": "Python [conda env:st3107-tfgpu] *",
   "language": "python",
   "name": "conda-env-st3107-tfgpu-py"
  },
  "language_info": {
   "codemirror_mode": {
    "name": "ipython",
    "version": 3
   },
   "file_extension": ".py",
   "mimetype": "text/x-python",
   "name": "python",
   "nbconvert_exporter": "python",
   "pygments_lexer": "ipython3",
   "version": "3.9.6"
  }
 },
 "nbformat": 4,
 "nbformat_minor": 5
}
