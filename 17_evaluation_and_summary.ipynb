{
 "cells": [
  {
   "cell_type": "markdown",
   "id": "700156dc-7c48-4394-b18d-172e604bcc5e",
   "metadata": {},
   "source": [
    "# What data did we use?\n",
    "\n",
    "Samples: the PDF on a grid (rmin = 1.5, rmax = 30.0, rstep = $pi$ / 23.0). It is a 1D vector of shape `(209,)`.\n",
    "\n",
    "The PDFs are simulated from 10,000 combination of the structures randomly choosen from about 2000 structures. For each combination, the simulation is done usng 11 different mole fractions `[[1.0, 0.0], [0.0, 1.0], [0.95, 0.05], [0.05, 0.95], [0.2, 0.8], [0.8, 0.2], [0.3, 0.7], [0.7, 0.3], [0.4, 0.6], [0.6, 0.4], [0.5, 0.5]]`. In total, there are 110,000 PDFs.\n",
    "\n",
    "Labels: Whether it is a single phase or mulitple phases. The single phase is defined as the minor phase < 5%.\n",
    "\n",
    "Datasets: 80% train, 10% validation, 10% test. The data set is shuffled when splitting and the train data set is shuffled in every training epoch."
   ]
  },
  {
   "cell_type": "markdown",
   "id": "da0ad949-f2df-4434-b36a-413d7d05ddd2",
   "metadata": {},
   "source": [
    "# What models did we use?\n",
    "\n",
    "We tested three models:\n",
    "\n",
    "1. Logistric regression (LR)\n",
    "\n",
    "2. Convolutional neural network + Full connected layers (CNN-FC)\n",
    "\n",
    "Please look at section 10, 11, 12, 13, 14 for the details."
   ]
  },
  {
   "cell_type": "markdown",
   "id": "4c3e4727-4a34-4b77-8731-f9339acd5d4f",
   "metadata": {},
   "source": [
    "# How do we optimize the model\n",
    "\n",
    "Loss: categorical cross entropy\n",
    "\n",
    "Metric: cosine similarity"
   ]
  },
  {
   "cell_type": "markdown",
   "id": "6a67ee60-386d-46f6-9d91-f35ca4a5f3b8",
   "metadata": {},
   "source": [
    "# How good is our model?"
   ]
  },
  {
   "cell_type": "code",
   "execution_count": 1,
   "id": "7a8f8eb7-0e90-4b46-8ecd-b8a2098acc01",
   "metadata": {
    "tags": []
   },
   "outputs": [],
   "source": [
    "# choose the tensorflow log level\n",
    "import os\n",
    "os.environ['TF_CPP_MIN_LOG_LEVEL'] = '3'  # or any {'0', '1', '2'}"
   ]
  },
  {
   "cell_type": "code",
   "execution_count": 2,
   "id": "ad575745-88b6-4dd4-80bd-59ed7a3bb568",
   "metadata": {},
   "outputs": [],
   "source": [
    "import matplotlib.pyplot as plt\n",
    "import pandas as pd\n",
    "import numpy as np\n",
    "import xarray as xr\n",
    "import tensorflow as tf"
   ]
  },
  {
   "cell_type": "code",
   "execution_count": 11,
   "id": "5be66223-a037-4d20-8dea-89c7172b0d5c",
   "metadata": {},
   "outputs": [],
   "source": [
    "FEATURES_FILE = \"./data/tensors/features.npy\"  # path to the file of the feature tensor\n",
    "LABELS_FILE = \"./data/tensors/labels.npy\"  # path to the file of the feature tensor\n",
    "BATCH_SIZE = 1024 * 8  # number of points to test\n",
    "MODEL_FILES = [\n",
    "    \"./data/models/lr_20210914-171635/\",\n",
    "    \"./data/models/cnn_2_20210914-172931/\", \n",
    "    \"./data/models/cnn_2_20210914-182924/\",\n",
    "    \"./data/models/cnn_4_20210914-200148/\",\n",
    "    \"./data/models/cnn_5_20210914-210742/\"\n",
    "]\n",
    "MODEL_NAMES = [\n",
    "    \"1_LR\", \n",
    "    \"2_CNN-FC-2-1\",\n",
    "    \"3_CNN-FC-2-2\",\n",
    "    \"4_CNH-FC-4\",\n",
    "    \"5_CNN-FC-5\"\n",
    "]\n",
    "METRICS = [0.7406, 0.8858, 0.8665, 0.7729, 0.8471]"
   ]
  },
  {
   "cell_type": "markdown",
   "id": "5b1fe5e6-b084-4c5f-81e3-b258916aa6af",
   "metadata": {},
   "source": [
    "## Scalar metrics"
   ]
  },
  {
   "cell_type": "code",
   "execution_count": 12,
   "id": "2aed4085-7e36-4f55-b24b-f7e4f0068215",
   "metadata": {},
   "outputs": [
    {
     "data": {
      "image/png": "[encoded data removed]",
      "text/plain": [
       "<Figure size 432x288 with 1 Axes>"
      ]
     },
     "metadata": {
      "needs_background": "light"
     },
     "output_type": "display_data"
    }
   ],
   "source": [
    "df = pd.DataFrame(\n",
    "    {\"cosine similarity\": METRICS},\n",
    "    index=pd.Index(MODEL_NAMES, name=\"model\")\n",
    ")\n",
    "df.plot.bar();"
   ]
  },
  {
   "cell_type": "markdown",
   "id": "c1922a5e-cf21-4244-940d-ef5824e128d9",
   "metadata": {},
   "source": [
    "## Predict some random batch"
   ]
  },
  {
   "cell_type": "code",
   "execution_count": 5,
   "id": "37f345d0-edd8-4ad0-ad71-45f6efb038c7",
   "metadata": {},
   "outputs": [],
   "source": [
    "def load_data():\n",
    "    # load\n",
    "    features, labels = np.load(FEATURES_FILE), np.load(LABELS_FILE)\n",
    "    # shuffle\n",
    "    n = features.shape[0]\n",
    "    shuffled_idx = np.random.permutation(n)\n",
    "    features, labels = features[shuffled_idx], labels[shuffled_idx]\n",
    "    return tf.data.Dataset.from_tensor_slices((features, labels))"
   ]
  },
  {
   "cell_type": "code",
   "execution_count": 6,
   "id": "2c9dba92-f95e-4b67-8339-f1e83f975a80",
   "metadata": {},
   "outputs": [],
   "source": [
    "data = load_data()"
   ]
  },
  {
   "cell_type": "code",
   "execution_count": 13,
   "id": "519abcba-d9b5-4944-976a-4b093d88d8be",
   "metadata": {},
   "outputs": [],
   "source": [
    "def evulate_model(model, samples, labels):\n",
    "    pred = model.predict(samples)\n",
    "    ds = xr.Dataset(\n",
    "        {\n",
    "            \"prediction\": ([\"sample\", \"label\"], pred),\n",
    "            \"expection\": ([\"sample\", \"label\"], labels)\n",
    "        }, \n",
    "        coords={\"label\": [\"mutliple\", \"single\"]}\n",
    "    )\n",
    "    return ds\n",
    "\n",
    "def evaludate_models(models, model_names, samples, labels):\n",
    "    dss = []\n",
    "    n = len(models)\n",
    "    for i in range(n):\n",
    "        ds = evulate_model(models[i], samples, labels)\n",
    "        ds = ds.assign_coords({\"model\": model_names[i]}).expand_dims(\"model\")\n",
    "        dss.append(ds)\n",
    "    return xr.merge(dss)"
   ]
  },
  {
   "cell_type": "code",
   "execution_count": 8,
   "id": "fb293736-e6a4-4d08-b5da-f396f7e735e6",
   "metadata": {},
   "outputs": [],
   "source": [
    "gen = data.batch(BATCH_SIZE).as_numpy_iterator()\n",
    "test_samples, test_labels = next(gen)"
   ]
  },
  {
   "cell_type": "code",
   "execution_count": 9,
   "id": "a07baeb2-457a-4d8a-b2e2-814e65b9d97c",
   "metadata": {},
   "outputs": [],
   "source": [
    "models = list(map(tf.keras.models.load_model, MODEL_FILES))"
   ]
  },
  {
   "cell_type": "code",
   "execution_count": 14,
   "id": "5256d274-fd8e-4777-9be4-71a32ebcd4c4",
   "metadata": {},
   "outputs": [],
   "source": [
    "eval_res = evaludate_models(\n",
    "    models,\n",
    "    MODEL_NAMES,\n",
    "    test_samples,\n",
    "    test_labels\n",
    ")"
   ]
  },
  {
   "cell_type": "code",
   "execution_count": 17,
   "id": "72fc658f-74ca-4d4f-abef-1512a1d267ac",
   "metadata": {},
   "outputs": [],
   "source": [
    "def visualize(eval_res):\n",
    "    facet = xr.plot.facetgrid.FacetGrid(eval_res, col=\"model\", sharey=True, size=5)\n",
    "    axes = facet.axes.flatten()\n",
    "    m = axes.shape[0]\n",
    "    for i in range(m):\n",
    "        ax = axes[i]\n",
    "        for j in range(2):\n",
    "            eval_res[\"prediction\"][i, :, j].plot.hist(bins=np.arange(0., 1.0001, 0.01), ax=ax)\n",
    "            ax.set_title(eval_res[\"model\"][i].item())\n",
    "            ax.set_ylabel(\"number of samples\")\n",
    "            ax.legend(eval_res[\"label\"].values)\n",
    "    return"
   ]
  },
  {
   "cell_type": "code",
   "execution_count": 18,
   "id": "e16ed856-6cca-4dd3-97a1-0c5f0cc86694",
   "metadata": {},
   "outputs": [
    {
     "data": {
      "image/png": "[encoded data removed]",
      "text/plain": [
       "<Figure size 1872x360 with 5 Axes>"
      ]
     },
     "metadata": {
      "needs_background": "light"
     },
     "output_type": "display_data"
    }
   ],
   "source": [
    "visualize(eval_res);"
   ]
  },
  {
   "cell_type": "markdown",
   "id": "11324922-b8b8-4a5f-b8a4-bca488b0806c",
   "metadata": {},
   "source": [
    "# Conlcusion\n",
    "\n",
    "It looks that the CNN-FC model can predict most of the data correctly"
   ]
  },
  {
   "cell_type": "code",
   "execution_count": null,
   "id": "af55aac1-e032-4fc2-9c2e-92de2c5342d9",
   "metadata": {},
   "outputs": [],
   "source": []
  }
 ],
 "metadata": {
  "kernelspec": {
   "display_name": "Python [conda env:st3107-tfgpu] *",
   "language": "python",
   "name": "conda-env-st3107-tfgpu-py"
  },
  "language_info": {
   "codemirror_mode": {
    "name": "ipython",
    "version": 3
   },
   "file_extension": ".py",
   "mimetype": "text/x-python",
   "name": "python",
   "nbconvert_exporter": "python",
   "pygments_lexer": "ipython3",
   "version": "3.9.6"
  }
 },
 "nbformat": 4,
 "nbformat_minor": 5
}
