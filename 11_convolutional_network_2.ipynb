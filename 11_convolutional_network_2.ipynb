{
 "cells": [
  {
   "cell_type": "markdown",
   "id": "f3d9670e-2a2c-4bf1-a315-9796c6789dc9",
   "metadata": {},
   "source": [
    "# Test the full connected layer model"
   ]
  },
  {
   "cell_type": "markdown",
   "id": "804cd7c3-db80-4fa9-9d89-4f801ad7d1ed",
   "metadata": {},
   "source": [
    "## Import necessary modules"
   ]
  },
  {
   "cell_type": "code",
   "execution_count": 1,
   "id": "cd85d865-3548-45b8-bf17-c6cdb4234763",
   "metadata": {},
   "outputs": [],
   "source": [
    "# python built-in libraries\n",
    "import datetime"
   ]
  },
  {
   "cell_type": "code",
   "execution_count": 2,
   "id": "56327e98-27db-4fcf-aa87-dde8512b87a2",
   "metadata": {},
   "outputs": [],
   "source": [
    "# choose the tensorflow log level\n",
    "import os\n",
    "os.environ['TF_CPP_MIN_LOG_LEVEL'] = '3'  # or any {'0', '1', '2'}"
   ]
  },
  {
   "cell_type": "code",
   "execution_count": 3,
   "id": "f930e0a7-cbc7-4f7e-8fe6-d50a90e4dcd1",
   "metadata": {},
   "outputs": [],
   "source": [
    "# import tensorflow\n",
    "import tensorflow as tf\n",
    "from tensorflow import keras\n",
    "from tensorflow.keras import layers"
   ]
  },
  {
   "cell_type": "code",
   "execution_count": 4,
   "id": "f020f42a-6eed-4f9c-8e76-26f15f8fff51",
   "metadata": {},
   "outputs": [],
   "source": [
    "# ohter packages\n",
    "import numpy as np\n",
    "\n",
    "import tfhelper.core as tfhelper"
   ]
  },
  {
   "cell_type": "markdown",
   "id": "e3bc5985-ee2c-44f0-9f07-68c483675b77",
   "metadata": {},
   "source": [
    "## Global Variables"
   ]
  },
  {
   "cell_type": "code",
   "execution_count": 34,
   "id": "82f389f0-549e-4dba-94ae-b963afe7b5fe",
   "metadata": {},
   "outputs": [],
   "source": [
    "# sampling\n",
    "FEATURES_FILE = \"./data/tensors/features.npy\"  # path to the file of the feature tensor\n",
    "LABELS_FILE = \"./data/tensors/labels.npy\"  # path to the file of the feature tensor\n",
    "FRACTIONS = (0.8, 0.1, 0.1)  # train, validation, test\n",
    "BATCH_SIZE = 128  # size of the batch\n",
    "BUFFER_SIZE = BATCH_SIZE * 2  # size of the shuffle buffer\n",
    "# training\n",
    "LEARNING_RATE = 0.001  # starting learning rate\n",
    "BETA1 = 0.9  # decay 1\n",
    "BETA2 = 0.999  # decay 2\n",
    "EPOCHS = 100  # number of epochs\n",
    "# saving\n",
    "TIME_STAMP = datetime.datetime.now().strftime(\"%Y%m%d-%H%M%S\")  # time stamp\n",
    "SAVE_LOC = \"./data/models/cnn_2_{}\".format(TIME_STAMP)  # path to the folder to save the model\n",
    "LOG_LOC = \"./data/logs/fit/cnn_2_{}\".format(TIME_STAMP)  # path to the log, if you change this, you also need to change it in the run_tensorboard"
   ]
  },
  {
   "cell_type": "markdown",
   "id": "6e2daffc-3f88-42de-be0e-f614c6e017ba",
   "metadata": {
    "tags": []
   },
   "source": [
    "## Obtain data\n",
    "\n",
    "The data is a 209 data point PDF. The label is a one-hot 2 dim vector. `10` means major phase >= threshold, `01` means major phase <= threshold."
   ]
  },
  {
   "cell_type": "code",
   "execution_count": 35,
   "id": "3d9be3eb-7058-4857-8eea-1cbee6674efa",
   "metadata": {},
   "outputs": [],
   "source": [
    "def load_data():\n",
    "    # load\n",
    "    features, labels = np.load(FEATURES_FILE), np.load(LABELS_FILE)\n",
    "    # shuffle\n",
    "    n = features.shape[0]\n",
    "    shuffled_idx = np.random.permutation(n)\n",
    "    features, labels = features[shuffled_idx], labels[shuffled_idx]\n",
    "    # split\n",
    "    f0, f1, f2 = FRACTIONS\n",
    "    i, j, k = round(f0 * n), round((f0 + f1) * n), round((f0 + f1 + f2) * n)\n",
    "    train_data = tf.data.Dataset.from_tensor_slices((features[:i], labels[:i])).shuffle(BUFFER_SIZE).batch(BATCH_SIZE)\n",
    "    valid_data = tf.data.Dataset.from_tensor_slices((features[i:j], labels[i:j])).batch(BATCH_SIZE)\n",
    "    test_data = tf.data.Dataset.from_tensor_slices((features[j:k], labels[j:k])).batch(BATCH_SIZE)\n",
    "    return train_data, valid_data, test_data"
   ]
  },
  {
   "cell_type": "code",
   "execution_count": 36,
   "id": "76111e4f-5ed3-4318-bee1-9595f8359e5e",
   "metadata": {},
   "outputs": [],
   "source": [
    "train_data, valid_data, test_data = load_data()"
   ]
  },
  {
   "cell_type": "markdown",
   "id": "66341557-8f2e-4edf-876e-015398a118ee",
   "metadata": {},
   "source": [
    "## Create the model\n",
    "\n",
    "We use the logistric regression. It is a single layer with a softmax function."
   ]
  },
  {
   "cell_type": "code",
   "execution_count": 37,
   "id": "2c9ea8fd-4674-47b1-b871-eec08a87b2c4",
   "metadata": {},
   "outputs": [],
   "source": [
    "def create_model():\n",
    "    model = keras.Sequential()\n",
    "    model.add(keras.Input(shape=(209,)))\n",
    "    model.add(keras.layers.Reshape((209, 1)))\n",
    "    model.add(keras.layers.Conv1D(32, 3, strides=1, activation='relu', padding=\"same\"))\n",
    "    model.add(keras.layers.Conv1D(32, 3, strides=1, activation='relu', padding=\"same\"))\n",
    "    model.add(keras.layers.BatchNormalization())\n",
    "    model.add(keras.layers.MaxPooling1D(2))\n",
    "    model.add(keras.layers.Conv1D(64, 3, strides=1, activation='relu', padding=\"same\"))\n",
    "    model.add(keras.layers.Conv1D(64, 3, strides=1, activation='relu', padding=\"same\"))\n",
    "    model.add(keras.layers.BatchNormalization())\n",
    "    model.add(keras.layers.MaxPooling1D(2))\n",
    "    model.add(keras.layers.Dropout(0.2))\n",
    "    model.add(keras.layers.Flatten())\n",
    "    model.add(keras.layers.Dense(512, activation='relu'))\n",
    "    model.add(keras.layers.Dense(128, activation='relu'))\n",
    "    model.add(keras.layers.Dense(32, activation='relu'))\n",
    "    model.add(keras.layers.Dense(2, activation='softmax'))\n",
    "    return model"
   ]
  },
  {
   "cell_type": "code",
   "execution_count": 38,
   "id": "505c4f8e-4b54-4343-877f-8bd6485d7cf3",
   "metadata": {},
   "outputs": [],
   "source": [
    "model = create_model()"
   ]
  },
  {
   "cell_type": "code",
   "execution_count": 39,
   "id": "3ab9ec7a-e391-4912-b9df-659f295ca313",
   "metadata": {},
   "outputs": [
    {
     "name": "stdout",
     "output_type": "stream",
     "text": [
      "Model: \"sequential_3\"\n",
      "_________________________________________________________________\n",
      "Layer (type)                 Output Shape              Param #   \n",
      "=================================================================\n",
      "reshape_3 (Reshape)          (None, 209, 1)            0         \n",
      "_________________________________________________________________\n",
      "conv1d_12 (Conv1D)           (None, 209, 32)           128       \n",
      "_________________________________________________________________\n",
      "conv1d_13 (Conv1D)           (None, 209, 32)           3104      \n",
      "_________________________________________________________________\n",
      "batch_normalization_6 (Batch (None, 209, 32)           128       \n",
      "_________________________________________________________________\n",
      "max_pooling1d_6 (MaxPooling1 (None, 104, 32)           0         \n",
      "_________________________________________________________________\n",
      "conv1d_14 (Conv1D)           (None, 104, 64)           6208      \n",
      "_________________________________________________________________\n",
      "conv1d_15 (Conv1D)           (None, 104, 64)           12352     \n",
      "_________________________________________________________________\n",
      "batch_normalization_7 (Batch (None, 104, 64)           256       \n",
      "_________________________________________________________________\n",
      "max_pooling1d_7 (MaxPooling1 (None, 52, 64)            0         \n",
      "_________________________________________________________________\n",
      "dropout_3 (Dropout)          (None, 52, 64)            0         \n",
      "_________________________________________________________________\n",
      "flatten_3 (Flatten)          (None, 3328)              0         \n",
      "_________________________________________________________________\n",
      "dense_12 (Dense)             (None, 512)               1704448   \n",
      "_________________________________________________________________\n",
      "dense_13 (Dense)             (None, 128)               65664     \n",
      "_________________________________________________________________\n",
      "dense_14 (Dense)             (None, 32)                4128      \n",
      "_________________________________________________________________\n",
      "dense_15 (Dense)             (None, 2)                 66        \n",
      "=================================================================\n",
      "Total params: 1,796,482\n",
      "Trainable params: 1,796,290\n",
      "Non-trainable params: 192\n",
      "_________________________________________________________________\n"
     ]
    }
   ],
   "source": [
    "model.summary()"
   ]
  },
  {
   "cell_type": "markdown",
   "id": "668bbf47-4604-4388-bda2-f7d384b332ae",
   "metadata": {},
   "source": [
    "## Choose optimization method"
   ]
  },
  {
   "cell_type": "code",
   "execution_count": 40,
   "id": "541c52ba-2aa5-48d4-b40c-75d0948b3b2e",
   "metadata": {},
   "outputs": [],
   "source": [
    "model.compile(\n",
    "    # Optimizer\n",
    "    optimizer=keras.optimizers.Adam(LEARNING_RATE, BETA1, BETA2),\n",
    "    # Loss function to minimize\n",
    "    loss=keras.losses.CategoricalCrossentropy(),\n",
    "    # List of metrics to monitor\n",
    "    metrics=[\n",
    "        keras.metrics.CosineSimilarity()\n",
    "    ],\n",
    ")"
   ]
  },
  {
   "cell_type": "markdown",
   "id": "786d396f-3334-433d-99d9-d6026ab524d8",
   "metadata": {
    "tags": []
   },
   "source": [
    "## Train the model"
   ]
  },
  {
   "cell_type": "code",
   "execution_count": 41,
   "id": "a2ac30aa-afc3-42c7-9f7c-0f057f1496d5",
   "metadata": {},
   "outputs": [],
   "source": [
    "# tensor board\n",
    "tensorboard_callback = keras.callbacks.TensorBoard(\n",
    "    log_dir=LOG_LOC, \n",
    "    histogram_freq=1\n",
    ")"
   ]
  },
  {
   "cell_type": "code",
   "execution_count": 42,
   "id": "9de9aa59-d48e-476c-8a18-f83a07ea1015",
   "metadata": {},
   "outputs": [],
   "source": [
    "# early stopping to avoid over fitting\n",
    "earlystopping_callback = keras.callbacks.EarlyStopping(\n",
    "    monitor='val_loss',\n",
    "    patience=30, \n",
    "    restore_best_weights=True\n",
    ")"
   ]
  },
  {
   "cell_type": "code",
   "execution_count": 43,
   "id": "7ecfa6ce-8dd6-4ca9-aab9-d5008b5120b0",
   "metadata": {},
   "outputs": [
    {
     "name": "stdout",
     "output_type": "stream",
     "text": [
      "Epoch 1/100\n",
      "688/688 [==============================] - 13s 17ms/step - loss: 0.6642 - cosine_similarity: 0.7346 - val_loss: 0.6255 - val_cosine_similarity: 0.7509\n",
      "Epoch 2/100\n",
      "688/688 [==============================] - 11s 16ms/step - loss: 0.6134 - cosine_similarity: 0.7571 - val_loss: 0.6317 - val_cosine_similarity: 0.7483\n",
      "Epoch 3/100\n",
      "688/688 [==============================] - 11s 16ms/step - loss: 0.5746 - cosine_similarity: 0.7762 - val_loss: 0.6120 - val_cosine_similarity: 0.7588\n",
      "Epoch 4/100\n",
      "688/688 [==============================] - 11s 16ms/step - loss: 0.5311 - cosine_similarity: 0.7959 - val_loss: 0.5473 - val_cosine_similarity: 0.7902\n",
      "Epoch 5/100\n",
      "688/688 [==============================] - 11s 16ms/step - loss: 0.4929 - cosine_similarity: 0.8118 - val_loss: 0.5194 - val_cosine_similarity: 0.8032\n",
      "Epoch 6/100\n",
      "688/688 [==============================] - 11s 16ms/step - loss: 0.4644 - cosine_similarity: 0.8231 - val_loss: 0.5178 - val_cosine_similarity: 0.8056\n",
      "Epoch 7/100\n",
      "688/688 [==============================] - 11s 16ms/step - loss: 0.4329 - cosine_similarity: 0.8359 - val_loss: 0.5057 - val_cosine_similarity: 0.8134\n",
      "Epoch 8/100\n",
      "688/688 [==============================] - 11s 16ms/step - loss: 0.4072 - cosine_similarity: 0.8458 - val_loss: 0.5015 - val_cosine_similarity: 0.8168\n",
      "Epoch 9/100\n",
      "688/688 [==============================] - 11s 16ms/step - loss: 0.3859 - cosine_similarity: 0.8540 - val_loss: 0.4964 - val_cosine_similarity: 0.8219\n",
      "Epoch 10/100\n",
      "688/688 [==============================] - 11s 16ms/step - loss: 0.3706 - cosine_similarity: 0.8606 - val_loss: 0.4911 - val_cosine_similarity: 0.8266\n",
      "Epoch 11/100\n",
      "688/688 [==============================] - 11s 16ms/step - loss: 0.3518 - cosine_similarity: 0.8675 - val_loss: 0.4915 - val_cosine_similarity: 0.8257\n",
      "Epoch 12/100\n",
      "688/688 [==============================] - 11s 16ms/step - loss: 0.3423 - cosine_similarity: 0.8715 - val_loss: 0.4975 - val_cosine_similarity: 0.8281\n",
      "Epoch 13/100\n",
      "688/688 [==============================] - 11s 16ms/step - loss: 0.3341 - cosine_similarity: 0.8750 - val_loss: 0.5180 - val_cosine_similarity: 0.8270\n",
      "Epoch 14/100\n",
      "688/688 [==============================] - 11s 16ms/step - loss: 0.3201 - cosine_similarity: 0.8807 - val_loss: 0.6517 - val_cosine_similarity: 0.7983\n",
      "Epoch 15/100\n",
      "688/688 [==============================] - 11s 16ms/step - loss: 0.3111 - cosine_similarity: 0.8835 - val_loss: 0.6699 - val_cosine_similarity: 0.8026\n",
      "Epoch 16/100\n",
      "688/688 [==============================] - 11s 16ms/step - loss: 0.2999 - cosine_similarity: 0.8884 - val_loss: 0.5899 - val_cosine_similarity: 0.8266\n",
      "Epoch 17/100\n",
      "688/688 [==============================] - 11s 16ms/step - loss: 0.2899 - cosine_similarity: 0.8925 - val_loss: 0.4941 - val_cosine_similarity: 0.8407\n",
      "Epoch 18/100\n",
      "688/688 [==============================] - 11s 16ms/step - loss: 0.2842 - cosine_similarity: 0.8948 - val_loss: 0.5482 - val_cosine_similarity: 0.8258\n",
      "Epoch 19/100\n",
      "688/688 [==============================] - 11s 16ms/step - loss: 0.2779 - cosine_similarity: 0.8971 - val_loss: 0.4891 - val_cosine_similarity: 0.8407\n",
      "Epoch 20/100\n",
      "688/688 [==============================] - 11s 16ms/step - loss: 0.2705 - cosine_similarity: 0.8999 - val_loss: 0.5104 - val_cosine_similarity: 0.8384\n",
      "Epoch 21/100\n",
      "688/688 [==============================] - 11s 16ms/step - loss: 0.2626 - cosine_similarity: 0.9033 - val_loss: 0.4642 - val_cosine_similarity: 0.8520\n",
      "Epoch 22/100\n",
      "688/688 [==============================] - 11s 16ms/step - loss: 0.2565 - cosine_similarity: 0.9060 - val_loss: 0.5682 - val_cosine_similarity: 0.8271\n",
      "Epoch 23/100\n",
      "688/688 [==============================] - 11s 16ms/step - loss: 0.2516 - cosine_similarity: 0.9083 - val_loss: 0.5169 - val_cosine_similarity: 0.8496\n",
      "Epoch 24/100\n",
      "688/688 [==============================] - 11s 16ms/step - loss: 0.2467 - cosine_similarity: 0.9098 - val_loss: 0.5904 - val_cosine_similarity: 0.8173\n",
      "Epoch 25/100\n",
      "688/688 [==============================] - 11s 16ms/step - loss: 0.2401 - cosine_similarity: 0.9119 - val_loss: 0.5163 - val_cosine_similarity: 0.8469\n",
      "Epoch 26/100\n",
      "688/688 [==============================] - 11s 16ms/step - loss: 0.2351 - cosine_similarity: 0.9144 - val_loss: 0.5364 - val_cosine_similarity: 0.8390\n",
      "Epoch 27/100\n",
      "688/688 [==============================] - 11s 16ms/step - loss: 0.2285 - cosine_similarity: 0.9172 - val_loss: 0.4999 - val_cosine_similarity: 0.8532\n",
      "Epoch 28/100\n",
      "688/688 [==============================] - 11s 16ms/step - loss: 0.2214 - cosine_similarity: 0.9198 - val_loss: 0.5178 - val_cosine_similarity: 0.8539\n",
      "Epoch 29/100\n",
      "688/688 [==============================] - 11s 16ms/step - loss: 0.2181 - cosine_similarity: 0.9212 - val_loss: 0.5067 - val_cosine_similarity: 0.8507\n",
      "Epoch 30/100\n",
      "688/688 [==============================] - 11s 16ms/step - loss: 0.2131 - cosine_similarity: 0.9233 - val_loss: 0.6546 - val_cosine_similarity: 0.8189\n",
      "Epoch 31/100\n",
      "688/688 [==============================] - 11s 16ms/step - loss: 0.2116 - cosine_similarity: 0.9241 - val_loss: 0.5146 - val_cosine_similarity: 0.8521\n",
      "Epoch 32/100\n",
      "688/688 [==============================] - 11s 16ms/step - loss: 0.2020 - cosine_similarity: 0.9277 - val_loss: 0.4949 - val_cosine_similarity: 0.8533\n",
      "Epoch 33/100\n",
      "688/688 [==============================] - 11s 16ms/step - loss: 0.1978 - cosine_similarity: 0.9295 - val_loss: 0.5092 - val_cosine_similarity: 0.8587\n",
      "Epoch 34/100\n",
      "688/688 [==============================] - 11s 16ms/step - loss: 0.1967 - cosine_similarity: 0.9297 - val_loss: 0.5003 - val_cosine_similarity: 0.8483\n",
      "Epoch 35/100\n",
      "688/688 [==============================] - 11s 16ms/step - loss: 0.1961 - cosine_similarity: 0.9305 - val_loss: 0.4741 - val_cosine_similarity: 0.8606\n",
      "Epoch 36/100\n",
      "688/688 [==============================] - 11s 16ms/step - loss: 0.1897 - cosine_similarity: 0.9322 - val_loss: 0.4780 - val_cosine_similarity: 0.8573\n",
      "Epoch 37/100\n",
      "688/688 [==============================] - 11s 16ms/step - loss: 0.1875 - cosine_similarity: 0.9332 - val_loss: 0.4724 - val_cosine_similarity: 0.8591\n",
      "Epoch 38/100\n",
      "688/688 [==============================] - 11s 16ms/step - loss: 0.1833 - cosine_similarity: 0.9344 - val_loss: 0.5031 - val_cosine_similarity: 0.8585\n",
      "Epoch 39/100\n",
      "688/688 [==============================] - 11s 16ms/step - loss: 0.1809 - cosine_similarity: 0.9362 - val_loss: 0.4888 - val_cosine_similarity: 0.8609\n",
      "Epoch 40/100\n",
      "688/688 [==============================] - 11s 16ms/step - loss: 0.1761 - cosine_similarity: 0.9373 - val_loss: 0.4811 - val_cosine_similarity: 0.8658\n",
      "Epoch 41/100\n",
      "688/688 [==============================] - 11s 16ms/step - loss: 0.1792 - cosine_similarity: 0.9361 - val_loss: 0.4759 - val_cosine_similarity: 0.8623\n",
      "Epoch 42/100\n",
      "688/688 [==============================] - 11s 16ms/step - loss: 0.1750 - cosine_similarity: 0.9380 - val_loss: 0.4718 - val_cosine_similarity: 0.8597\n",
      "Epoch 43/100\n",
      "688/688 [==============================] - 11s 16ms/step - loss: 0.1724 - cosine_similarity: 0.9389 - val_loss: 0.4648 - val_cosine_similarity: 0.8609\n",
      "Epoch 44/100\n",
      "688/688 [==============================] - 11s 16ms/step - loss: 0.1702 - cosine_similarity: 0.9398 - val_loss: 0.4763 - val_cosine_similarity: 0.8672\n",
      "Epoch 45/100\n",
      "688/688 [==============================] - 11s 16ms/step - loss: 0.1646 - cosine_similarity: 0.9419 - val_loss: 0.4594 - val_cosine_similarity: 0.8690\n",
      "Epoch 46/100\n",
      "688/688 [==============================] - 11s 16ms/step - loss: 0.1628 - cosine_similarity: 0.9431 - val_loss: 0.4543 - val_cosine_similarity: 0.8702\n",
      "Epoch 47/100\n",
      "688/688 [==============================] - 11s 16ms/step - loss: 0.1616 - cosine_similarity: 0.9430 - val_loss: 0.4579 - val_cosine_similarity: 0.8714\n",
      "Epoch 48/100\n",
      "688/688 [==============================] - 11s 16ms/step - loss: 0.1588 - cosine_similarity: 0.9441 - val_loss: 0.4624 - val_cosine_similarity: 0.8703\n",
      "Epoch 49/100\n",
      "688/688 [==============================] - 11s 16ms/step - loss: 0.1558 - cosine_similarity: 0.9452 - val_loss: 0.4715 - val_cosine_similarity: 0.8689\n",
      "Epoch 50/100\n",
      "688/688 [==============================] - 11s 16ms/step - loss: 0.1593 - cosine_similarity: 0.9439 - val_loss: 0.4519 - val_cosine_similarity: 0.8778\n",
      "Epoch 51/100\n",
      "688/688 [==============================] - 11s 16ms/step - loss: 0.1507 - cosine_similarity: 0.9475 - val_loss: 0.4371 - val_cosine_similarity: 0.8751\n",
      "Epoch 52/100\n",
      "688/688 [==============================] - 11s 16ms/step - loss: 0.1492 - cosine_similarity: 0.9476 - val_loss: 0.4558 - val_cosine_similarity: 0.8776\n",
      "Epoch 53/100\n",
      "688/688 [==============================] - 11s 16ms/step - loss: 0.1487 - cosine_similarity: 0.9480 - val_loss: 0.4537 - val_cosine_similarity: 0.8784\n",
      "Epoch 54/100\n",
      "688/688 [==============================] - 11s 16ms/step - loss: 0.1512 - cosine_similarity: 0.9472 - val_loss: 0.4305 - val_cosine_similarity: 0.8842\n",
      "Epoch 55/100\n",
      "688/688 [==============================] - 11s 16ms/step - loss: 0.1483 - cosine_similarity: 0.9481 - val_loss: 0.4407 - val_cosine_similarity: 0.8849\n",
      "Epoch 56/100\n",
      "688/688 [==============================] - 11s 16ms/step - loss: 0.1438 - cosine_similarity: 0.9505 - val_loss: 0.4808 - val_cosine_similarity: 0.8773\n",
      "Epoch 57/100\n",
      "688/688 [==============================] - 11s 16ms/step - loss: 0.1467 - cosine_similarity: 0.9487 - val_loss: 0.5031 - val_cosine_similarity: 0.8824\n",
      "Epoch 58/100\n",
      "688/688 [==============================] - 11s 16ms/step - loss: 0.1445 - cosine_similarity: 0.9496 - val_loss: 0.4507 - val_cosine_similarity: 0.8889\n",
      "Epoch 59/100\n",
      "688/688 [==============================] - 11s 16ms/step - loss: 0.1416 - cosine_similarity: 0.9505 - val_loss: 0.4825 - val_cosine_similarity: 0.8841\n",
      "Epoch 60/100\n",
      "688/688 [==============================] - 11s 16ms/step - loss: 0.1365 - cosine_similarity: 0.9528 - val_loss: 0.4942 - val_cosine_similarity: 0.8792\n",
      "Epoch 61/100\n",
      "688/688 [==============================] - 11s 16ms/step - loss: 0.1418 - cosine_similarity: 0.9508 - val_loss: 0.5038 - val_cosine_similarity: 0.8762\n",
      "Epoch 62/100\n",
      "688/688 [==============================] - 11s 16ms/step - loss: 0.1392 - cosine_similarity: 0.9520 - val_loss: 0.5385 - val_cosine_similarity: 0.8840\n",
      "Epoch 63/100\n",
      "688/688 [==============================] - 11s 16ms/step - loss: 0.1385 - cosine_similarity: 0.9517 - val_loss: 0.5322 - val_cosine_similarity: 0.8809\n",
      "Epoch 64/100\n",
      "688/688 [==============================] - 11s 16ms/step - loss: 0.1357 - cosine_similarity: 0.9534 - val_loss: 0.5020 - val_cosine_similarity: 0.8818\n",
      "Epoch 65/100\n",
      "688/688 [==============================] - 11s 16ms/step - loss: 0.1358 - cosine_similarity: 0.9527 - val_loss: 0.6368 - val_cosine_similarity: 0.8820\n",
      "Epoch 66/100\n",
      "688/688 [==============================] - 11s 16ms/step - loss: 0.1307 - cosine_similarity: 0.9546 - val_loss: 0.5241 - val_cosine_similarity: 0.8821\n",
      "Epoch 67/100\n",
      "688/688 [==============================] - 11s 16ms/step - loss: 0.1306 - cosine_similarity: 0.9545 - val_loss: 0.5378 - val_cosine_similarity: 0.8868\n",
      "Epoch 68/100\n",
      "688/688 [==============================] - 11s 16ms/step - loss: 0.1335 - cosine_similarity: 0.9542 - val_loss: 0.5982 - val_cosine_similarity: 0.8768\n",
      "Epoch 69/100\n",
      "688/688 [==============================] - 11s 16ms/step - loss: 0.1260 - cosine_similarity: 0.9568 - val_loss: 0.5782 - val_cosine_similarity: 0.8776\n",
      "Epoch 70/100\n",
      "688/688 [==============================] - 11s 16ms/step - loss: 0.1265 - cosine_similarity: 0.9566 - val_loss: 0.5411 - val_cosine_similarity: 0.8725\n",
      "Epoch 71/100\n",
      "688/688 [==============================] - 11s 16ms/step - loss: 0.1270 - cosine_similarity: 0.9559 - val_loss: 0.5799 - val_cosine_similarity: 0.8818\n",
      "Epoch 72/100\n",
      "688/688 [==============================] - 11s 16ms/step - loss: 0.1259 - cosine_similarity: 0.9561 - val_loss: 0.6701 - val_cosine_similarity: 0.8582\n",
      "Epoch 73/100\n",
      "688/688 [==============================] - 11s 16ms/step - loss: 0.1230 - cosine_similarity: 0.9576 - val_loss: 0.5302 - val_cosine_similarity: 0.8839\n",
      "Epoch 74/100\n",
      "688/688 [==============================] - 11s 16ms/step - loss: 0.1240 - cosine_similarity: 0.9568 - val_loss: 0.5741 - val_cosine_similarity: 0.8788\n",
      "Epoch 75/100\n",
      "688/688 [==============================] - 11s 16ms/step - loss: 0.1216 - cosine_similarity: 0.9586 - val_loss: 0.5440 - val_cosine_similarity: 0.8856\n",
      "Epoch 76/100\n",
      "688/688 [==============================] - 11s 16ms/step - loss: 0.1218 - cosine_similarity: 0.9578 - val_loss: 0.5281 - val_cosine_similarity: 0.8920\n",
      "Epoch 77/100\n",
      "688/688 [==============================] - 11s 16ms/step - loss: 0.1199 - cosine_similarity: 0.9590 - val_loss: 0.5339 - val_cosine_similarity: 0.8839\n",
      "Epoch 78/100\n",
      "688/688 [==============================] - 11s 16ms/step - loss: 0.1204 - cosine_similarity: 0.9589 - val_loss: 0.5446 - val_cosine_similarity: 0.8905\n",
      "Epoch 79/100\n",
      "688/688 [==============================] - 11s 16ms/step - loss: 0.1164 - cosine_similarity: 0.9600 - val_loss: 0.6362 - val_cosine_similarity: 0.8820\n",
      "Epoch 80/100\n",
      "688/688 [==============================] - 11s 16ms/step - loss: 0.1173 - cosine_similarity: 0.9596 - val_loss: 0.6233 - val_cosine_similarity: 0.8795\n",
      "Epoch 81/100\n",
      "688/688 [==============================] - 11s 16ms/step - loss: 0.1146 - cosine_similarity: 0.9605 - val_loss: 0.5722 - val_cosine_similarity: 0.8847\n",
      "Epoch 82/100\n",
      "688/688 [==============================] - 11s 16ms/step - loss: 0.1171 - cosine_similarity: 0.9600 - val_loss: 0.5439 - val_cosine_similarity: 0.8802\n",
      "Epoch 83/100\n",
      "688/688 [==============================] - 11s 16ms/step - loss: 0.1156 - cosine_similarity: 0.9601 - val_loss: 0.6244 - val_cosine_similarity: 0.8840\n",
      "Epoch 84/100\n",
      "688/688 [==============================] - 11s 16ms/step - loss: 0.1150 - cosine_similarity: 0.9608 - val_loss: 0.6029 - val_cosine_similarity: 0.8651\n"
     ]
    }
   ],
   "source": [
    "history = model.fit(\n",
    "    x=train_data,\n",
    "    epochs=EPOCHS,\n",
    "    callbacks=[\n",
    "        tensorboard_callback,\n",
    "        earlystopping_callback\n",
    "    ],\n",
    "    validation_data=valid_data\n",
    ")"
   ]
  },
  {
   "cell_type": "markdown",
   "id": "177de451-f03a-495d-a09d-755626fce563",
   "metadata": {},
   "source": [
    "## Evaluate the model"
   ]
  },
  {
   "cell_type": "code",
   "execution_count": 44,
   "id": "9d0f540d-a99b-405b-8d05-f138f55a95e5",
   "metadata": {},
   "outputs": [
    {
     "name": "stdout",
     "output_type": "stream",
     "text": [
      "86/86 [==============================] - 1s 9ms/step - loss: 0.4237 - cosine_similarity: 0.8858\n"
     ]
    }
   ],
   "source": [
    "result = model.evaluate(\n",
    "    x=test_data,\n",
    "    return_dict=True\n",
    ")"
   ]
  },
  {
   "cell_type": "code",
   "execution_count": 45,
   "id": "296385b0-a5b1-43eb-9aa8-59c7e15a036b",
   "metadata": {},
   "outputs": [
    {
     "name": "stdout",
     "output_type": "stream",
     "text": [
      "loss                 0.4237\n",
      "cosine_similarity    0.8858\n"
     ]
    }
   ],
   "source": [
    "for name, val in result.items():\n",
    "    print(\"{:20s} {:.4f}\".format(name, val))"
   ]
  },
  {
   "cell_type": "markdown",
   "id": "570cabab-3653-4151-a2a7-051680c25de8",
   "metadata": {},
   "source": [
    "## Save the model"
   ]
  },
  {
   "cell_type": "code",
   "execution_count": 46,
   "id": "416ba8a8-9e6d-4d5e-9685-e211f2f759f4",
   "metadata": {},
   "outputs": [
    {
     "name": "stdout",
     "output_type": "stream",
     "text": [
      "INFO:tensorflow:Assets written to: ./data/models/cnn_2_20210914-172931/assets\n"
     ]
    }
   ],
   "source": [
    "model.save(SAVE_LOC)"
   ]
  },
  {
   "cell_type": "code",
   "execution_count": null,
   "id": "82f86cd8-cb7a-4913-8b67-e398bcdf2e3a",
   "metadata": {},
   "outputs": [],
   "source": []
  }
 ],
 "metadata": {
  "kernelspec": {
   "display_name": "Python [conda env:st3107-tfgpu] *",
   "language": "python",
   "name": "conda-env-st3107-tfgpu-py"
  },
  "language_info": {
   "codemirror_mode": {
    "name": "ipython",
    "version": 3
   },
   "file_extension": ".py",
   "mimetype": "text/x-python",
   "name": "python",
   "nbconvert_exporter": "python",
   "pygments_lexer": "ipython3",
   "version": "3.9.6"
  }
 },
 "nbformat": 4,
 "nbformat_minor": 5
}
