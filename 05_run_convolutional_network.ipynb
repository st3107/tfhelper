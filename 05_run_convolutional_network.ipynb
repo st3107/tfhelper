{
 "cells": [
  {
   "cell_type": "markdown",
   "id": "f3d9670e-2a2c-4bf1-a315-9796c6789dc9",
   "metadata": {},
   "source": [
    "# Test the full connected layer model"
   ]
  },
  {
   "cell_type": "markdown",
   "id": "804cd7c3-db80-4fa9-9d89-4f801ad7d1ed",
   "metadata": {},
   "source": [
    "## Import necessary modules"
   ]
  },
  {
   "cell_type": "code",
   "execution_count": 1,
   "id": "cd85d865-3548-45b8-bf17-c6cdb4234763",
   "metadata": {},
   "outputs": [],
   "source": [
    "# python built-in libraries\n",
    "import datetime"
   ]
  },
  {
   "cell_type": "code",
   "execution_count": 2,
   "id": "56327e98-27db-4fcf-aa87-dde8512b87a2",
   "metadata": {},
   "outputs": [],
   "source": [
    "# choose the tensorflow log level\n",
    "import os\n",
    "os.environ['TF_CPP_MIN_LOG_LEVEL'] = '3'  # or any {'0', '1', '2'}"
   ]
  },
  {
   "cell_type": "code",
   "execution_count": 3,
   "id": "f930e0a7-cbc7-4f7e-8fe6-d50a90e4dcd1",
   "metadata": {},
   "outputs": [],
   "source": [
    "# import tensorflow\n",
    "import tensorflow as tf\n",
    "from tensorflow import keras\n",
    "from tensorflow.keras import layers"
   ]
  },
  {
   "cell_type": "code",
   "execution_count": 4,
   "id": "f020f42a-6eed-4f9c-8e76-26f15f8fff51",
   "metadata": {},
   "outputs": [],
   "source": [
    "# ohter packages\n",
    "import numpy as np\n",
    "\n",
    "import tfhelper.core as tfhelper"
   ]
  },
  {
   "cell_type": "markdown",
   "id": "e3bc5985-ee2c-44f0-9f07-68c483675b77",
   "metadata": {},
   "source": [
    "## Global Variables"
   ]
  },
  {
   "cell_type": "code",
   "execution_count": 5,
   "id": "82f389f0-549e-4dba-94ae-b963afe7b5fe",
   "metadata": {},
   "outputs": [],
   "source": [
    "# sampling\n",
    "FEATURES_FILE = \"./data/tensors/features.npy\"  # path to the file of the feature tensor\n",
    "LABELS_FILE = \"./data/tensors/labels.npy\"  # path to the file of the feature tensor\n",
    "FRACTIONS = (0.8, 0.1, 0.1)  # train, validation, test\n",
    "BATCH_SIZE = 256  # size of the batch\n",
    "BUFFER_SIZE = BATCH_SIZE * 2  # size of the shuffle buffer\n",
    "# training\n",
    "LEARNING_RATE = 0.001  # starting learning rate\n",
    "BETA1 = 0.9  # decay 1\n",
    "BETA2 = 0.999  # decay 2\n",
    "EPOCHS = 50  # number of epochs\n",
    "# saving\n",
    "TIME_STAMP = datetime.datetime.now().strftime(\"%Y%m%d-%H%M%S\")  # time stamp\n",
    "SAVE_LOC = \"./data/models/cnn_1_{}\".format(TIME_STAMP)  # path to the folder to save the model\n",
    "LOG_LOC = \"./data/logs/fit/{}\".format(TIME_STAMP)  # path to the log, if you change this, you also need to change it in the run_tensorboard"
   ]
  },
  {
   "cell_type": "markdown",
   "id": "6e2daffc-3f88-42de-be0e-f614c6e017ba",
   "metadata": {
    "tags": []
   },
   "source": [
    "## Obtain data\n",
    "\n",
    "The data is a 209 data point PDF. The label is a one-hot 2 dim vector. `10` means major phase >= threshold, `01` means major phase <= threshold."
   ]
  },
  {
   "cell_type": "code",
   "execution_count": 6,
   "id": "3d9be3eb-7058-4857-8eea-1cbee6674efa",
   "metadata": {},
   "outputs": [],
   "source": [
    "def load_data():\n",
    "    # load\n",
    "    features, labels = np.load(\"./data/tensors/features.npy\"), np.load(\"./data/tensors/labels.npy\")\n",
    "    # shuffle\n",
    "    n = features.shape[0]\n",
    "    shuffled_idx = np.random.permutation(n)\n",
    "    features, labels = features[shuffled_idx], labels[shuffled_idx]\n",
    "    # split\n",
    "    f0, f1, f2 = FRACTIONS\n",
    "    i, j, k = round(f0 * n), round((f0 + f1) * n), round((f0 + f1 + f2) * n)\n",
    "    train_data = tf.data.Dataset.from_tensor_slices((features[:i], labels[:i])).shuffle(BUFFER_SIZE).batch(BATCH_SIZE)\n",
    "    valid_data = tf.data.Dataset.from_tensor_slices((features[i:j], labels[i:j])).batch(BATCH_SIZE)\n",
    "    test_data = tf.data.Dataset.from_tensor_slices((features[j:k], labels[j:k])).batch(BATCH_SIZE)\n",
    "    return train_data, valid_data, test_data"
   ]
  },
  {
   "cell_type": "code",
   "execution_count": 7,
   "id": "76111e4f-5ed3-4318-bee1-9595f8359e5e",
   "metadata": {},
   "outputs": [],
   "source": [
    "train_data, valid_data, test_data = load_data()"
   ]
  },
  {
   "cell_type": "markdown",
   "id": "66341557-8f2e-4edf-876e-015398a118ee",
   "metadata": {},
   "source": [
    "## Create the model\n",
    "\n",
    "We use the logistric regression. It is a single layer with a softmax function."
   ]
  },
  {
   "cell_type": "code",
   "execution_count": 8,
   "id": "2c9ea8fd-4674-47b1-b871-eec08a87b2c4",
   "metadata": {},
   "outputs": [],
   "source": [
    "def create_model():\n",
    "    model = keras.Sequential()\n",
    "    model.add(keras.Input(shape=(209,)))\n",
    "    model.add(keras.layers.Reshape((209, 1)))\n",
    "    model.add(keras.layers.Conv1D(16, 32, strides=1, activation='relu', padding=\"same\"))\n",
    "    model.add(keras.layers.Conv1D(16, 32, strides=1, activation='relu', padding=\"same\"))\n",
    "    model.add(keras.layers.MaxPooling1D(4))\n",
    "    model.add(keras.layers.Conv1D(64, 16, strides=1, activation='relu', padding=\"same\"))\n",
    "    model.add(keras.layers.Conv1D(64, 16, strides=1, activation='relu', padding=\"same\"))\n",
    "    model.add(keras.layers.MaxPooling1D(4))\n",
    "    model.add(keras.layers.Conv1D(256, 8, strides=1, activation='relu', padding=\"same\"))\n",
    "    model.add(keras.layers.Conv1D(256, 8, strides=1, activation='relu', padding=\"same\"))\n",
    "    model.add(keras.layers.MaxPooling1D(2))\n",
    "    model.add(keras.layers.Conv1D(512, 4, strides=1, activation='relu', padding=\"same\"))\n",
    "    model.add(keras.layers.Conv1D(512, 4, strides=1, activation='relu', padding=\"same\"))\n",
    "    model.add(keras.layers.MaxPooling1D(2))\n",
    "    model.add(keras.layers.GlobalAveragePooling1D())\n",
    "    model.add(keras.layers.Dropout(0.2))\n",
    "    model.add(keras.layers.Dense(2, activation='softmax'))\n",
    "    return model"
   ]
  },
  {
   "cell_type": "code",
   "execution_count": 9,
   "id": "505c4f8e-4b54-4343-877f-8bd6485d7cf3",
   "metadata": {},
   "outputs": [],
   "source": [
    "model = create_model()"
   ]
  },
  {
   "cell_type": "code",
   "execution_count": 10,
   "id": "33d75cc4-a197-4b09-a2f7-ef735937c775",
   "metadata": {},
   "outputs": [
    {
     "name": "stdout",
     "output_type": "stream",
     "text": [
      "Model: \"sequential\"\n",
      "_________________________________________________________________\n",
      "Layer (type)                 Output Shape              Param #   \n",
      "=================================================================\n",
      "reshape (Reshape)            (None, 209, 1)            0         \n",
      "_________________________________________________________________\n",
      "conv1d (Conv1D)              (None, 209, 16)           528       \n",
      "_________________________________________________________________\n",
      "conv1d_1 (Conv1D)            (None, 209, 16)           8208      \n",
      "_________________________________________________________________\n",
      "max_pooling1d (MaxPooling1D) (None, 52, 16)            0         \n",
      "_________________________________________________________________\n",
      "conv1d_2 (Conv1D)            (None, 52, 64)            16448     \n",
      "_________________________________________________________________\n",
      "conv1d_3 (Conv1D)            (None, 52, 64)            65600     \n",
      "_________________________________________________________________\n",
      "max_pooling1d_1 (MaxPooling1 (None, 13, 64)            0         \n",
      "_________________________________________________________________\n",
      "conv1d_4 (Conv1D)            (None, 13, 256)           131328    \n",
      "_________________________________________________________________\n",
      "conv1d_5 (Conv1D)            (None, 13, 256)           524544    \n",
      "_________________________________________________________________\n",
      "max_pooling1d_2 (MaxPooling1 (None, 6, 256)            0         \n",
      "_________________________________________________________________\n",
      "conv1d_6 (Conv1D)            (None, 6, 512)            524800    \n",
      "_________________________________________________________________\n",
      "conv1d_7 (Conv1D)            (None, 6, 512)            1049088   \n",
      "_________________________________________________________________\n",
      "max_pooling1d_3 (MaxPooling1 (None, 3, 512)            0         \n",
      "_________________________________________________________________\n",
      "global_average_pooling1d (Gl (None, 512)               0         \n",
      "_________________________________________________________________\n",
      "dropout (Dropout)            (None, 512)               0         \n",
      "_________________________________________________________________\n",
      "dense (Dense)                (None, 2)                 1026      \n",
      "=================================================================\n",
      "Total params: 2,321,570\n",
      "Trainable params: 2,321,570\n",
      "Non-trainable params: 0\n",
      "_________________________________________________________________\n"
     ]
    }
   ],
   "source": [
    "model.summary()"
   ]
  },
  {
   "cell_type": "markdown",
   "id": "668bbf47-4604-4388-bda2-f7d384b332ae",
   "metadata": {},
   "source": [
    "## Choose optimization method"
   ]
  },
  {
   "cell_type": "code",
   "execution_count": 11,
   "id": "541c52ba-2aa5-48d4-b40c-75d0948b3b2e",
   "metadata": {},
   "outputs": [],
   "source": [
    "model.compile(\n",
    "    # Optimizer\n",
    "    optimizer=keras.optimizers.Adam(LEARNING_RATE, BETA1, BETA2),\n",
    "    # Loss function to minimize\n",
    "    loss=keras.losses.CategoricalCrossentropy(),\n",
    "    # List of metrics to monitor\n",
    "    metrics=[\n",
    "        keras.metrics.CosineSimilarity(),\n",
    "        keras.metrics.TopKCategoricalAccuracy(k=1)\n",
    "    ],\n",
    ")"
   ]
  },
  {
   "cell_type": "markdown",
   "id": "786d396f-3334-433d-99d9-d6026ab524d8",
   "metadata": {
    "tags": []
   },
   "source": [
    "## Train the model"
   ]
  },
  {
   "cell_type": "code",
   "execution_count": 12,
   "id": "a2ac30aa-afc3-42c7-9f7c-0f057f1496d5",
   "metadata": {},
   "outputs": [],
   "source": [
    "# tensor board\n",
    "tensorboard_callback = tf.keras.callbacks.TensorBoard(log_dir=LOG_LOC, histogram_freq=1)"
   ]
  },
  {
   "cell_type": "code",
   "execution_count": 13,
   "id": "7ecfa6ce-8dd6-4ca9-aab9-d5008b5120b0",
   "metadata": {},
   "outputs": [
    {
     "name": "stdout",
     "output_type": "stream",
     "text": [
      "Epoch 1/50\n",
      "344/344 [==============================] - 26s 36ms/step - loss: 0.6722 - cosine_similarity: 0.7287 - top_k_categorical_accuracy: 0.6354 - val_loss: 0.6575 - val_cosine_similarity: 0.7317 - val_top_k_categorical_accuracy: 0.6340\n",
      "Epoch 2/50\n",
      "344/344 [==============================] - 7s 21ms/step - loss: 0.6564 - cosine_similarity: 0.7323 - top_k_categorical_accuracy: 0.6355 - val_loss: 0.6573 - val_cosine_similarity: 0.7318 - val_top_k_categorical_accuracy: 0.6340\n",
      "Epoch 3/50\n",
      "344/344 [==============================] - 7s 21ms/step - loss: 0.6561 - cosine_similarity: 0.7325 - top_k_categorical_accuracy: 0.6358 - val_loss: 0.6570 - val_cosine_similarity: 0.7319 - val_top_k_categorical_accuracy: 0.6340\n",
      "Epoch 4/50\n",
      "344/344 [==============================] - 7s 21ms/step - loss: 0.6561 - cosine_similarity: 0.7326 - top_k_categorical_accuracy: 0.6356 - val_loss: 0.6569 - val_cosine_similarity: 0.7320 - val_top_k_categorical_accuracy: 0.6340\n",
      "Epoch 5/50\n",
      "344/344 [==============================] - 7s 21ms/step - loss: 0.6561 - cosine_similarity: 0.7325 - top_k_categorical_accuracy: 0.6355 - val_loss: 0.6568 - val_cosine_similarity: 0.7320 - val_top_k_categorical_accuracy: 0.6340\n",
      "Epoch 6/50\n",
      "344/344 [==============================] - 7s 21ms/step - loss: 0.6561 - cosine_similarity: 0.7326 - top_k_categorical_accuracy: 0.6357 - val_loss: 0.6568 - val_cosine_similarity: 0.7321 - val_top_k_categorical_accuracy: 0.6340\n",
      "Epoch 7/50\n",
      "344/344 [==============================] - 7s 21ms/step - loss: 0.6561 - cosine_similarity: 0.7325 - top_k_categorical_accuracy: 0.6354 - val_loss: 0.6569 - val_cosine_similarity: 0.7320 - val_top_k_categorical_accuracy: 0.6340\n",
      "Epoch 8/50\n",
      "344/344 [==============================] - 7s 21ms/step - loss: 0.6560 - cosine_similarity: 0.7326 - top_k_categorical_accuracy: 0.6358 - val_loss: 0.6569 - val_cosine_similarity: 0.7320 - val_top_k_categorical_accuracy: 0.6340\n",
      "Epoch 9/50\n",
      "344/344 [==============================] - 7s 21ms/step - loss: 0.6562 - cosine_similarity: 0.7325 - top_k_categorical_accuracy: 0.6353 - val_loss: 0.6568 - val_cosine_similarity: 0.7320 - val_top_k_categorical_accuracy: 0.6340\n",
      "Epoch 10/50\n",
      "344/344 [==============================] - 7s 21ms/step - loss: 0.6559 - cosine_similarity: 0.7326 - top_k_categorical_accuracy: 0.6358 - val_loss: 0.6568 - val_cosine_similarity: 0.7320 - val_top_k_categorical_accuracy: 0.6340\n",
      "Epoch 11/50\n",
      "344/344 [==============================] - 7s 21ms/step - loss: 0.6560 - cosine_similarity: 0.7326 - top_k_categorical_accuracy: 0.6355 - val_loss: 0.6568 - val_cosine_similarity: 0.7320 - val_top_k_categorical_accuracy: 0.6340\n",
      "Epoch 12/50\n",
      "344/344 [==============================] - 7s 21ms/step - loss: 0.6561 - cosine_similarity: 0.7325 - top_k_categorical_accuracy: 0.6356 - val_loss: 0.6569 - val_cosine_similarity: 0.7320 - val_top_k_categorical_accuracy: 0.6340\n",
      "Epoch 13/50\n",
      "344/344 [==============================] - 7s 21ms/step - loss: 0.6560 - cosine_similarity: 0.7326 - top_k_categorical_accuracy: 0.6357 - val_loss: 0.6568 - val_cosine_similarity: 0.7320 - val_top_k_categorical_accuracy: 0.6340\n",
      "Epoch 14/50\n",
      "344/344 [==============================] - 7s 21ms/step - loss: 0.6560 - cosine_similarity: 0.7326 - top_k_categorical_accuracy: 0.6357 - val_loss: 0.6568 - val_cosine_similarity: 0.7321 - val_top_k_categorical_accuracy: 0.6340\n",
      "Epoch 15/50\n",
      "344/344 [==============================] - 7s 21ms/step - loss: 0.6561 - cosine_similarity: 0.7326 - top_k_categorical_accuracy: 0.6356 - val_loss: 0.6568 - val_cosine_similarity: 0.7320 - val_top_k_categorical_accuracy: 0.6340\n",
      "Epoch 16/50\n",
      "344/344 [==============================] - 7s 21ms/step - loss: 0.6561 - cosine_similarity: 0.7325 - top_k_categorical_accuracy: 0.6355 - val_loss: 0.6568 - val_cosine_similarity: 0.7321 - val_top_k_categorical_accuracy: 0.6340\n",
      "Epoch 17/50\n",
      "344/344 [==============================] - 7s 21ms/step - loss: 0.6558 - cosine_similarity: 0.7327 - top_k_categorical_accuracy: 0.6360 - val_loss: 0.6568 - val_cosine_similarity: 0.7321 - val_top_k_categorical_accuracy: 0.6340\n",
      "Epoch 18/50\n",
      "344/344 [==============================] - 8s 22ms/step - loss: 0.6561 - cosine_similarity: 0.7325 - top_k_categorical_accuracy: 0.6355 - val_loss: 0.6568 - val_cosine_similarity: 0.7321 - val_top_k_categorical_accuracy: 0.6340\n",
      "Epoch 19/50\n",
      "344/344 [==============================] - 7s 21ms/step - loss: 0.6560 - cosine_similarity: 0.7326 - top_k_categorical_accuracy: 0.6357 - val_loss: 0.6568 - val_cosine_similarity: 0.7320 - val_top_k_categorical_accuracy: 0.6340\n",
      "Epoch 20/50\n",
      "344/344 [==============================] - 7s 21ms/step - loss: 0.6559 - cosine_similarity: 0.7326 - top_k_categorical_accuracy: 0.6357 - val_loss: 0.6568 - val_cosine_similarity: 0.7320 - val_top_k_categorical_accuracy: 0.6340\n",
      "Epoch 21/50\n",
      "344/344 [==============================] - 7s 21ms/step - loss: 0.6560 - cosine_similarity: 0.7326 - top_k_categorical_accuracy: 0.6356 - val_loss: 0.6568 - val_cosine_similarity: 0.7320 - val_top_k_categorical_accuracy: 0.6340\n",
      "Epoch 22/50\n",
      "344/344 [==============================] - 7s 22ms/step - loss: 0.6560 - cosine_similarity: 0.7326 - top_k_categorical_accuracy: 0.6356 - val_loss: 0.6568 - val_cosine_similarity: 0.7321 - val_top_k_categorical_accuracy: 0.6340\n",
      "Epoch 23/50\n",
      "344/344 [==============================] - 7s 21ms/step - loss: 0.6561 - cosine_similarity: 0.7325 - top_k_categorical_accuracy: 0.6353 - val_loss: 0.6568 - val_cosine_similarity: 0.7321 - val_top_k_categorical_accuracy: 0.6340\n",
      "Epoch 24/50\n",
      "344/344 [==============================] - 7s 21ms/step - loss: 0.6560 - cosine_similarity: 0.7326 - top_k_categorical_accuracy: 0.6356 - val_loss: 0.6568 - val_cosine_similarity: 0.7320 - val_top_k_categorical_accuracy: 0.6340\n",
      "Epoch 25/50\n",
      "344/344 [==============================] - 7s 21ms/step - loss: 0.6561 - cosine_similarity: 0.7325 - top_k_categorical_accuracy: 0.6356 - val_loss: 0.6568 - val_cosine_similarity: 0.7321 - val_top_k_categorical_accuracy: 0.6340\n",
      "Epoch 26/50\n",
      "344/344 [==============================] - 8s 22ms/step - loss: 0.6561 - cosine_similarity: 0.7325 - top_k_categorical_accuracy: 0.6354 - val_loss: 0.6568 - val_cosine_similarity: 0.7321 - val_top_k_categorical_accuracy: 0.6340\n",
      "Epoch 27/50\n",
      "344/344 [==============================] - 7s 21ms/step - loss: 0.6560 - cosine_similarity: 0.7326 - top_k_categorical_accuracy: 0.6357 - val_loss: 0.6568 - val_cosine_similarity: 0.7321 - val_top_k_categorical_accuracy: 0.6340\n",
      "Epoch 28/50\n",
      "344/344 [==============================] - 7s 21ms/step - loss: 0.6561 - cosine_similarity: 0.7325 - top_k_categorical_accuracy: 0.6355 - val_loss: 0.6568 - val_cosine_similarity: 0.7321 - val_top_k_categorical_accuracy: 0.6340\n",
      "Epoch 29/50\n",
      "344/344 [==============================] - 7s 21ms/step - loss: 0.6559 - cosine_similarity: 0.7327 - top_k_categorical_accuracy: 0.6358 - val_loss: 0.6568 - val_cosine_similarity: 0.7321 - val_top_k_categorical_accuracy: 0.6340\n",
      "Epoch 30/50\n",
      "344/344 [==============================] - 7s 21ms/step - loss: 0.6560 - cosine_similarity: 0.7326 - top_k_categorical_accuracy: 0.6356 - val_loss: 0.6568 - val_cosine_similarity: 0.7321 - val_top_k_categorical_accuracy: 0.6340\n",
      "Epoch 31/50\n",
      "344/344 [==============================] - 7s 21ms/step - loss: 0.6562 - cosine_similarity: 0.7325 - top_k_categorical_accuracy: 0.6352 - val_loss: 0.6568 - val_cosine_similarity: 0.7321 - val_top_k_categorical_accuracy: 0.6340\n",
      "Epoch 32/50\n",
      "344/344 [==============================] - 7s 21ms/step - loss: 0.6561 - cosine_similarity: 0.7325 - top_k_categorical_accuracy: 0.6355 - val_loss: 0.6568 - val_cosine_similarity: 0.7321 - val_top_k_categorical_accuracy: 0.6340\n",
      "Epoch 33/50\n",
      "344/344 [==============================] - 8s 22ms/step - loss: 0.6559 - cosine_similarity: 0.7326 - top_k_categorical_accuracy: 0.6357 - val_loss: 0.6568 - val_cosine_similarity: 0.7321 - val_top_k_categorical_accuracy: 0.6340\n",
      "Epoch 34/50\n",
      "344/344 [==============================] - 13s 38ms/step - loss: 0.6560 - cosine_similarity: 0.7326 - top_k_categorical_accuracy: 0.6356 - val_loss: 0.6568 - val_cosine_similarity: 0.7321 - val_top_k_categorical_accuracy: 0.6340\n",
      "Epoch 35/50\n",
      "344/344 [==============================] - 14s 41ms/step - loss: 0.6561 - cosine_similarity: 0.7325 - top_k_categorical_accuracy: 0.6355 - val_loss: 0.6568 - val_cosine_similarity: 0.7321 - val_top_k_categorical_accuracy: 0.6340\n",
      "Epoch 36/50\n",
      "344/344 [==============================] - 14s 40ms/step - loss: 0.6559 - cosine_similarity: 0.7327 - top_k_categorical_accuracy: 0.6357 - val_loss: 0.6568 - val_cosine_similarity: 0.7321 - val_top_k_categorical_accuracy: 0.6340\n",
      "Epoch 37/50\n",
      "344/344 [==============================] - 14s 40ms/step - loss: 0.6560 - cosine_similarity: 0.7326 - top_k_categorical_accuracy: 0.6355 - val_loss: 0.6568 - val_cosine_similarity: 0.7321 - val_top_k_categorical_accuracy: 0.6340\n",
      "Epoch 38/50\n",
      "344/344 [==============================] - 11s 33ms/step - loss: 0.6559 - cosine_similarity: 0.7327 - top_k_categorical_accuracy: 0.6357 - val_loss: 0.6568 - val_cosine_similarity: 0.7321 - val_top_k_categorical_accuracy: 0.6340\n",
      "Epoch 39/50\n",
      "344/344 [==============================] - 8s 22ms/step - loss: 0.6559 - cosine_similarity: 0.7326 - top_k_categorical_accuracy: 0.6356 - val_loss: 0.6568 - val_cosine_similarity: 0.7321 - val_top_k_categorical_accuracy: 0.6340\n",
      "Epoch 40/50\n",
      "344/344 [==============================] - 7s 21ms/step - loss: 0.6559 - cosine_similarity: 0.7327 - top_k_categorical_accuracy: 0.6358 - val_loss: 0.6568 - val_cosine_similarity: 0.7321 - val_top_k_categorical_accuracy: 0.6340\n",
      "Epoch 41/50\n",
      "344/344 [==============================] - 8s 22ms/step - loss: 0.6559 - cosine_similarity: 0.7327 - top_k_categorical_accuracy: 0.6357 - val_loss: 0.6568 - val_cosine_similarity: 0.7321 - val_top_k_categorical_accuracy: 0.6340\n",
      "Epoch 42/50\n",
      "344/344 [==============================] - 8s 22ms/step - loss: 0.6558 - cosine_similarity: 0.7327 - top_k_categorical_accuracy: 0.6359 - val_loss: 0.6568 - val_cosine_similarity: 0.7321 - val_top_k_categorical_accuracy: 0.6340\n",
      "Epoch 43/50\n",
      "344/344 [==============================] - 8s 22ms/step - loss: 0.6560 - cosine_similarity: 0.7326 - top_k_categorical_accuracy: 0.6355 - val_loss: 0.6568 - val_cosine_similarity: 0.7321 - val_top_k_categorical_accuracy: 0.6340\n",
      "Epoch 44/50\n",
      "344/344 [==============================] - 8s 22ms/step - loss: 0.6560 - cosine_similarity: 0.7326 - top_k_categorical_accuracy: 0.6356 - val_loss: 0.6568 - val_cosine_similarity: 0.7321 - val_top_k_categorical_accuracy: 0.6340\n",
      "Epoch 45/50\n",
      "344/344 [==============================] - 8s 22ms/step - loss: 0.6559 - cosine_similarity: 0.7327 - top_k_categorical_accuracy: 0.6357 - val_loss: 0.6568 - val_cosine_similarity: 0.7321 - val_top_k_categorical_accuracy: 0.6340\n",
      "Epoch 46/50\n",
      "344/344 [==============================] - 8s 24ms/step - loss: 0.6559 - cosine_similarity: 0.7327 - top_k_categorical_accuracy: 0.6358 - val_loss: 0.6568 - val_cosine_similarity: 0.7321 - val_top_k_categorical_accuracy: 0.6340\n",
      "Epoch 47/50\n",
      "344/344 [==============================] - 9s 26ms/step - loss: 0.6560 - cosine_similarity: 0.7326 - top_k_categorical_accuracy: 0.6355 - val_loss: 0.6568 - val_cosine_similarity: 0.7321 - val_top_k_categorical_accuracy: 0.6340\n",
      "Epoch 48/50\n",
      "344/344 [==============================] - 13s 39ms/step - loss: 0.6560 - cosine_similarity: 0.7326 - top_k_categorical_accuracy: 0.6356 - val_loss: 0.6568 - val_cosine_similarity: 0.7321 - val_top_k_categorical_accuracy: 0.6340\n",
      "Epoch 49/50\n",
      "344/344 [==============================] - 14s 39ms/step - loss: 0.6560 - cosine_similarity: 0.7326 - top_k_categorical_accuracy: 0.6355 - val_loss: 0.6568 - val_cosine_similarity: 0.7321 - val_top_k_categorical_accuracy: 0.6340\n",
      "Epoch 50/50\n",
      "344/344 [==============================] - 14s 40ms/step - loss: 0.6558 - cosine_similarity: 0.7327 - top_k_categorical_accuracy: 0.6358 - val_loss: 0.6568 - val_cosine_similarity: 0.7321 - val_top_k_categorical_accuracy: 0.6340\n"
     ]
    }
   ],
   "source": [
    "history = model.fit(\n",
    "    x=train_data,\n",
    "    epochs=EPOCHS,\n",
    "    callbacks=[tensorboard_callback],\n",
    "    validation_data=valid_data\n",
    ")"
   ]
  },
  {
   "cell_type": "markdown",
   "id": "177de451-f03a-495d-a09d-755626fce563",
   "metadata": {},
   "source": [
    "## Evaluate the model"
   ]
  },
  {
   "cell_type": "code",
   "execution_count": 14,
   "id": "9d0f540d-a99b-405b-8d05-f138f55a95e5",
   "metadata": {},
   "outputs": [
    {
     "name": "stdout",
     "output_type": "stream",
     "text": [
      "43/43 [==============================] - 0s 9ms/step - loss: 0.6569 - cosine_similarity: 0.7320 - top_k_categorical_accuracy: 0.6338\n"
     ]
    }
   ],
   "source": [
    "result = model.evaluate(\n",
    "    x=test_data,\n",
    "    return_dict=True\n",
    ")"
   ]
  },
  {
   "cell_type": "code",
   "execution_count": 15,
   "id": "296385b0-a5b1-43eb-9aa8-59c7e15a036b",
   "metadata": {},
   "outputs": [
    {
     "name": "stdout",
     "output_type": "stream",
     "text": [
      "loss                 0.6569\n",
      "cosine_similarity    0.7320\n",
      "top_k_categorical_accuracy 0.6338\n"
     ]
    }
   ],
   "source": [
    "for name, val in result.items():\n",
    "    print(\"{:20s} {:.4f}\".format(name, val))"
   ]
  },
  {
   "cell_type": "markdown",
   "id": "570cabab-3653-4151-a2a7-051680c25de8",
   "metadata": {},
   "source": [
    "## Save the model"
   ]
  },
  {
   "cell_type": "code",
   "execution_count": 16,
   "id": "416ba8a8-9e6d-4d5e-9685-e211f2f759f4",
   "metadata": {},
   "outputs": [
    {
     "name": "stdout",
     "output_type": "stream",
     "text": [
      "INFO:tensorflow:Assets written to: ./data/models/cnn_1_20210912-230847/assets\n"
     ]
    }
   ],
   "source": [
    "model.save(SAVE_LOC)"
   ]
  },
  {
   "cell_type": "code",
   "execution_count": null,
   "id": "82f86cd8-cb7a-4913-8b67-e398bcdf2e3a",
   "metadata": {},
   "outputs": [],
   "source": []
  }
 ],
 "metadata": {
  "kernelspec": {
   "display_name": "Python [conda env:st3107-tfgpu] *",
   "language": "python",
   "name": "conda-env-st3107-tfgpu-py"
  },
  "language_info": {
   "codemirror_mode": {
    "name": "ipython",
    "version": 3
   },
   "file_extension": ".py",
   "mimetype": "text/x-python",
   "name": "python",
   "nbconvert_exporter": "python",
   "pygments_lexer": "ipython3",
   "version": "3.9.6"
  }
 },
 "nbformat": 4,
 "nbformat_minor": 5
}
