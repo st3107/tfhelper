{
 "cells": [
  {
   "cell_type": "markdown",
   "id": "f3d9670e-2a2c-4bf1-a315-9796c6789dc9",
   "metadata": {},
   "source": [
    "# CNN + FC\n",
    "\n",
    "How about decrease the number of filters so that the model is less complex to avoid over fitting."
   ]
  },
  {
   "cell_type": "markdown",
   "id": "804cd7c3-db80-4fa9-9d89-4f801ad7d1ed",
   "metadata": {
    "tags": []
   },
   "source": [
    "## Import necessary modules"
   ]
  },
  {
   "cell_type": "code",
   "execution_count": 1,
   "id": "cd85d865-3548-45b8-bf17-c6cdb4234763",
   "metadata": {},
   "outputs": [],
   "source": [
    "# python built-in libraries\n",
    "import datetime"
   ]
  },
  {
   "cell_type": "code",
   "execution_count": 2,
   "id": "56327e98-27db-4fcf-aa87-dde8512b87a2",
   "metadata": {},
   "outputs": [],
   "source": [
    "# choose the tensorflow log level\n",
    "import os\n",
    "os.environ['TF_CPP_MIN_LOG_LEVEL'] = '3'  # or any {'0', '1', '2'}"
   ]
  },
  {
   "cell_type": "code",
   "execution_count": 3,
   "id": "f930e0a7-cbc7-4f7e-8fe6-d50a90e4dcd1",
   "metadata": {},
   "outputs": [],
   "source": [
    "# import tensorflow\n",
    "import tensorflow as tf\n",
    "from tensorflow import keras\n",
    "from tensorflow.keras import layers"
   ]
  },
  {
   "cell_type": "code",
   "execution_count": 4,
   "id": "f020f42a-6eed-4f9c-8e76-26f15f8fff51",
   "metadata": {},
   "outputs": [],
   "source": [
    "# ohter packages\n",
    "import numpy as np\n",
    "\n",
    "import tfhelper.core as tfhelper"
   ]
  },
  {
   "cell_type": "markdown",
   "id": "e3bc5985-ee2c-44f0-9f07-68c483675b77",
   "metadata": {},
   "source": [
    "## Global Variables"
   ]
  },
  {
   "cell_type": "code",
   "execution_count": 15,
   "id": "82f389f0-549e-4dba-94ae-b963afe7b5fe",
   "metadata": {},
   "outputs": [],
   "source": [
    "# sampling\n",
    "FEATURES_FILE = \"./data/tensors/features.npy\"  # path to the file of the feature tensor\n",
    "LABELS_FILE = \"./data/tensors/labels.npy\"  # path to the file of the feature tensor\n",
    "FRACTIONS = (0.8, 0.1, 0.1)  # train, validation, test\n",
    "BATCH_SIZE = 128  # size of the batch\n",
    "BUFFER_SIZE = BATCH_SIZE * 2  # size of the shuffle buffer\n",
    "# training\n",
    "LEARNING_RATE = 0.001  # starting learning rate\n",
    "BETA1 = 0.9  # decay 1\n",
    "BETA2 = 0.999  # decay 2\n",
    "EPOCHS = 200  # number of epochs\n",
    "# saving\n",
    "TIME_STAMP = datetime.datetime.now().strftime(\"%Y%m%d-%H%M%S\")  # time stamp\n",
    "SAVE_LOC = \"./data/models/cnn_4_{}\".format(TIME_STAMP)  # path to the folder to save the model\n",
    "LOG_LOC = \"./data/logs/fit/cnn_4_{}\".format(TIME_STAMP)  # path to the log, if you change this, you also need to change it in the run_tensorboard"
   ]
  },
  {
   "cell_type": "markdown",
   "id": "6e2daffc-3f88-42de-be0e-f614c6e017ba",
   "metadata": {
    "tags": []
   },
   "source": [
    "## Obtain data\n",
    "\n",
    "The data is a 209 data point PDF. The label is a one-hot 2 dim vector. `10` means major phase >= threshold, `01` means major phase <= threshold."
   ]
  },
  {
   "cell_type": "code",
   "execution_count": 16,
   "id": "3d9be3eb-7058-4857-8eea-1cbee6674efa",
   "metadata": {},
   "outputs": [],
   "source": [
    "def load_data():\n",
    "    # load\n",
    "    features, labels = np.load(FEATURES_FILE), np.load(LABELS_FILE)\n",
    "    # shuffle\n",
    "    n = features.shape[0]\n",
    "    shuffled_idx = np.random.permutation(n)\n",
    "    features, labels = features[shuffled_idx], labels[shuffled_idx]\n",
    "    # split\n",
    "    f0, f1, f2 = FRACTIONS\n",
    "    i, j, k = round(f0 * n), round((f0 + f1) * n), round((f0 + f1 + f2) * n)\n",
    "    train_data = tf.data.Dataset.from_tensor_slices((features[:i], labels[:i])).shuffle(BUFFER_SIZE).batch(BATCH_SIZE)\n",
    "    valid_data = tf.data.Dataset.from_tensor_slices((features[i:j], labels[i:j])).batch(BATCH_SIZE)\n",
    "    test_data = tf.data.Dataset.from_tensor_slices((features[j:k], labels[j:k])).batch(BATCH_SIZE)\n",
    "    return train_data, valid_data, test_data"
   ]
  },
  {
   "cell_type": "code",
   "execution_count": 17,
   "id": "76111e4f-5ed3-4318-bee1-9595f8359e5e",
   "metadata": {},
   "outputs": [],
   "source": [
    "train_data, valid_data, test_data = load_data()"
   ]
  },
  {
   "cell_type": "markdown",
   "id": "66341557-8f2e-4edf-876e-015398a118ee",
   "metadata": {},
   "source": [
    "## Create the model\n",
    "\n",
    "We use the logistric regression. It is a single layer with a softmax function."
   ]
  },
  {
   "cell_type": "code",
   "execution_count": 18,
   "id": "2c9ea8fd-4674-47b1-b871-eec08a87b2c4",
   "metadata": {},
   "outputs": [],
   "source": [
    "def create_model():\n",
    "    model = keras.Sequential()\n",
    "    model.add(keras.Input(shape=(209,)))\n",
    "    model.add(keras.layers.Reshape((209, 1)))\n",
    "    model.add(keras.layers.Conv1D(256, 32, strides=1, activation='relu', padding=\"same\"))\n",
    "    model.add(keras.layers.BatchNormalization())\n",
    "    model.add(keras.layers.Conv1D(64, 32, strides=1, activation='relu', padding=\"same\"))\n",
    "    model.add(keras.layers.BatchNormalization())\n",
    "    model.add(keras.layers.MaxPooling1D(2))\n",
    "    model.add(keras.layers.Dropout(0.2))\n",
    "    model.add(keras.layers.Flatten())\n",
    "    model.add(keras.layers.Dense(128, activation='relu'))\n",
    "    model.add(keras.layers.Dense(2, activation='softmax'))\n",
    "    return model"
   ]
  },
  {
   "cell_type": "code",
   "execution_count": 19,
   "id": "505c4f8e-4b54-4343-877f-8bd6485d7cf3",
   "metadata": {},
   "outputs": [],
   "source": [
    "model = create_model()"
   ]
  },
  {
   "cell_type": "code",
   "execution_count": 20,
   "id": "3ab9ec7a-e391-4912-b9df-659f295ca313",
   "metadata": {},
   "outputs": [
    {
     "name": "stdout",
     "output_type": "stream",
     "text": [
      "Model: \"sequential_1\"\n",
      "_________________________________________________________________\n",
      "Layer (type)                 Output Shape              Param #   \n",
      "=================================================================\n",
      "reshape_1 (Reshape)          (None, 209, 1)            0         \n",
      "_________________________________________________________________\n",
      "conv1d_2 (Conv1D)            (None, 209, 256)          8448      \n",
      "_________________________________________________________________\n",
      "batch_normalization_2 (Batch (None, 209, 256)          1024      \n",
      "_________________________________________________________________\n",
      "conv1d_3 (Conv1D)            (None, 209, 64)           524352    \n",
      "_________________________________________________________________\n",
      "batch_normalization_3 (Batch (None, 209, 64)           256       \n",
      "_________________________________________________________________\n",
      "max_pooling1d_1 (MaxPooling1 (None, 104, 64)           0         \n",
      "_________________________________________________________________\n",
      "dropout_1 (Dropout)          (None, 104, 64)           0         \n",
      "_________________________________________________________________\n",
      "flatten_1 (Flatten)          (None, 6656)              0         \n",
      "_________________________________________________________________\n",
      "dense_2 (Dense)              (None, 128)               852096    \n",
      "_________________________________________________________________\n",
      "dense_3 (Dense)              (None, 2)                 258       \n",
      "=================================================================\n",
      "Total params: 1,386,434\n",
      "Trainable params: 1,385,794\n",
      "Non-trainable params: 640\n",
      "_________________________________________________________________\n"
     ]
    }
   ],
   "source": [
    "model.summary()"
   ]
  },
  {
   "cell_type": "markdown",
   "id": "668bbf47-4604-4388-bda2-f7d384b332ae",
   "metadata": {},
   "source": [
    "## Choose optimization method"
   ]
  },
  {
   "cell_type": "code",
   "execution_count": 21,
   "id": "541c52ba-2aa5-48d4-b40c-75d0948b3b2e",
   "metadata": {},
   "outputs": [],
   "source": [
    "model.compile(\n",
    "    # Optimizer\n",
    "    optimizer=keras.optimizers.Adam(LEARNING_RATE, BETA1, BETA2),\n",
    "    # Loss function to minimize\n",
    "    loss=keras.losses.CategoricalCrossentropy(),\n",
    "    # List of metrics to monitor\n",
    "    metrics=[\n",
    "        keras.metrics.CosineSimilarity(),\n",
    "        keras.metrics.TopKCategoricalAccuracy(k=1)\n",
    "    ],\n",
    ")"
   ]
  },
  {
   "cell_type": "markdown",
   "id": "786d396f-3334-433d-99d9-d6026ab524d8",
   "metadata": {
    "tags": []
   },
   "source": [
    "## Train the model"
   ]
  },
  {
   "cell_type": "code",
   "execution_count": 22,
   "id": "a2ac30aa-afc3-42c7-9f7c-0f057f1496d5",
   "metadata": {},
   "outputs": [],
   "source": [
    "# tensor board\n",
    "tensorboard_callback = keras.callbacks.TensorBoard(\n",
    "    log_dir=LOG_LOC, \n",
    "    histogram_freq=1\n",
    ")"
   ]
  },
  {
   "cell_type": "code",
   "execution_count": 23,
   "id": "9de9aa59-d48e-476c-8a18-f83a07ea1015",
   "metadata": {},
   "outputs": [],
   "source": [
    "# early stopping to avoid over fitting\n",
    "earlystopping_callback = keras.callbacks.EarlyStopping(\n",
    "    monitor='val_loss',\n",
    "    patience=30, \n",
    "    restore_best_weights=True\n",
    ")"
   ]
  },
  {
   "cell_type": "code",
   "execution_count": 24,
   "id": "7ecfa6ce-8dd6-4ca9-aab9-d5008b5120b0",
   "metadata": {},
   "outputs": [
    {
     "name": "stdout",
     "output_type": "stream",
     "text": [
      "Epoch 1/200\n",
      "688/688 [==============================] - 39s 55ms/step - loss: 0.7400 - cosine_similarity: 0.7260 - top_k_categorical_accuracy: 0.6291 - val_loss: 0.6397 - val_cosine_similarity: 0.7435 - val_top_k_categorical_accuracy: 0.6519\n",
      "Epoch 2/200\n",
      "688/688 [==============================] - 38s 55ms/step - loss: 0.6369 - cosine_similarity: 0.7442 - top_k_categorical_accuracy: 0.6491 - val_loss: 0.6345 - val_cosine_similarity: 0.7462 - val_top_k_categorical_accuracy: 0.6457\n",
      "Epoch 3/200\n",
      "688/688 [==============================] - 37s 54ms/step - loss: 0.6304 - cosine_similarity: 0.7478 - top_k_categorical_accuracy: 0.6546 - val_loss: 0.6265 - val_cosine_similarity: 0.7501 - val_top_k_categorical_accuracy: 0.6568\n",
      "Epoch 4/200\n",
      "688/688 [==============================] - 37s 54ms/step - loss: 0.6231 - cosine_similarity: 0.7516 - top_k_categorical_accuracy: 0.6603 - val_loss: 0.6246 - val_cosine_similarity: 0.7518 - val_top_k_categorical_accuracy: 0.6624\n",
      "Epoch 5/200\n",
      "688/688 [==============================] - 37s 54ms/step - loss: 0.6154 - cosine_similarity: 0.7554 - top_k_categorical_accuracy: 0.6662 - val_loss: 0.6118 - val_cosine_similarity: 0.7576 - val_top_k_categorical_accuracy: 0.6699\n",
      "Epoch 6/200\n",
      "688/688 [==============================] - 37s 54ms/step - loss: 0.6001 - cosine_similarity: 0.7630 - top_k_categorical_accuracy: 0.6767 - val_loss: 0.6720 - val_cosine_similarity: 0.7393 - val_top_k_categorical_accuracy: 0.6662\n",
      "Epoch 7/200\n",
      "688/688 [==============================] - 37s 54ms/step - loss: 0.5864 - cosine_similarity: 0.7696 - top_k_categorical_accuracy: 0.6863 - val_loss: 0.6990 - val_cosine_similarity: 0.7359 - val_top_k_categorical_accuracy: 0.6649\n",
      "Epoch 8/200\n",
      "688/688 [==============================] - 37s 54ms/step - loss: 0.5691 - cosine_similarity: 0.7774 - top_k_categorical_accuracy: 0.6944 - val_loss: 0.6209 - val_cosine_similarity: 0.7586 - val_top_k_categorical_accuracy: 0.6802\n",
      "Epoch 9/200\n",
      "688/688 [==============================] - 37s 54ms/step - loss: 0.5535 - cosine_similarity: 0.7842 - top_k_categorical_accuracy: 0.7025 - val_loss: 1.6658 - val_cosine_similarity: 0.6651 - val_top_k_categorical_accuracy: 0.6516\n",
      "Epoch 10/200\n",
      "688/688 [==============================] - 37s 54ms/step - loss: 0.5398 - cosine_similarity: 0.7898 - top_k_categorical_accuracy: 0.7101 - val_loss: 0.6527 - val_cosine_similarity: 0.7538 - val_top_k_categorical_accuracy: 0.6859\n",
      "Epoch 11/200\n",
      "688/688 [==============================] - 37s 54ms/step - loss: 0.5258 - cosine_similarity: 0.7961 - top_k_categorical_accuracy: 0.7193 - val_loss: 0.6165 - val_cosine_similarity: 0.7647 - val_top_k_categorical_accuracy: 0.6955\n",
      "Epoch 12/200\n",
      "688/688 [==============================] - 37s 54ms/step - loss: 0.5150 - cosine_similarity: 0.8007 - top_k_categorical_accuracy: 0.7268 - val_loss: 0.6812 - val_cosine_similarity: 0.7501 - val_top_k_categorical_accuracy: 0.6904\n",
      "Epoch 13/200\n",
      "688/688 [==============================] - 37s 54ms/step - loss: 0.5061 - cosine_similarity: 0.8046 - top_k_categorical_accuracy: 0.7333 - val_loss: 0.6051 - val_cosine_similarity: 0.7680 - val_top_k_categorical_accuracy: 0.6875\n",
      "Epoch 14/200\n",
      "688/688 [==============================] - 37s 54ms/step - loss: 0.4996 - cosine_similarity: 0.8076 - top_k_categorical_accuracy: 0.7356 - val_loss: 0.6507 - val_cosine_similarity: 0.7625 - val_top_k_categorical_accuracy: 0.7003\n",
      "Epoch 15/200\n",
      "688/688 [==============================] - 37s 54ms/step - loss: 0.4903 - cosine_similarity: 0.8115 - top_k_categorical_accuracy: 0.7441 - val_loss: 0.5582 - val_cosine_similarity: 0.7896 - val_top_k_categorical_accuracy: 0.7165\n",
      "Epoch 16/200\n",
      "688/688 [==============================] - 37s 54ms/step - loss: 0.4793 - cosine_similarity: 0.8159 - top_k_categorical_accuracy: 0.7500 - val_loss: 0.6155 - val_cosine_similarity: 0.7750 - val_top_k_categorical_accuracy: 0.7073\n",
      "Epoch 17/200\n",
      "688/688 [==============================] - 37s 54ms/step - loss: 0.4756 - cosine_similarity: 0.8182 - top_k_categorical_accuracy: 0.7532 - val_loss: 0.5312 - val_cosine_similarity: 0.8003 - val_top_k_categorical_accuracy: 0.7288\n",
      "Epoch 18/200\n",
      "688/688 [==============================] - 37s 53ms/step - loss: 0.4664 - cosine_similarity: 0.8215 - top_k_categorical_accuracy: 0.7572 - val_loss: 0.5465 - val_cosine_similarity: 0.7953 - val_top_k_categorical_accuracy: 0.7231\n",
      "Epoch 19/200\n",
      "688/688 [==============================] - 37s 53ms/step - loss: 0.4597 - cosine_similarity: 0.8243 - top_k_categorical_accuracy: 0.7597 - val_loss: 0.5636 - val_cosine_similarity: 0.7886 - val_top_k_categorical_accuracy: 0.7124\n",
      "Epoch 20/200\n",
      "688/688 [==============================] - 37s 53ms/step - loss: 0.4549 - cosine_similarity: 0.8269 - top_k_categorical_accuracy: 0.7668 - val_loss: 0.5644 - val_cosine_similarity: 0.7940 - val_top_k_categorical_accuracy: 0.7270\n",
      "Epoch 21/200\n",
      "688/688 [==============================] - 37s 53ms/step - loss: 0.4475 - cosine_similarity: 0.8294 - top_k_categorical_accuracy: 0.7685 - val_loss: 0.5529 - val_cosine_similarity: 0.7957 - val_top_k_categorical_accuracy: 0.7254\n",
      "Epoch 22/200\n",
      "688/688 [==============================] - 37s 54ms/step - loss: 0.4437 - cosine_similarity: 0.8306 - top_k_categorical_accuracy: 0.7695 - val_loss: 0.5525 - val_cosine_similarity: 0.7909 - val_top_k_categorical_accuracy: 0.7069\n",
      "Epoch 23/200\n",
      "688/688 [==============================] - 37s 54ms/step - loss: 0.4365 - cosine_similarity: 0.8343 - top_k_categorical_accuracy: 0.7775 - val_loss: 0.5314 - val_cosine_similarity: 0.8064 - val_top_k_categorical_accuracy: 0.7416\n",
      "Epoch 24/200\n",
      "688/688 [==============================] - 37s 53ms/step - loss: 0.4293 - cosine_similarity: 0.8373 - top_k_categorical_accuracy: 0.7809 - val_loss: 0.5663 - val_cosine_similarity: 0.7896 - val_top_k_categorical_accuracy: 0.7141\n",
      "Epoch 25/200\n",
      "688/688 [==============================] - 37s 54ms/step - loss: 0.4269 - cosine_similarity: 0.8379 - top_k_categorical_accuracy: 0.7814 - val_loss: 0.5330 - val_cosine_similarity: 0.8039 - val_top_k_categorical_accuracy: 0.7344\n",
      "Epoch 26/200\n",
      "688/688 [==============================] - 37s 54ms/step - loss: 0.4215 - cosine_similarity: 0.8404 - top_k_categorical_accuracy: 0.7853 - val_loss: 0.5349 - val_cosine_similarity: 0.8013 - val_top_k_categorical_accuracy: 0.7241\n",
      "Epoch 27/200\n",
      "688/688 [==============================] - 37s 54ms/step - loss: 0.4176 - cosine_similarity: 0.8422 - top_k_categorical_accuracy: 0.7876 - val_loss: 0.5391 - val_cosine_similarity: 0.7986 - val_top_k_categorical_accuracy: 0.7199\n",
      "Epoch 28/200\n",
      "688/688 [==============================] - 37s 53ms/step - loss: 0.4133 - cosine_similarity: 0.8436 - top_k_categorical_accuracy: 0.7900 - val_loss: 0.5761 - val_cosine_similarity: 0.7896 - val_top_k_categorical_accuracy: 0.7125\n",
      "Epoch 29/200\n",
      "688/688 [==============================] - 37s 53ms/step - loss: 0.4078 - cosine_similarity: 0.8459 - top_k_categorical_accuracy: 0.7931 - val_loss: 0.5159 - val_cosine_similarity: 0.8123 - val_top_k_categorical_accuracy: 0.7468\n",
      "Epoch 30/200\n",
      "688/688 [==============================] - 37s 53ms/step - loss: 0.4051 - cosine_similarity: 0.8471 - top_k_categorical_accuracy: 0.7941 - val_loss: 0.5750 - val_cosine_similarity: 0.7941 - val_top_k_categorical_accuracy: 0.7310\n",
      "Epoch 31/200\n",
      "688/688 [==============================] - 37s 53ms/step - loss: 0.4029 - cosine_similarity: 0.8479 - top_k_categorical_accuracy: 0.7945 - val_loss: 0.5220 - val_cosine_similarity: 0.8133 - val_top_k_categorical_accuracy: 0.7509\n",
      "Epoch 32/200\n",
      "688/688 [==============================] - 37s 53ms/step - loss: 0.3966 - cosine_similarity: 0.8506 - top_k_categorical_accuracy: 0.7988 - val_loss: 0.5425 - val_cosine_similarity: 0.8045 - val_top_k_categorical_accuracy: 0.7364\n",
      "Epoch 33/200\n",
      "688/688 [==============================] - 37s 54ms/step - loss: 0.3949 - cosine_similarity: 0.8517 - top_k_categorical_accuracy: 0.8019 - val_loss: 0.5638 - val_cosine_similarity: 0.7907 - val_top_k_categorical_accuracy: 0.7118\n",
      "Epoch 34/200\n",
      "688/688 [==============================] - 37s 54ms/step - loss: 0.3930 - cosine_similarity: 0.8520 - top_k_categorical_accuracy: 0.8025 - val_loss: 0.5378 - val_cosine_similarity: 0.8042 - val_top_k_categorical_accuracy: 0.7347\n",
      "Epoch 35/200\n",
      "688/688 [==============================] - 37s 54ms/step - loss: 0.3875 - cosine_similarity: 0.8536 - top_k_categorical_accuracy: 0.8039 - val_loss: 0.5315 - val_cosine_similarity: 0.8042 - val_top_k_categorical_accuracy: 0.7328\n",
      "Epoch 36/200\n",
      "688/688 [==============================] - 37s 54ms/step - loss: 0.3843 - cosine_similarity: 0.8553 - top_k_categorical_accuracy: 0.8066 - val_loss: 0.5619 - val_cosine_similarity: 0.7957 - val_top_k_categorical_accuracy: 0.7208\n",
      "Epoch 37/200\n",
      "688/688 [==============================] - 37s 54ms/step - loss: 0.3824 - cosine_similarity: 0.8562 - top_k_categorical_accuracy: 0.8061 - val_loss: 0.5574 - val_cosine_similarity: 0.8020 - val_top_k_categorical_accuracy: 0.7336\n",
      "Epoch 38/200\n",
      "688/688 [==============================] - 37s 54ms/step - loss: 0.3820 - cosine_similarity: 0.8561 - top_k_categorical_accuracy: 0.8068 - val_loss: 0.5477 - val_cosine_similarity: 0.8013 - val_top_k_categorical_accuracy: 0.7285\n",
      "Epoch 39/200\n",
      "688/688 [==============================] - 37s 53ms/step - loss: 0.3747 - cosine_similarity: 0.8595 - top_k_categorical_accuracy: 0.8122 - val_loss: 0.5795 - val_cosine_similarity: 0.7986 - val_top_k_categorical_accuracy: 0.7261\n",
      "Epoch 40/200\n",
      "688/688 [==============================] - 37s 54ms/step - loss: 0.3751 - cosine_similarity: 0.8590 - top_k_categorical_accuracy: 0.8112 - val_loss: 0.5754 - val_cosine_similarity: 0.7938 - val_top_k_categorical_accuracy: 0.7216\n",
      "Epoch 41/200\n",
      "688/688 [==============================] - 37s 53ms/step - loss: 0.3749 - cosine_similarity: 0.8598 - top_k_categorical_accuracy: 0.8134 - val_loss: 0.5613 - val_cosine_similarity: 0.8045 - val_top_k_categorical_accuracy: 0.7390\n",
      "Epoch 42/200\n",
      "688/688 [==============================] - 37s 53ms/step - loss: 0.3696 - cosine_similarity: 0.8616 - top_k_categorical_accuracy: 0.8146 - val_loss: 0.5980 - val_cosine_similarity: 0.7837 - val_top_k_categorical_accuracy: 0.7070\n",
      "Epoch 43/200\n",
      "688/688 [==============================] - 37s 53ms/step - loss: 0.3666 - cosine_similarity: 0.8627 - top_k_categorical_accuracy: 0.8168 - val_loss: 0.5210 - val_cosine_similarity: 0.8182 - val_top_k_categorical_accuracy: 0.7619\n",
      "Epoch 44/200\n",
      "688/688 [==============================] - 37s 53ms/step - loss: 0.3643 - cosine_similarity: 0.8634 - top_k_categorical_accuracy: 0.8178 - val_loss: 0.5606 - val_cosine_similarity: 0.7982 - val_top_k_categorical_accuracy: 0.7286\n",
      "Epoch 45/200\n",
      "688/688 [==============================] - 37s 53ms/step - loss: 0.3621 - cosine_similarity: 0.8646 - top_k_categorical_accuracy: 0.8183 - val_loss: 0.5586 - val_cosine_similarity: 0.8065 - val_top_k_categorical_accuracy: 0.7485\n",
      "Epoch 46/200\n",
      "688/688 [==============================] - 37s 53ms/step - loss: 0.3594 - cosine_similarity: 0.8665 - top_k_categorical_accuracy: 0.8232 - val_loss: 0.5379 - val_cosine_similarity: 0.8069 - val_top_k_categorical_accuracy: 0.7388\n",
      "Epoch 47/200\n",
      "688/688 [==============================] - 37s 53ms/step - loss: 0.3575 - cosine_similarity: 0.8666 - top_k_categorical_accuracy: 0.8221 - val_loss: 0.5664 - val_cosine_similarity: 0.7962 - val_top_k_categorical_accuracy: 0.7238\n",
      "Epoch 48/200\n",
      "688/688 [==============================] - 37s 53ms/step - loss: 0.3579 - cosine_similarity: 0.8662 - top_k_categorical_accuracy: 0.8215 - val_loss: 0.5248 - val_cosine_similarity: 0.8165 - val_top_k_categorical_accuracy: 0.7579\n",
      "Epoch 49/200\n",
      "688/688 [==============================] - 37s 53ms/step - loss: 0.3567 - cosine_similarity: 0.8669 - top_k_categorical_accuracy: 0.8218 - val_loss: 0.5194 - val_cosine_similarity: 0.8157 - val_top_k_categorical_accuracy: 0.7531\n",
      "Epoch 50/200\n",
      "688/688 [==============================] - 37s 53ms/step - loss: 0.3521 - cosine_similarity: 0.8688 - top_k_categorical_accuracy: 0.8259 - val_loss: 0.5254 - val_cosine_similarity: 0.8183 - val_top_k_categorical_accuracy: 0.7594\n",
      "Epoch 51/200\n",
      "688/688 [==============================] - 37s 53ms/step - loss: 0.3511 - cosine_similarity: 0.8688 - top_k_categorical_accuracy: 0.8250 - val_loss: 0.5834 - val_cosine_similarity: 0.7990 - val_top_k_categorical_accuracy: 0.7374\n",
      "Epoch 52/200\n",
      "688/688 [==============================] - 37s 54ms/step - loss: 0.3461 - cosine_similarity: 0.8708 - top_k_categorical_accuracy: 0.8266 - val_loss: 0.5419 - val_cosine_similarity: 0.8097 - val_top_k_categorical_accuracy: 0.7434\n",
      "Epoch 53/200\n",
      "688/688 [==============================] - 37s 53ms/step - loss: 0.3470 - cosine_similarity: 0.8706 - top_k_categorical_accuracy: 0.8283 - val_loss: 0.5172 - val_cosine_similarity: 0.8172 - val_top_k_categorical_accuracy: 0.7561\n",
      "Epoch 54/200\n",
      "688/688 [==============================] - 37s 54ms/step - loss: 0.3471 - cosine_similarity: 0.8714 - top_k_categorical_accuracy: 0.8274 - val_loss: 0.5390 - val_cosine_similarity: 0.8096 - val_top_k_categorical_accuracy: 0.7487\n",
      "Epoch 55/200\n",
      "688/688 [==============================] - 37s 53ms/step - loss: 0.3397 - cosine_similarity: 0.8739 - top_k_categorical_accuracy: 0.8329 - val_loss: 0.4907 - val_cosine_similarity: 0.8263 - val_top_k_categorical_accuracy: 0.7678\n",
      "Epoch 56/200\n",
      "688/688 [==============================] - 37s 53ms/step - loss: 0.3413 - cosine_similarity: 0.8731 - top_k_categorical_accuracy: 0.8308 - val_loss: 0.5261 - val_cosine_similarity: 0.8161 - val_top_k_categorical_accuracy: 0.7536\n",
      "Epoch 57/200\n",
      "688/688 [==============================] - 37s 53ms/step - loss: 0.3383 - cosine_similarity: 0.8740 - top_k_categorical_accuracy: 0.8316 - val_loss: 0.5380 - val_cosine_similarity: 0.8128 - val_top_k_categorical_accuracy: 0.7485\n",
      "Epoch 58/200\n",
      "688/688 [==============================] - 37s 53ms/step - loss: 0.3384 - cosine_similarity: 0.8742 - top_k_categorical_accuracy: 0.8318 - val_loss: 0.5634 - val_cosine_similarity: 0.8045 - val_top_k_categorical_accuracy: 0.7398\n",
      "Epoch 59/200\n",
      "688/688 [==============================] - 36s 53ms/step - loss: 0.3357 - cosine_similarity: 0.8751 - top_k_categorical_accuracy: 0.8334 - val_loss: 0.5288 - val_cosine_similarity: 0.8134 - val_top_k_categorical_accuracy: 0.7473\n",
      "Epoch 60/200\n",
      "688/688 [==============================] - 37s 53ms/step - loss: 0.3368 - cosine_similarity: 0.8757 - top_k_categorical_accuracy: 0.8359 - val_loss: 0.5436 - val_cosine_similarity: 0.8102 - val_top_k_categorical_accuracy: 0.7422\n",
      "Epoch 61/200\n",
      "688/688 [==============================] - 37s 53ms/step - loss: 0.3321 - cosine_similarity: 0.8771 - top_k_categorical_accuracy: 0.8361 - val_loss: 0.5284 - val_cosine_similarity: 0.8177 - val_top_k_categorical_accuracy: 0.7566\n",
      "Epoch 62/200\n",
      "688/688 [==============================] - 37s 53ms/step - loss: 0.3333 - cosine_similarity: 0.8764 - top_k_categorical_accuracy: 0.8368 - val_loss: 0.5598 - val_cosine_similarity: 0.7992 - val_top_k_categorical_accuracy: 0.7320\n",
      "Epoch 63/200\n",
      "688/688 [==============================] - 37s 53ms/step - loss: 0.3287 - cosine_similarity: 0.8782 - top_k_categorical_accuracy: 0.8381 - val_loss: 0.5575 - val_cosine_similarity: 0.8059 - val_top_k_categorical_accuracy: 0.7403\n",
      "Epoch 64/200\n",
      "688/688 [==============================] - 37s 53ms/step - loss: 0.3297 - cosine_similarity: 0.8775 - top_k_categorical_accuracy: 0.8369 - val_loss: 0.5445 - val_cosine_similarity: 0.8087 - val_top_k_categorical_accuracy: 0.7436\n",
      "Epoch 65/200\n",
      "688/688 [==============================] - 37s 53ms/step - loss: 0.3270 - cosine_similarity: 0.8785 - top_k_categorical_accuracy: 0.8392 - val_loss: 0.5579 - val_cosine_similarity: 0.8044 - val_top_k_categorical_accuracy: 0.7386\n",
      "Epoch 66/200\n",
      "688/688 [==============================] - 37s 53ms/step - loss: 0.3239 - cosine_similarity: 0.8795 - top_k_categorical_accuracy: 0.8398 - val_loss: 0.5625 - val_cosine_similarity: 0.8034 - val_top_k_categorical_accuracy: 0.7336\n",
      "Epoch 67/200\n",
      "688/688 [==============================] - 37s 53ms/step - loss: 0.3233 - cosine_similarity: 0.8803 - top_k_categorical_accuracy: 0.8425 - val_loss: 0.4986 - val_cosine_similarity: 0.8319 - val_top_k_categorical_accuracy: 0.7749\n",
      "Epoch 68/200\n",
      "688/688 [==============================] - 37s 53ms/step - loss: 0.3232 - cosine_similarity: 0.8805 - top_k_categorical_accuracy: 0.8417 - val_loss: 0.5513 - val_cosine_similarity: 0.8132 - val_top_k_categorical_accuracy: 0.7564\n",
      "Epoch 69/200\n",
      "688/688 [==============================] - 37s 53ms/step - loss: 0.3260 - cosine_similarity: 0.8790 - top_k_categorical_accuracy: 0.8384 - val_loss: 0.5485 - val_cosine_similarity: 0.8076 - val_top_k_categorical_accuracy: 0.7425\n",
      "Epoch 70/200\n",
      "688/688 [==============================] - 37s 53ms/step - loss: 0.3203 - cosine_similarity: 0.8811 - top_k_categorical_accuracy: 0.8419 - val_loss: 0.5731 - val_cosine_similarity: 0.8053 - val_top_k_categorical_accuracy: 0.7475\n",
      "Epoch 71/200\n",
      "688/688 [==============================] - 37s 54ms/step - loss: 0.3211 - cosine_similarity: 0.8812 - top_k_categorical_accuracy: 0.8435 - val_loss: 0.5225 - val_cosine_similarity: 0.8187 - val_top_k_categorical_accuracy: 0.7565\n",
      "Epoch 72/200\n",
      "688/688 [==============================] - 37s 53ms/step - loss: 0.3155 - cosine_similarity: 0.8839 - top_k_categorical_accuracy: 0.8468 - val_loss: 0.5433 - val_cosine_similarity: 0.8146 - val_top_k_categorical_accuracy: 0.7526\n",
      "Epoch 73/200\n",
      "688/688 [==============================] - 37s 53ms/step - loss: 0.3169 - cosine_similarity: 0.8833 - top_k_categorical_accuracy: 0.8465 - val_loss: 0.5238 - val_cosine_similarity: 0.8202 - val_top_k_categorical_accuracy: 0.7600\n",
      "Epoch 74/200\n",
      "688/688 [==============================] - 37s 53ms/step - loss: 0.3185 - cosine_similarity: 0.8826 - top_k_categorical_accuracy: 0.8448 - val_loss: 0.5429 - val_cosine_similarity: 0.8112 - val_top_k_categorical_accuracy: 0.7478\n",
      "Epoch 75/200\n",
      "688/688 [==============================] - 37s 53ms/step - loss: 0.3116 - cosine_similarity: 0.8847 - top_k_categorical_accuracy: 0.8474 - val_loss: 0.5073 - val_cosine_similarity: 0.8282 - val_top_k_categorical_accuracy: 0.7722\n",
      "Epoch 76/200\n",
      "688/688 [==============================] - 37s 53ms/step - loss: 0.3154 - cosine_similarity: 0.8833 - top_k_categorical_accuracy: 0.8452 - val_loss: 0.5304 - val_cosine_similarity: 0.8150 - val_top_k_categorical_accuracy: 0.7513\n",
      "Epoch 77/200\n",
      "688/688 [==============================] - 37s 53ms/step - loss: 0.3129 - cosine_similarity: 0.8846 - top_k_categorical_accuracy: 0.8488 - val_loss: 0.5124 - val_cosine_similarity: 0.8284 - val_top_k_categorical_accuracy: 0.7727\n",
      "Epoch 78/200\n",
      "688/688 [==============================] - 37s 53ms/step - loss: 0.3100 - cosine_similarity: 0.8856 - top_k_categorical_accuracy: 0.8485 - val_loss: 0.5073 - val_cosine_similarity: 0.8295 - val_top_k_categorical_accuracy: 0.7701\n",
      "Epoch 79/200\n",
      "688/688 [==============================] - 37s 53ms/step - loss: 0.3119 - cosine_similarity: 0.8858 - top_k_categorical_accuracy: 0.8495 - val_loss: 0.5053 - val_cosine_similarity: 0.8345 - val_top_k_categorical_accuracy: 0.7824\n",
      "Epoch 80/200\n",
      "688/688 [==============================] - 37s 53ms/step - loss: 0.3098 - cosine_similarity: 0.8859 - top_k_categorical_accuracy: 0.8488 - val_loss: 0.5407 - val_cosine_similarity: 0.8135 - val_top_k_categorical_accuracy: 0.7478\n",
      "Epoch 81/200\n",
      "688/688 [==============================] - 37s 53ms/step - loss: 0.3101 - cosine_similarity: 0.8858 - top_k_categorical_accuracy: 0.8501 - val_loss: 0.5171 - val_cosine_similarity: 0.8242 - val_top_k_categorical_accuracy: 0.7664\n",
      "Epoch 82/200\n",
      "688/688 [==============================] - 37s 53ms/step - loss: 0.3057 - cosine_similarity: 0.8872 - top_k_categorical_accuracy: 0.8512 - val_loss: 0.5254 - val_cosine_similarity: 0.8243 - val_top_k_categorical_accuracy: 0.7644\n",
      "Epoch 83/200\n",
      "688/688 [==============================] - 37s 53ms/step - loss: 0.3061 - cosine_similarity: 0.8872 - top_k_categorical_accuracy: 0.8517 - val_loss: 0.5163 - val_cosine_similarity: 0.8226 - val_top_k_categorical_accuracy: 0.7635\n",
      "Epoch 84/200\n",
      "688/688 [==============================] - 37s 53ms/step - loss: 0.3052 - cosine_similarity: 0.8875 - top_k_categorical_accuracy: 0.8514 - val_loss: 0.5228 - val_cosine_similarity: 0.8256 - val_top_k_categorical_accuracy: 0.7684\n",
      "Epoch 85/200\n",
      "688/688 [==============================] - 37s 53ms/step - loss: 0.3012 - cosine_similarity: 0.8891 - top_k_categorical_accuracy: 0.8540 - val_loss: 0.5331 - val_cosine_similarity: 0.8257 - val_top_k_categorical_accuracy: 0.7699\n"
     ]
    }
   ],
   "source": [
    "history = model.fit(\n",
    "    x=train_data,\n",
    "    epochs=EPOCHS,\n",
    "    callbacks=[\n",
    "        tensorboard_callback,\n",
    "        earlystopping_callback\n",
    "    ],\n",
    "    validation_data=valid_data\n",
    ")"
   ]
  },
  {
   "cell_type": "markdown",
   "id": "177de451-f03a-495d-a09d-755626fce563",
   "metadata": {},
   "source": [
    "## Evaluate the model"
   ]
  },
  {
   "cell_type": "code",
   "execution_count": 25,
   "id": "9d0f540d-a99b-405b-8d05-f138f55a95e5",
   "metadata": {},
   "outputs": [
    {
     "name": "stdout",
     "output_type": "stream",
     "text": [
      "86/86 [==============================] - 1s 12ms/step - loss: 0.5130 - cosine_similarity: 0.8248 - top_k_categorical_accuracy: 0.7729\n"
     ]
    }
   ],
   "source": [
    "result = model.evaluate(\n",
    "    x=test_data,\n",
    "    return_dict=True\n",
    ")"
   ]
  },
  {
   "cell_type": "code",
   "execution_count": 26,
   "id": "296385b0-a5b1-43eb-9aa8-59c7e15a036b",
   "metadata": {},
   "outputs": [
    {
     "name": "stdout",
     "output_type": "stream",
     "text": [
      "loss                 0.5130\n",
      "cosine_similarity    0.8248\n",
      "top_k_categorical_accuracy 0.7729\n"
     ]
    }
   ],
   "source": [
    "for name, val in result.items():\n",
    "    print(\"{:20s} {:.4f}\".format(name, val))"
   ]
  },
  {
   "cell_type": "markdown",
   "id": "570cabab-3653-4151-a2a7-051680c25de8",
   "metadata": {},
   "source": [
    "## Save the model"
   ]
  },
  {
   "cell_type": "code",
   "execution_count": 27,
   "id": "416ba8a8-9e6d-4d5e-9685-e211f2f759f4",
   "metadata": {},
   "outputs": [
    {
     "name": "stdout",
     "output_type": "stream",
     "text": [
      "INFO:tensorflow:Assets written to: ./data/models/cnn_4_20210914-200148/assets\n"
     ]
    }
   ],
   "source": [
    "model.save(SAVE_LOC)"
   ]
  },
  {
   "cell_type": "code",
   "execution_count": null,
   "id": "82f86cd8-cb7a-4913-8b67-e398bcdf2e3a",
   "metadata": {},
   "outputs": [],
   "source": []
  }
 ],
 "metadata": {
  "kernelspec": {
   "display_name": "Python [conda env:st3107-tfgpu] *",
   "language": "python",
   "name": "conda-env-st3107-tfgpu-py"
  },
  "language_info": {
   "codemirror_mode": {
    "name": "ipython",
    "version": 3
   },
   "file_extension": ".py",
   "mimetype": "text/x-python",
   "name": "python",
   "nbconvert_exporter": "python",
   "pygments_lexer": "ipython3",
   "version": "3.9.6"
  }
 },
 "nbformat": 4,
 "nbformat_minor": 5
}
