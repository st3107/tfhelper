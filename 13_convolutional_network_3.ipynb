{
 "cells": [
  {
   "cell_type": "markdown",
   "id": "f3d9670e-2a2c-4bf1-a315-9796c6789dc9",
   "metadata": {},
   "source": [
    "# Convolutional network + fully connected layers\n",
    "\n",
    "How about adding another CNN layer? No, it overfits the data."
   ]
  },
  {
   "cell_type": "markdown",
   "id": "804cd7c3-db80-4fa9-9d89-4f801ad7d1ed",
   "metadata": {},
   "source": [
    "## Import necessary modules"
   ]
  },
  {
   "cell_type": "code",
   "execution_count": 1,
   "id": "cd85d865-3548-45b8-bf17-c6cdb4234763",
   "metadata": {},
   "outputs": [],
   "source": [
    "# python built-in libraries\n",
    "import datetime"
   ]
  },
  {
   "cell_type": "code",
   "execution_count": 2,
   "id": "56327e98-27db-4fcf-aa87-dde8512b87a2",
   "metadata": {},
   "outputs": [],
   "source": [
    "# choose the tensorflow log level\n",
    "import os\n",
    "os.environ['TF_CPP_MIN_LOG_LEVEL'] = '3'  # or any {'0', '1', '2'}"
   ]
  },
  {
   "cell_type": "code",
   "execution_count": 3,
   "id": "f930e0a7-cbc7-4f7e-8fe6-d50a90e4dcd1",
   "metadata": {},
   "outputs": [],
   "source": [
    "# import tensorflow\n",
    "import tensorflow as tf\n",
    "from tensorflow import keras\n",
    "from tensorflow.keras import layers"
   ]
  },
  {
   "cell_type": "code",
   "execution_count": 4,
   "id": "f020f42a-6eed-4f9c-8e76-26f15f8fff51",
   "metadata": {},
   "outputs": [],
   "source": [
    "# ohter packages\n",
    "import numpy as np\n",
    "\n",
    "import tfhelper.core as tfhelper"
   ]
  },
  {
   "cell_type": "markdown",
   "id": "e3bc5985-ee2c-44f0-9f07-68c483675b77",
   "metadata": {},
   "source": [
    "## Global Variables"
   ]
  },
  {
   "cell_type": "code",
   "execution_count": 5,
   "id": "82f389f0-549e-4dba-94ae-b963afe7b5fe",
   "metadata": {},
   "outputs": [],
   "source": [
    "# sampling\n",
    "FEATURES_FILE = \"./data/tensors/features.npy\"  # path to the file of the feature tensor\n",
    "LABELS_FILE = \"./data/tensors/labels.npy\"  # path to the file of the feature tensor\n",
    "FRACTIONS = (0.8, 0.1, 0.1)  # train, validation, test\n",
    "BATCH_SIZE = 128  # size of the batch\n",
    "BUFFER_SIZE = BATCH_SIZE * 2  # size of the shuffle buffer\n",
    "# training\n",
    "LEARNING_RATE = 0.001  # starting learning rate\n",
    "BETA1 = 0.9  # decay 1\n",
    "BETA2 = 0.999  # decay 2\n",
    "EPOCHS = 100  # number of epochs\n",
    "# saving\n",
    "TIME_STAMP = datetime.datetime.now().strftime(\"%Y%m%d-%H%M%S\")  # time stamp\n",
    "SAVE_LOC = \"./data/models/cnn_2_{}\".format(TIME_STAMP)  # path to the folder to save the model\n",
    "LOG_LOC = \"./data/logs/fit/cnn_2_{}\".format(TIME_STAMP)  # path to the log, if you change this, you also need to change it in the run_tensorboard"
   ]
  },
  {
   "cell_type": "markdown",
   "id": "6e2daffc-3f88-42de-be0e-f614c6e017ba",
   "metadata": {
    "tags": []
   },
   "source": [
    "## Obtain data\n",
    "\n",
    "The data is a 209 data point PDF. The label is a one-hot 2 dim vector. `10` means major phase >= threshold, `01` means major phase <= threshold."
   ]
  },
  {
   "cell_type": "code",
   "execution_count": 6,
   "id": "3d9be3eb-7058-4857-8eea-1cbee6674efa",
   "metadata": {},
   "outputs": [],
   "source": [
    "def load_data():\n",
    "    # load\n",
    "    features, labels = np.load(FEATURES_FILE), np.load(LABELS_FILE)\n",
    "    # shuffle\n",
    "    n = features.shape[0]\n",
    "    shuffled_idx = np.random.permutation(n)\n",
    "    features, labels = features[shuffled_idx], labels[shuffled_idx]\n",
    "    # split\n",
    "    f0, f1, f2 = FRACTIONS\n",
    "    i, j, k = round(f0 * n), round((f0 + f1) * n), round((f0 + f1 + f2) * n)\n",
    "    train_data = tf.data.Dataset.from_tensor_slices((features[:i], labels[:i])).shuffle(BUFFER_SIZE).batch(BATCH_SIZE)\n",
    "    valid_data = tf.data.Dataset.from_tensor_slices((features[i:j], labels[i:j])).batch(BATCH_SIZE)\n",
    "    test_data = tf.data.Dataset.from_tensor_slices((features[j:k], labels[j:k])).batch(BATCH_SIZE)\n",
    "    return train_data, valid_data, test_data"
   ]
  },
  {
   "cell_type": "code",
   "execution_count": 7,
   "id": "76111e4f-5ed3-4318-bee1-9595f8359e5e",
   "metadata": {},
   "outputs": [],
   "source": [
    "train_data, valid_data, test_data = load_data()"
   ]
  },
  {
   "cell_type": "markdown",
   "id": "66341557-8f2e-4edf-876e-015398a118ee",
   "metadata": {},
   "source": [
    "## Create the model\n",
    "\n",
    "We use the logistric regression. It is a single layer with a softmax function."
   ]
  },
  {
   "cell_type": "code",
   "execution_count": 8,
   "id": "2c9ea8fd-4674-47b1-b871-eec08a87b2c4",
   "metadata": {},
   "outputs": [],
   "source": [
    "def create_model():\n",
    "    model = keras.Sequential()\n",
    "    model.add(keras.Input(shape=(209,)))\n",
    "    model.add(keras.layers.Reshape((209, 1)))\n",
    "    model.add(keras.layers.Conv1D(32, 3, strides=1, activation='relu', padding=\"same\"))\n",
    "    model.add(keras.layers.Conv1D(32, 3, strides=1, activation='relu', padding=\"same\"))\n",
    "    model.add(keras.layers.BatchNormalization())\n",
    "    model.add(keras.layers.MaxPooling1D(2))\n",
    "    model.add(keras.layers.Conv1D(64, 3, strides=1, activation='relu', padding=\"same\"))\n",
    "    model.add(keras.layers.Conv1D(64, 3, strides=1, activation='relu', padding=\"same\"))\n",
    "    model.add(keras.layers.BatchNormalization())\n",
    "    model.add(keras.layers.MaxPooling1D(2))\n",
    "    model.add(keras.layers.Conv1D(128, 3, strides=1, activation='relu', padding=\"same\"))\n",
    "    model.add(keras.layers.Conv1D(128, 3, strides=1, activation='relu', padding=\"same\"))\n",
    "    model.add(keras.layers.BatchNormalization())\n",
    "    model.add(keras.layers.MaxPooling1D(2))\n",
    "    model.add(keras.layers.Dropout(0.3))\n",
    "    model.add(keras.layers.Flatten())\n",
    "    model.add(keras.layers.Dense(512, activation='relu'))\n",
    "    model.add(keras.layers.Dense(128, activation='relu'))\n",
    "    model.add(keras.layers.Dense(32, activation='relu'))\n",
    "    model.add(keras.layers.Dense(2, activation='softmax'))\n",
    "    return model"
   ]
  },
  {
   "cell_type": "code",
   "execution_count": 9,
   "id": "505c4f8e-4b54-4343-877f-8bd6485d7cf3",
   "metadata": {},
   "outputs": [],
   "source": [
    "model = create_model()"
   ]
  },
  {
   "cell_type": "code",
   "execution_count": 10,
   "id": "3ab9ec7a-e391-4912-b9df-659f295ca313",
   "metadata": {},
   "outputs": [
    {
     "name": "stdout",
     "output_type": "stream",
     "text": [
      "Model: \"sequential\"\n",
      "_________________________________________________________________\n",
      "Layer (type)                 Output Shape              Param #   \n",
      "=================================================================\n",
      "reshape (Reshape)            (None, 209, 1)            0         \n",
      "_________________________________________________________________\n",
      "conv1d (Conv1D)              (None, 209, 32)           128       \n",
      "_________________________________________________________________\n",
      "conv1d_1 (Conv1D)            (None, 209, 32)           3104      \n",
      "_________________________________________________________________\n",
      "batch_normalization (BatchNo (None, 209, 32)           128       \n",
      "_________________________________________________________________\n",
      "max_pooling1d (MaxPooling1D) (None, 104, 32)           0         \n",
      "_________________________________________________________________\n",
      "conv1d_2 (Conv1D)            (None, 104, 64)           6208      \n",
      "_________________________________________________________________\n",
      "conv1d_3 (Conv1D)            (None, 104, 64)           12352     \n",
      "_________________________________________________________________\n",
      "batch_normalization_1 (Batch (None, 104, 64)           256       \n",
      "_________________________________________________________________\n",
      "max_pooling1d_1 (MaxPooling1 (None, 52, 64)            0         \n",
      "_________________________________________________________________\n",
      "conv1d_4 (Conv1D)            (None, 52, 128)           24704     \n",
      "_________________________________________________________________\n",
      "conv1d_5 (Conv1D)            (None, 52, 128)           49280     \n",
      "_________________________________________________________________\n",
      "batch_normalization_2 (Batch (None, 52, 128)           512       \n",
      "_________________________________________________________________\n",
      "max_pooling1d_2 (MaxPooling1 (None, 26, 128)           0         \n",
      "_________________________________________________________________\n",
      "dropout (Dropout)            (None, 26, 128)           0         \n",
      "_________________________________________________________________\n",
      "flatten (Flatten)            (None, 3328)              0         \n",
      "_________________________________________________________________\n",
      "dense (Dense)                (None, 512)               1704448   \n",
      "_________________________________________________________________\n",
      "dense_1 (Dense)              (None, 128)               65664     \n",
      "_________________________________________________________________\n",
      "dense_2 (Dense)              (None, 32)                4128      \n",
      "_________________________________________________________________\n",
      "dense_3 (Dense)              (None, 2)                 66        \n",
      "=================================================================\n",
      "Total params: 1,870,978\n",
      "Trainable params: 1,870,530\n",
      "Non-trainable params: 448\n",
      "_________________________________________________________________\n"
     ]
    }
   ],
   "source": [
    "model.summary()"
   ]
  },
  {
   "cell_type": "markdown",
   "id": "668bbf47-4604-4388-bda2-f7d384b332ae",
   "metadata": {},
   "source": [
    "## Choose optimization method"
   ]
  },
  {
   "cell_type": "code",
   "execution_count": 11,
   "id": "541c52ba-2aa5-48d4-b40c-75d0948b3b2e",
   "metadata": {},
   "outputs": [],
   "source": [
    "model.compile(\n",
    "    # Optimizer\n",
    "    optimizer=keras.optimizers.Adam(LEARNING_RATE, BETA1, BETA2),\n",
    "    # Loss function to minimize\n",
    "    loss=keras.losses.CategoricalCrossentropy(),\n",
    "    # List of metrics to monitor\n",
    "    metrics=[\n",
    "        keras.metrics.CosineSimilarity()\n",
    "    ],\n",
    ")"
   ]
  },
  {
   "cell_type": "markdown",
   "id": "786d396f-3334-433d-99d9-d6026ab524d8",
   "metadata": {
    "tags": []
   },
   "source": [
    "## Train the model"
   ]
  },
  {
   "cell_type": "code",
   "execution_count": 12,
   "id": "a2ac30aa-afc3-42c7-9f7c-0f057f1496d5",
   "metadata": {},
   "outputs": [],
   "source": [
    "# tensor board\n",
    "tensorboard_callback = keras.callbacks.TensorBoard(\n",
    "    log_dir=LOG_LOC, \n",
    "    histogram_freq=1\n",
    ")"
   ]
  },
  {
   "cell_type": "code",
   "execution_count": 13,
   "id": "9de9aa59-d48e-476c-8a18-f83a07ea1015",
   "metadata": {},
   "outputs": [],
   "source": [
    "# early stopping to avoid over fitting\n",
    "earlystopping_callback = keras.callbacks.EarlyStopping(\n",
    "    monitor='val_loss',\n",
    "    patience=30, \n",
    "    restore_best_weights=True\n",
    ")"
   ]
  },
  {
   "cell_type": "code",
   "execution_count": 14,
   "id": "7ecfa6ce-8dd6-4ca9-aab9-d5008b5120b0",
   "metadata": {},
   "outputs": [
    {
     "name": "stdout",
     "output_type": "stream",
     "text": [
      "Epoch 1/100\n",
      "688/688 [==============================] - 41s 33ms/step - loss: 0.6758 - cosine_similarity: 0.7331 - val_loss: 0.6199 - val_cosine_similarity: 0.7539\n",
      "Epoch 2/100\n",
      "688/688 [==============================] - 15s 22ms/step - loss: 0.6203 - cosine_similarity: 0.7535 - val_loss: 0.6106 - val_cosine_similarity: 0.7586\n",
      "Epoch 3/100\n",
      "688/688 [==============================] - 15s 21ms/step - loss: 0.5967 - cosine_similarity: 0.7654 - val_loss: 0.6027 - val_cosine_similarity: 0.7684\n",
      "Epoch 4/100\n",
      "688/688 [==============================] - 15s 22ms/step - loss: 0.5616 - cosine_similarity: 0.7820 - val_loss: 0.6040 - val_cosine_similarity: 0.7748\n",
      "Epoch 5/100\n",
      "688/688 [==============================] - 15s 22ms/step - loss: 0.5185 - cosine_similarity: 0.8019 - val_loss: 0.6534 - val_cosine_similarity: 0.7728\n",
      "Epoch 6/100\n",
      "688/688 [==============================] - 15s 21ms/step - loss: 0.4720 - cosine_similarity: 0.8225 - val_loss: 0.5339 - val_cosine_similarity: 0.8076\n",
      "Epoch 7/100\n",
      "688/688 [==============================] - 15s 21ms/step - loss: 0.4334 - cosine_similarity: 0.8386 - val_loss: 0.4513 - val_cosine_similarity: 0.8366\n",
      "Epoch 8/100\n",
      "688/688 [==============================] - 15s 21ms/step - loss: 0.3916 - cosine_similarity: 0.8559 - val_loss: 0.4207 - val_cosine_similarity: 0.8497\n",
      "Epoch 9/100\n",
      "688/688 [==============================] - 15s 22ms/step - loss: 0.3646 - cosine_similarity: 0.8664 - val_loss: 0.7833 - val_cosine_similarity: 0.7841\n",
      "Epoch 10/100\n",
      "688/688 [==============================] - 15s 21ms/step - loss: 0.3380 - cosine_similarity: 0.8764 - val_loss: 0.7530 - val_cosine_similarity: 0.7933\n",
      "Epoch 11/100\n",
      "688/688 [==============================] - 15s 21ms/step - loss: 0.3181 - cosine_similarity: 0.8845 - val_loss: 0.6891 - val_cosine_similarity: 0.7957\n",
      "Epoch 12/100\n",
      "688/688 [==============================] - 15s 21ms/step - loss: 0.2977 - cosine_similarity: 0.8922 - val_loss: 0.5069 - val_cosine_similarity: 0.8348\n",
      "Epoch 13/100\n",
      "688/688 [==============================] - 15s 21ms/step - loss: 0.2848 - cosine_similarity: 0.8972 - val_loss: 0.8882 - val_cosine_similarity: 0.7958\n",
      "Epoch 14/100\n",
      "688/688 [==============================] - 15s 22ms/step - loss: 0.2743 - cosine_similarity: 0.9014 - val_loss: 0.4966 - val_cosine_similarity: 0.8419\n",
      "Epoch 15/100\n",
      "688/688 [==============================] - 15s 21ms/step - loss: 0.2651 - cosine_similarity: 0.9049 - val_loss: 0.3995 - val_cosine_similarity: 0.8675\n",
      "Epoch 16/100\n",
      "688/688 [==============================] - 15s 22ms/step - loss: 0.2481 - cosine_similarity: 0.9111 - val_loss: 0.6599 - val_cosine_similarity: 0.8133\n",
      "Epoch 17/100\n",
      "688/688 [==============================] - 15s 21ms/step - loss: 0.2462 - cosine_similarity: 0.9119 - val_loss: 0.9247 - val_cosine_similarity: 0.7987\n",
      "Epoch 18/100\n",
      "688/688 [==============================] - 15s 21ms/step - loss: 0.2379 - cosine_similarity: 0.9151 - val_loss: 0.5912 - val_cosine_similarity: 0.8284\n",
      "Epoch 19/100\n",
      "688/688 [==============================] - 15s 21ms/step - loss: 0.2262 - cosine_similarity: 0.9196 - val_loss: 0.7693 - val_cosine_similarity: 0.8046\n",
      "Epoch 20/100\n",
      "688/688 [==============================] - 15s 22ms/step - loss: 0.2211 - cosine_similarity: 0.9215 - val_loss: 0.4219 - val_cosine_similarity: 0.8693\n",
      "Epoch 21/100\n",
      "688/688 [==============================] - 15s 22ms/step - loss: 0.2208 - cosine_similarity: 0.9212 - val_loss: 0.5507 - val_cosine_similarity: 0.8379\n",
      "Epoch 22/100\n",
      "688/688 [==============================] - 15s 22ms/step - loss: 0.2136 - cosine_similarity: 0.9244 - val_loss: 0.3943 - val_cosine_similarity: 0.8741\n",
      "Epoch 23/100\n",
      "688/688 [==============================] - 15s 22ms/step - loss: 0.2054 - cosine_similarity: 0.9272 - val_loss: 0.4040 - val_cosine_similarity: 0.8806\n",
      "Epoch 24/100\n",
      "688/688 [==============================] - 15s 22ms/step - loss: 0.2016 - cosine_similarity: 0.9284 - val_loss: 0.3878 - val_cosine_similarity: 0.8838\n",
      "Epoch 25/100\n",
      "688/688 [==============================] - 15s 21ms/step - loss: 0.2010 - cosine_similarity: 0.9284 - val_loss: 1.2179 - val_cosine_similarity: 0.7936\n",
      "Epoch 26/100\n",
      "688/688 [==============================] - 15s 21ms/step - loss: 0.1896 - cosine_similarity: 0.9334 - val_loss: 1.2465 - val_cosine_similarity: 0.7816\n",
      "Epoch 27/100\n",
      "688/688 [==============================] - 15s 21ms/step - loss: 0.1896 - cosine_similarity: 0.9331 - val_loss: 0.7195 - val_cosine_similarity: 0.8284\n",
      "Epoch 28/100\n",
      "688/688 [==============================] - 15s 21ms/step - loss: 0.1852 - cosine_similarity: 0.9345 - val_loss: 0.9006 - val_cosine_similarity: 0.8148\n",
      "Epoch 29/100\n",
      "688/688 [==============================] - 15s 21ms/step - loss: 0.1778 - cosine_similarity: 0.9373 - val_loss: 0.8245 - val_cosine_similarity: 0.8181\n",
      "Epoch 30/100\n",
      "688/688 [==============================] - 15s 21ms/step - loss: 0.1785 - cosine_similarity: 0.9371 - val_loss: 0.7486 - val_cosine_similarity: 0.8201\n",
      "Epoch 31/100\n",
      "688/688 [==============================] - 15s 21ms/step - loss: 0.1731 - cosine_similarity: 0.9396 - val_loss: 0.9292 - val_cosine_similarity: 0.7940\n",
      "Epoch 32/100\n",
      "688/688 [==============================] - 15s 21ms/step - loss: 0.1682 - cosine_similarity: 0.9409 - val_loss: 0.6814 - val_cosine_similarity: 0.8381\n",
      "Epoch 33/100\n",
      "688/688 [==============================] - 15s 22ms/step - loss: 0.1704 - cosine_similarity: 0.9401 - val_loss: 0.6045 - val_cosine_similarity: 0.8450\n",
      "Epoch 34/100\n",
      "688/688 [==============================] - 15s 22ms/step - loss: 0.1623 - cosine_similarity: 0.9434 - val_loss: 0.5366 - val_cosine_similarity: 0.8519\n",
      "Epoch 35/100\n",
      "688/688 [==============================] - 15s 21ms/step - loss: 0.1598 - cosine_similarity: 0.9444 - val_loss: 0.9304 - val_cosine_similarity: 0.8147\n",
      "Epoch 36/100\n",
      "688/688 [==============================] - 15s 21ms/step - loss: 0.1582 - cosine_similarity: 0.9447 - val_loss: 0.4835 - val_cosine_similarity: 0.8612\n",
      "Epoch 37/100\n",
      "688/688 [==============================] - 15s 22ms/step - loss: 0.1588 - cosine_similarity: 0.9451 - val_loss: 0.4320 - val_cosine_similarity: 0.8842\n",
      "Epoch 38/100\n",
      "688/688 [==============================] - 15s 22ms/step - loss: 0.1527 - cosine_similarity: 0.9471 - val_loss: 0.8697 - val_cosine_similarity: 0.8222\n",
      "Epoch 39/100\n",
      "688/688 [==============================] - 15s 22ms/step - loss: 0.1530 - cosine_similarity: 0.9470 - val_loss: 0.6477 - val_cosine_similarity: 0.8427\n",
      "Epoch 40/100\n",
      "688/688 [==============================] - 15s 22ms/step - loss: 0.1495 - cosine_similarity: 0.9482 - val_loss: 0.5380 - val_cosine_similarity: 0.8584\n",
      "Epoch 41/100\n",
      "688/688 [==============================] - 15s 21ms/step - loss: 0.1487 - cosine_similarity: 0.9486 - val_loss: 0.8997 - val_cosine_similarity: 0.8031\n",
      "Epoch 42/100\n",
      "688/688 [==============================] - 15s 21ms/step - loss: 0.1460 - cosine_similarity: 0.9492 - val_loss: 0.3949 - val_cosine_similarity: 0.8948\n",
      "Epoch 43/100\n",
      "688/688 [==============================] - 15s 21ms/step - loss: 0.1457 - cosine_similarity: 0.9495 - val_loss: 0.4624 - val_cosine_similarity: 0.8832\n",
      "Epoch 44/100\n",
      "688/688 [==============================] - 15s 21ms/step - loss: 0.1402 - cosine_similarity: 0.9517 - val_loss: 0.4030 - val_cosine_similarity: 0.8938\n",
      "Epoch 45/100\n",
      "688/688 [==============================] - 15s 22ms/step - loss: 0.1434 - cosine_similarity: 0.9507 - val_loss: 0.6320 - val_cosine_similarity: 0.8485\n",
      "Epoch 46/100\n",
      "688/688 [==============================] - 15s 21ms/step - loss: 0.1418 - cosine_similarity: 0.9512 - val_loss: 0.7128 - val_cosine_similarity: 0.8245\n",
      "Epoch 47/100\n",
      "688/688 [==============================] - 15s 22ms/step - loss: 0.1371 - cosine_similarity: 0.9528 - val_loss: 0.4058 - val_cosine_similarity: 0.9026\n",
      "Epoch 48/100\n",
      "688/688 [==============================] - 15s 21ms/step - loss: 0.1358 - cosine_similarity: 0.9529 - val_loss: 0.7837 - val_cosine_similarity: 0.8316\n",
      "Epoch 49/100\n",
      "688/688 [==============================] - 15s 21ms/step - loss: 0.1327 - cosine_similarity: 0.9544 - val_loss: 0.4467 - val_cosine_similarity: 0.8864\n",
      "Epoch 50/100\n",
      "688/688 [==============================] - 15s 22ms/step - loss: 0.1318 - cosine_similarity: 0.9543 - val_loss: 0.6572 - val_cosine_similarity: 0.8474\n",
      "Epoch 51/100\n",
      "688/688 [==============================] - 15s 22ms/step - loss: 0.1311 - cosine_similarity: 0.9549 - val_loss: 0.6279 - val_cosine_similarity: 0.8431\n",
      "Epoch 52/100\n",
      "688/688 [==============================] - 15s 21ms/step - loss: 0.1288 - cosine_similarity: 0.9560 - val_loss: 0.4892 - val_cosine_similarity: 0.8693\n",
      "Epoch 53/100\n",
      "688/688 [==============================] - 15s 21ms/step - loss: 0.1306 - cosine_similarity: 0.9555 - val_loss: 0.6349 - val_cosine_similarity: 0.8532\n",
      "Epoch 54/100\n",
      "688/688 [==============================] - 15s 21ms/step - loss: 0.1268 - cosine_similarity: 0.9560 - val_loss: 0.4277 - val_cosine_similarity: 0.8852\n"
     ]
    }
   ],
   "source": [
    "history = model.fit(\n",
    "    x=train_data,\n",
    "    epochs=EPOCHS,\n",
    "    callbacks=[\n",
    "        tensorboard_callback,\n",
    "        earlystopping_callback\n",
    "    ],\n",
    "    validation_data=valid_data\n",
    ")"
   ]
  },
  {
   "cell_type": "markdown",
   "id": "177de451-f03a-495d-a09d-755626fce563",
   "metadata": {},
   "source": [
    "## Evaluate the model"
   ]
  },
  {
   "cell_type": "code",
   "execution_count": 15,
   "id": "9d0f540d-a99b-405b-8d05-f138f55a95e5",
   "metadata": {},
   "outputs": [
    {
     "name": "stdout",
     "output_type": "stream",
     "text": [
      "86/86 [==============================] - 1s 9ms/step - loss: 0.4001 - cosine_similarity: 0.8795\n"
     ]
    }
   ],
   "source": [
    "result = model.evaluate(\n",
    "    x=test_data,\n",
    "    return_dict=True\n",
    ")"
   ]
  },
  {
   "cell_type": "code",
   "execution_count": 16,
   "id": "296385b0-a5b1-43eb-9aa8-59c7e15a036b",
   "metadata": {},
   "outputs": [
    {
     "name": "stdout",
     "output_type": "stream",
     "text": [
      "loss                 0.4001\n",
      "cosine_similarity    0.8795\n"
     ]
    }
   ],
   "source": [
    "for name, val in result.items():\n",
    "    print(\"{:20s} {:.4f}\".format(name, val))"
   ]
  },
  {
   "cell_type": "markdown",
   "id": "570cabab-3653-4151-a2a7-051680c25de8",
   "metadata": {},
   "source": [
    "## Save the model"
   ]
  },
  {
   "cell_type": "code",
   "execution_count": 17,
   "id": "416ba8a8-9e6d-4d5e-9685-e211f2f759f4",
   "metadata": {},
   "outputs": [
    {
     "name": "stdout",
     "output_type": "stream",
     "text": [
      "INFO:tensorflow:Assets written to: ./data/models/cnn_2_20210914-180655/assets\n"
     ]
    }
   ],
   "source": [
    "model.save(SAVE_LOC)"
   ]
  },
  {
   "cell_type": "code",
   "execution_count": null,
   "id": "82f86cd8-cb7a-4913-8b67-e398bcdf2e3a",
   "metadata": {},
   "outputs": [],
   "source": []
  }
 ],
 "metadata": {
  "kernelspec": {
   "display_name": "Python [conda env:st3107-tfgpu] *",
   "language": "python",
   "name": "conda-env-st3107-tfgpu-py"
  },
  "language_info": {
   "codemirror_mode": {
    "name": "ipython",
    "version": 3
   },
   "file_extension": ".py",
   "mimetype": "text/x-python",
   "name": "python",
   "nbconvert_exporter": "python",
   "pygments_lexer": "ipython3",
   "version": "3.9.6"
  }
 },
 "nbformat": 4,
 "nbformat_minor": 5
}
