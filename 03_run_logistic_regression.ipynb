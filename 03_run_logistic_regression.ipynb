{
 "cells": [
  {
   "cell_type": "markdown",
   "id": "f3d9670e-2a2c-4bf1-a315-9796c6789dc9",
   "metadata": {},
   "source": [
    "# Test logistic regression to identify if a PDF is the two-phase or one-phase\n",
    "\n",
    "Run the logistic regression as the first model for the project. It will be used to compare with the deep learning model."
   ]
  },
  {
   "cell_type": "markdown",
   "id": "804cd7c3-db80-4fa9-9d89-4f801ad7d1ed",
   "metadata": {},
   "source": [
    "## Import necessary modules"
   ]
  },
  {
   "cell_type": "code",
   "execution_count": 1,
   "id": "cd85d865-3548-45b8-bf17-c6cdb4234763",
   "metadata": {},
   "outputs": [],
   "source": [
    "# python built-in libraries\n",
    "import datetime"
   ]
  },
  {
   "cell_type": "code",
   "execution_count": 2,
   "id": "56327e98-27db-4fcf-aa87-dde8512b87a2",
   "metadata": {},
   "outputs": [],
   "source": [
    "# choose the tensorflow log level\n",
    "import os\n",
    "os.environ['TF_CPP_MIN_LOG_LEVEL'] = '3'  # or any {'0', '1', '2'}"
   ]
  },
  {
   "cell_type": "code",
   "execution_count": 3,
   "id": "f930e0a7-cbc7-4f7e-8fe6-d50a90e4dcd1",
   "metadata": {},
   "outputs": [],
   "source": [
    "# import tensorflow\n",
    "import tensorflow as tf\n",
    "from tensorflow import keras\n",
    "from tensorflow.keras import layers"
   ]
  },
  {
   "cell_type": "code",
   "execution_count": 4,
   "id": "f020f42a-6eed-4f9c-8e76-26f15f8fff51",
   "metadata": {},
   "outputs": [],
   "source": [
    "# ohter packages\n",
    "import numpy as np\n",
    "\n",
    "import tfhelper.core as tfhelper"
   ]
  },
  {
   "cell_type": "markdown",
   "id": "e3bc5985-ee2c-44f0-9f07-68c483675b77",
   "metadata": {},
   "source": [
    "## Global Variables"
   ]
  },
  {
   "cell_type": "code",
   "execution_count": 5,
   "id": "82f389f0-549e-4dba-94ae-b963afe7b5fe",
   "metadata": {},
   "outputs": [],
   "source": [
    "# sampling\n",
    "FEATURES_FILE = \"./data/tensors/features.npy\"  # path to the file of the feature tensor\n",
    "LABELS_FILE = \"./data/tensors/labels.npy\"  # path to the file of the feature tensor\n",
    "FRACTIONS = (0.8, 0.1, 0.1)  # train, validation, test\n",
    "BATCH_SIZE = 256  # size of the batch\n",
    "BUFFER_SIZE = BATCH_SIZE * 2  # size of the shuffle buffer\n",
    "# training\n",
    "LEARNING_RATE = 0.0001  # starting learning rate\n",
    "BETA1 = 0.9  # decay 1\n",
    "BETA2 = 0.999  # decay 2\n",
    "EPOCHS = 30  # number of epochs\n",
    "# saving\n",
    "TIME_STAMP = datetime.datetime.now().strftime(\"%Y%m%d-%H%M%S\")  # time stamp\n",
    "SAVE_LOC = \"./data/models/lr_{}\".format(TIME_STAMP)  # path to the folder to save the model\n",
    "LOG_LOC = \"./data/logs/fit/{}\".format(TIME_STAMP)  # path to the log, if you change this, you also need to change it in the run_tensorboard"
   ]
  },
  {
   "cell_type": "markdown",
   "id": "6e2daffc-3f88-42de-be0e-f614c6e017ba",
   "metadata": {
    "tags": []
   },
   "source": [
    "## Obtain data\n",
    "\n",
    "The data is a 209 data point PDF. The label is a one-hot 2 dim vector. `10` means major phase >= threshold, `01` means major phase <= threshold."
   ]
  },
  {
   "cell_type": "code",
   "execution_count": 6,
   "id": "3d9be3eb-7058-4857-8eea-1cbee6674efa",
   "metadata": {},
   "outputs": [],
   "source": [
    "def load_data():\n",
    "    # load\n",
    "    features, labels = np.load(\"./data/tensors/features.npy\"), np.load(\"./data/tensors/labels.npy\")\n",
    "    # shuffle\n",
    "    n = features.shape[0]\n",
    "    shuffled_idx = np.random.permutation(n)\n",
    "    features, labels = features[shuffled_idx], labels[shuffled_idx]\n",
    "    # split\n",
    "    f0, f1, f2 = FRACTIONS\n",
    "    i, j, k = round(f0 * n), round((f0 + f1) * n), round((f0 + f1 + f2) * n)\n",
    "    train_data = tf.data.Dataset.from_tensor_slices((features[:i], labels[:i])).shuffle(BUFFER_SIZE).batch(BATCH_SIZE)\n",
    "    valid_data = tf.data.Dataset.from_tensor_slices((features[i:j], labels[i:j])).batch(BATCH_SIZE)\n",
    "    test_data = tf.data.Dataset.from_tensor_slices((features[j:k], labels[j:k])).batch(BATCH_SIZE)\n",
    "    return train_data, valid_data, test_data"
   ]
  },
  {
   "cell_type": "code",
   "execution_count": 7,
   "id": "76111e4f-5ed3-4318-bee1-9595f8359e5e",
   "metadata": {},
   "outputs": [],
   "source": [
    "train_data, valid_data, test_data = load_data()"
   ]
  },
  {
   "cell_type": "markdown",
   "id": "66341557-8f2e-4edf-876e-015398a118ee",
   "metadata": {},
   "source": [
    "## Create the model\n",
    "\n",
    "We use the logistric regression. It is a single layer with a softmax function."
   ]
  },
  {
   "cell_type": "code",
   "execution_count": 8,
   "id": "2c9ea8fd-4674-47b1-b871-eec08a87b2c4",
   "metadata": {},
   "outputs": [],
   "source": [
    "def create_model():\n",
    "    model = keras.Sequential()\n",
    "    model.add(keras.Input(shape=(209,)))\n",
    "    model.add(layers.Dense(2, activation=\"softmax\"))\n",
    "    return model"
   ]
  },
  {
   "cell_type": "code",
   "execution_count": 9,
   "id": "505c4f8e-4b54-4343-877f-8bd6485d7cf3",
   "metadata": {},
   "outputs": [],
   "source": [
    "model = create_model()"
   ]
  },
  {
   "cell_type": "code",
   "execution_count": 10,
   "id": "33d75cc4-a197-4b09-a2f7-ef735937c775",
   "metadata": {},
   "outputs": [
    {
     "name": "stdout",
     "output_type": "stream",
     "text": [
      "Model: \"sequential\"\n",
      "_________________________________________________________________\n",
      "Layer (type)                 Output Shape              Param #   \n",
      "=================================================================\n",
      "dense (Dense)                (None, 2)                 420       \n",
      "=================================================================\n",
      "Total params: 420\n",
      "Trainable params: 420\n",
      "Non-trainable params: 0\n",
      "_________________________________________________________________\n"
     ]
    }
   ],
   "source": [
    "model.summary()"
   ]
  },
  {
   "cell_type": "markdown",
   "id": "668bbf47-4604-4388-bda2-f7d384b332ae",
   "metadata": {},
   "source": [
    "## Choose optimization method"
   ]
  },
  {
   "cell_type": "code",
   "execution_count": 11,
   "id": "541c52ba-2aa5-48d4-b40c-75d0948b3b2e",
   "metadata": {},
   "outputs": [],
   "source": [
    "model.compile(\n",
    "    # Optimizer\n",
    "    optimizer=keras.optimizers.Adam(LEARNING_RATE, BETA1, BETA2),\n",
    "    # Loss function to minimize\n",
    "    loss=keras.losses.CategoricalCrossentropy(),\n",
    "    # List of metrics to monitor\n",
    "    metrics=[\n",
    "        keras.metrics.CosineSimilarity(),\n",
    "        keras.metrics.TopKCategoricalAccuracy(k=1)\n",
    "    ],\n",
    ")"
   ]
  },
  {
   "cell_type": "markdown",
   "id": "786d396f-3334-433d-99d9-d6026ab524d8",
   "metadata": {
    "tags": []
   },
   "source": [
    "## Train the model"
   ]
  },
  {
   "cell_type": "code",
   "execution_count": 12,
   "id": "a2ac30aa-afc3-42c7-9f7c-0f057f1496d5",
   "metadata": {},
   "outputs": [],
   "source": [
    "# tensor board\n",
    "tensorboard_callback = tf.keras.callbacks.TensorBoard(log_dir=LOG_LOC, histogram_freq=1)"
   ]
  },
  {
   "cell_type": "code",
   "execution_count": 13,
   "id": "7ecfa6ce-8dd6-4ca9-aab9-d5008b5120b0",
   "metadata": {},
   "outputs": [
    {
     "name": "stdout",
     "output_type": "stream",
     "text": [
      "Epoch 1/30\n",
      "344/344 [==============================] - 10s 24ms/step - loss: 0.6643 - cosine_similarity: 0.7280 - top_k_categorical_accuracy: 0.6303 - val_loss: 0.6637 - val_cosine_similarity: 0.7280 - val_top_k_categorical_accuracy: 0.6295\n",
      "Epoch 2/30\n",
      "344/344 [==============================] - 2s 6ms/step - loss: 0.6616 - cosine_similarity: 0.7295 - top_k_categorical_accuracy: 0.6325 - val_loss: 0.6617 - val_cosine_similarity: 0.7293 - val_top_k_categorical_accuracy: 0.6309\n",
      "Epoch 3/30\n",
      "344/344 [==============================] - 2s 6ms/step - loss: 0.6596 - cosine_similarity: 0.7306 - top_k_categorical_accuracy: 0.6338 - val_loss: 0.6600 - val_cosine_similarity: 0.7303 - val_top_k_categorical_accuracy: 0.6325\n",
      "Epoch 4/30\n",
      "344/344 [==============================] - 2s 6ms/step - loss: 0.6578 - cosine_similarity: 0.7317 - top_k_categorical_accuracy: 0.6349 - val_loss: 0.6585 - val_cosine_similarity: 0.7311 - val_top_k_categorical_accuracy: 0.6323\n",
      "Epoch 5/30\n",
      "344/344 [==============================] - 2s 6ms/step - loss: 0.6564 - cosine_similarity: 0.7325 - top_k_categorical_accuracy: 0.6359 - val_loss: 0.6574 - val_cosine_similarity: 0.7318 - val_top_k_categorical_accuracy: 0.6329\n",
      "Epoch 6/30\n",
      "344/344 [==============================] - 2s 6ms/step - loss: 0.6552 - cosine_similarity: 0.7332 - top_k_categorical_accuracy: 0.6364 - val_loss: 0.6564 - val_cosine_similarity: 0.7324 - val_top_k_categorical_accuracy: 0.6336\n",
      "Epoch 7/30\n",
      "344/344 [==============================] - 2s 6ms/step - loss: 0.6542 - cosine_similarity: 0.7337 - top_k_categorical_accuracy: 0.6365 - val_loss: 0.6555 - val_cosine_similarity: 0.7329 - val_top_k_categorical_accuracy: 0.6335\n",
      "Epoch 8/30\n",
      "344/344 [==============================] - 2s 6ms/step - loss: 0.6532 - cosine_similarity: 0.7343 - top_k_categorical_accuracy: 0.6368 - val_loss: 0.6547 - val_cosine_similarity: 0.7333 - val_top_k_categorical_accuracy: 0.6335\n",
      "Epoch 9/30\n",
      "344/344 [==============================] - 2s 6ms/step - loss: 0.6525 - cosine_similarity: 0.7348 - top_k_categorical_accuracy: 0.6366 - val_loss: 0.6540 - val_cosine_similarity: 0.7337 - val_top_k_categorical_accuracy: 0.6341\n",
      "Epoch 10/30\n",
      "344/344 [==============================] - 2s 7ms/step - loss: 0.6519 - cosine_similarity: 0.7351 - top_k_categorical_accuracy: 0.6366 - val_loss: 0.6534 - val_cosine_similarity: 0.7341 - val_top_k_categorical_accuracy: 0.6348\n",
      "Epoch 11/30\n",
      "344/344 [==============================] - 2s 6ms/step - loss: 0.6514 - cosine_similarity: 0.7354 - top_k_categorical_accuracy: 0.6369 - val_loss: 0.6529 - val_cosine_similarity: 0.7344 - val_top_k_categorical_accuracy: 0.6345\n",
      "Epoch 12/30\n",
      "344/344 [==============================] - 2s 6ms/step - loss: 0.6505 - cosine_similarity: 0.7359 - top_k_categorical_accuracy: 0.6373 - val_loss: 0.6525 - val_cosine_similarity: 0.7347 - val_top_k_categorical_accuracy: 0.6347\n",
      "Epoch 13/30\n",
      "344/344 [==============================] - 2s 6ms/step - loss: 0.6503 - cosine_similarity: 0.7360 - top_k_categorical_accuracy: 0.6369 - val_loss: 0.6520 - val_cosine_similarity: 0.7349 - val_top_k_categorical_accuracy: 0.6348\n",
      "Epoch 14/30\n",
      "344/344 [==============================] - 2s 5ms/step - loss: 0.6498 - cosine_similarity: 0.7364 - top_k_categorical_accuracy: 0.6374 - val_loss: 0.6516 - val_cosine_similarity: 0.7352 - val_top_k_categorical_accuracy: 0.6345\n",
      "Epoch 15/30\n",
      "344/344 [==============================] - 2s 6ms/step - loss: 0.6495 - cosine_similarity: 0.7366 - top_k_categorical_accuracy: 0.6372 - val_loss: 0.6513 - val_cosine_similarity: 0.7354 - val_top_k_categorical_accuracy: 0.6345\n",
      "Epoch 16/30\n",
      "344/344 [==============================] - 2s 6ms/step - loss: 0.6491 - cosine_similarity: 0.7368 - top_k_categorical_accuracy: 0.6372 - val_loss: 0.6509 - val_cosine_similarity: 0.7356 - val_top_k_categorical_accuracy: 0.6356\n",
      "Epoch 17/30\n",
      "344/344 [==============================] - 2s 6ms/step - loss: 0.6487 - cosine_similarity: 0.7370 - top_k_categorical_accuracy: 0.6372 - val_loss: 0.6507 - val_cosine_similarity: 0.7358 - val_top_k_categorical_accuracy: 0.6361\n",
      "Epoch 18/30\n",
      "344/344 [==============================] - 2s 6ms/step - loss: 0.6484 - cosine_similarity: 0.7372 - top_k_categorical_accuracy: 0.6374 - val_loss: 0.6503 - val_cosine_similarity: 0.7359 - val_top_k_categorical_accuracy: 0.6354\n",
      "Epoch 19/30\n",
      "344/344 [==============================] - 2s 6ms/step - loss: 0.6481 - cosine_similarity: 0.7374 - top_k_categorical_accuracy: 0.6372 - val_loss: 0.6501 - val_cosine_similarity: 0.7361 - val_top_k_categorical_accuracy: 0.6355\n",
      "Epoch 20/30\n",
      "344/344 [==============================] - 2s 6ms/step - loss: 0.6479 - cosine_similarity: 0.7375 - top_k_categorical_accuracy: 0.6375 - val_loss: 0.6499 - val_cosine_similarity: 0.7362 - val_top_k_categorical_accuracy: 0.6357\n",
      "Epoch 21/30\n",
      "344/344 [==============================] - 2s 6ms/step - loss: 0.6477 - cosine_similarity: 0.7377 - top_k_categorical_accuracy: 0.6374 - val_loss: 0.6496 - val_cosine_similarity: 0.7364 - val_top_k_categorical_accuracy: 0.6363\n",
      "Epoch 22/30\n",
      "344/344 [==============================] - 2s 5ms/step - loss: 0.6475 - cosine_similarity: 0.7377 - top_k_categorical_accuracy: 0.6372 - val_loss: 0.6494 - val_cosine_similarity: 0.7365 - val_top_k_categorical_accuracy: 0.6364\n",
      "Epoch 23/30\n",
      "344/344 [==============================] - 2s 5ms/step - loss: 0.6473 - cosine_similarity: 0.7379 - top_k_categorical_accuracy: 0.6374 - val_loss: 0.6492 - val_cosine_similarity: 0.7366 - val_top_k_categorical_accuracy: 0.6359\n",
      "Epoch 24/30\n",
      "344/344 [==============================] - 2s 5ms/step - loss: 0.6469 - cosine_similarity: 0.7381 - top_k_categorical_accuracy: 0.6379 - val_loss: 0.6490 - val_cosine_similarity: 0.7367 - val_top_k_categorical_accuracy: 0.6361\n",
      "Epoch 25/30\n",
      "344/344 [==============================] - 2s 5ms/step - loss: 0.6468 - cosine_similarity: 0.7382 - top_k_categorical_accuracy: 0.6382 - val_loss: 0.6489 - val_cosine_similarity: 0.7369 - val_top_k_categorical_accuracy: 0.6356\n",
      "Epoch 26/30\n",
      "344/344 [==============================] - 2s 5ms/step - loss: 0.6466 - cosine_similarity: 0.7383 - top_k_categorical_accuracy: 0.6384 - val_loss: 0.6487 - val_cosine_similarity: 0.7370 - val_top_k_categorical_accuracy: 0.6360\n",
      "Epoch 27/30\n",
      "344/344 [==============================] - 2s 5ms/step - loss: 0.6465 - cosine_similarity: 0.7384 - top_k_categorical_accuracy: 0.6387 - val_loss: 0.6485 - val_cosine_similarity: 0.7371 - val_top_k_categorical_accuracy: 0.6364\n",
      "Epoch 28/30\n",
      "344/344 [==============================] - 1s 4ms/step - loss: 0.6463 - cosine_similarity: 0.7385 - top_k_categorical_accuracy: 0.6394 - val_loss: 0.6484 - val_cosine_similarity: 0.7371 - val_top_k_categorical_accuracy: 0.6366\n",
      "Epoch 29/30\n",
      "344/344 [==============================] - 1s 4ms/step - loss: 0.6462 - cosine_similarity: 0.7386 - top_k_categorical_accuracy: 0.6396 - val_loss: 0.6482 - val_cosine_similarity: 0.7372 - val_top_k_categorical_accuracy: 0.6367\n",
      "Epoch 30/30\n",
      "344/344 [==============================] - 1s 4ms/step - loss: 0.6462 - cosine_similarity: 0.7386 - top_k_categorical_accuracy: 0.6394 - val_loss: 0.6481 - val_cosine_similarity: 0.7373 - val_top_k_categorical_accuracy: 0.6373\n"
     ]
    }
   ],
   "source": [
    "history = model.fit(\n",
    "    x=train_data,\n",
    "    epochs=EPOCHS,\n",
    "    callbacks=[tensorboard_callback],\n",
    "    validation_data=valid_data\n",
    ")"
   ]
  },
  {
   "cell_type": "markdown",
   "id": "177de451-f03a-495d-a09d-755626fce563",
   "metadata": {},
   "source": [
    "## Evaluate the model"
   ]
  },
  {
   "cell_type": "code",
   "execution_count": 14,
   "id": "9d0f540d-a99b-405b-8d05-f138f55a95e5",
   "metadata": {},
   "outputs": [
    {
     "name": "stdout",
     "output_type": "stream",
     "text": [
      "43/43 [==============================] - 0s 3ms/step - loss: 0.6477 - cosine_similarity: 0.7376 - top_k_categorical_accuracy: 0.6367\n"
     ]
    }
   ],
   "source": [
    "result = model.evaluate(\n",
    "    x=test_data,\n",
    "    return_dict=True\n",
    ")"
   ]
  },
  {
   "cell_type": "code",
   "execution_count": 15,
   "id": "296385b0-a5b1-43eb-9aa8-59c7e15a036b",
   "metadata": {},
   "outputs": [
    {
     "name": "stdout",
     "output_type": "stream",
     "text": [
      "loss                 0.6477\n",
      "cosine_similarity    0.7376\n",
      "top_k_categorical_accuracy 0.6367\n"
     ]
    }
   ],
   "source": [
    "for name, val in result.items():\n",
    "    print(\"{:20s} {:.4f}\".format(name, val))"
   ]
  },
  {
   "cell_type": "markdown",
   "id": "570cabab-3653-4151-a2a7-051680c25de8",
   "metadata": {},
   "source": [
    "## Save the model"
   ]
  },
  {
   "cell_type": "code",
   "execution_count": 16,
   "id": "416ba8a8-9e6d-4d5e-9685-e211f2f759f4",
   "metadata": {},
   "outputs": [
    {
     "name": "stdout",
     "output_type": "stream",
     "text": [
      "INFO:tensorflow:Assets written to: ./data/models/lr_20210912-231534/assets\n"
     ]
    }
   ],
   "source": [
    "model.save(SAVE_LOC)"
   ]
  },
  {
   "cell_type": "code",
   "execution_count": null,
   "id": "82f86cd8-cb7a-4913-8b67-e398bcdf2e3a",
   "metadata": {},
   "outputs": [],
   "source": []
  }
 ],
 "metadata": {
  "kernelspec": {
   "display_name": "Python [conda env:st3107-tfgpu] *",
   "language": "python",
   "name": "conda-env-st3107-tfgpu-py"
  },
  "language_info": {
   "codemirror_mode": {
    "name": "ipython",
    "version": 3
   },
   "file_extension": ".py",
   "mimetype": "text/x-python",
   "name": "python",
   "nbconvert_exporter": "python",
   "pygments_lexer": "ipython3",
   "version": "3.9.6"
  }
 },
 "nbformat": 4,
 "nbformat_minor": 5
}
